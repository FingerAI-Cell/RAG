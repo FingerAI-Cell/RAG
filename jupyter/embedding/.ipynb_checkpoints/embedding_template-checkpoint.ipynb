{
 "cells": [
  {
   "cell_type": "markdown",
   "id": "803a4d10-ae56-4230-82d9-aad234db4e20",
   "metadata": {},
   "source": [
    "### Default Setting"
   ]
  },
  {
   "cell_type": "code",
   "execution_count": 1,
   "id": "50d7e256-fd5f-4b60-9672-c1f591726749",
   "metadata": {},
   "outputs": [],
   "source": [
    "import os\n",
    "import pandas as pd \n",
    "import numpy as np \n",
    "import torch\n",
    "from transformers import AutoTokenizer, AutoModel\n",
    "from sentence_transformers import SentenceTransformer, util"
   ]
  },
  {
   "cell_type": "code",
   "execution_count": 2,
   "id": "871c761b-10a3-4b4e-8f37-729cbe790a61",
   "metadata": {},
   "outputs": [],
   "source": [
    "default_path = os.getcwd()"
   ]
  },
  {
   "cell_type": "code",
   "execution_count": 3,
   "id": "8dcf181c-71a4-4f32-a442-94a6cbe1933f",
   "metadata": {},
   "outputs": [],
   "source": [
    "# Mean Pooling - Take attention mask into account for correct averaging\n",
    "def mean_pooling(model_output, attention_mask):\n",
    "    token_embeddings = model_output[0] # First element of model_output contains all token embeddings\n",
    "    input_mask_expanded = attention_mask.unsqueeze(-1).expand(token_embeddings.size()).float()\n",
    "    return torch.sum(token_embeddings * input_mask_expanded, 1) / torch.clamp(input_mask_expanded.sum(1), min=1e-9)"
   ]
  },
  {
   "cell_type": "markdown",
   "id": "cb779183-d40d-4d74-83d2-a47b801c53c2",
   "metadata": {},
   "source": [
    "### Hugging Face Embedding"
   ]
  },
  {
   "cell_type": "code",
   "execution_count": 15,
   "id": "08876a25-e3cb-4935-b89e-0f4bacf780bb",
   "metadata": {},
   "outputs": [],
   "source": [
    "model_name = 'upskyy/kf-deberta-multitask'"
   ]
  },
  {
   "cell_type": "code",
   "execution_count": 16,
   "id": "1a730134-5776-4c4b-87b0-aa2a59f5a05d",
   "metadata": {},
   "outputs": [],
   "source": [
    "sentences = [\"금리가 물가에 미치는 영향을 설명해주세요\"]"
   ]
  },
  {
   "cell_type": "code",
   "execution_count": 17,
   "id": "2c1aad2a-0a99-46d5-a72b-ed9e23faf611",
   "metadata": {},
   "outputs": [
    {
     "data": {
      "application/vnd.jupyter.widget-view+json": {
       "model_id": "7c824de8943d42549542e5611dab761a",
       "version_major": 2,
       "version_minor": 0
      },
      "text/plain": [
       "tokenizer_config.json:   0%|          | 0.00/1.28k [00:00<?, ?B/s]"
      ]
     },
     "metadata": {},
     "output_type": "display_data"
    },
    {
     "data": {
      "application/vnd.jupyter.widget-view+json": {
       "model_id": "c747ca8c75c34a24a45a1d5bea981254",
       "version_major": 2,
       "version_minor": 0
      },
      "text/plain": [
       "vocab.txt:   0%|          | 0.00/1.09M [00:00<?, ?B/s]"
      ]
     },
     "metadata": {},
     "output_type": "display_data"
    },
    {
     "data": {
      "application/vnd.jupyter.widget-view+json": {
       "model_id": "cdc5f6f813204b2fbb40361dc1dcfe65",
       "version_major": 2,
       "version_minor": 0
      },
      "text/plain": [
       "tokenizer.json:   0%|          | 0.00/3.19M [00:00<?, ?B/s]"
      ]
     },
     "metadata": {},
     "output_type": "display_data"
    },
    {
     "data": {
      "application/vnd.jupyter.widget-view+json": {
       "model_id": "7870b26894394bf5aeabc8cb040e68c7",
       "version_major": 2,
       "version_minor": 0
      },
      "text/plain": [
       "special_tokens_map.json:   0%|          | 0.00/971 [00:00<?, ?B/s]"
      ]
     },
     "metadata": {},
     "output_type": "display_data"
    },
    {
     "data": {
      "application/vnd.jupyter.widget-view+json": {
       "model_id": "fe89afa63b7b4f0485cf14ee84176205",
       "version_major": 2,
       "version_minor": 0
      },
      "text/plain": [
       "config.json:   0%|          | 0.00/907 [00:00<?, ?B/s]"
      ]
     },
     "metadata": {},
     "output_type": "display_data"
    },
    {
     "data": {
      "application/vnd.jupyter.widget-view+json": {
       "model_id": "6e0337c965734823ae2368e7ecdec70f",
       "version_major": 2,
       "version_minor": 0
      },
      "text/plain": [
       "model.safetensors:   0%|          | 0.00/741M [00:00<?, ?B/s]"
      ]
     },
     "metadata": {},
     "output_type": "display_data"
    }
   ],
   "source": [
    "# Load model from HuggingFace Hub\n",
    "tokenizer = AutoTokenizer.from_pretrained(model_name)\n",
    "model = AutoModel.from_pretrained(model_name)"
   ]
  },
  {
   "cell_type": "code",
   "execution_count": 18,
   "id": "2bb99f14-99a5-4c5f-8068-e707f18826ae",
   "metadata": {},
   "outputs": [
    {
     "data": {
      "text/plain": [
       "130000"
      ]
     },
     "execution_count": 18,
     "metadata": {},
     "output_type": "execute_result"
    }
   ],
   "source": [
    "len(tokenizer.vocab)"
   ]
  },
  {
   "cell_type": "code",
   "execution_count": 19,
   "id": "921ff576-50f2-4cb9-96d8-4a7c857dc439",
   "metadata": {},
   "outputs": [
    {
     "data": {
      "text/plain": [
       "BertTokenizerFast(name_or_path='upskyy/kf-deberta-multitask', vocab_size=130000, model_max_length=512, is_fast=True, padding_side='right', truncation_side='right', special_tokens={'bos_token': '[CLS]', 'eos_token': '[SEP]', 'unk_token': '[UNK]', 'sep_token': '[SEP]', 'pad_token': '[PAD]', 'cls_token': '[CLS]', 'mask_token': '[MASK]'}, clean_up_tokenization_spaces=True),  added_tokens_decoder={\n",
       "\t0: AddedToken(\"[PAD]\", rstrip=False, lstrip=False, single_word=False, normalized=False, special=True),\n",
       "\t1: AddedToken(\"[UNK]\", rstrip=False, lstrip=False, single_word=False, normalized=False, special=True),\n",
       "\t2: AddedToken(\"[CLS]\", rstrip=False, lstrip=False, single_word=False, normalized=False, special=True),\n",
       "\t3: AddedToken(\"[SEP]\", rstrip=False, lstrip=False, single_word=False, normalized=False, special=True),\n",
       "\t4: AddedToken(\"[MASK]\", rstrip=False, lstrip=False, single_word=False, normalized=False, special=True),\n",
       "}"
      ]
     },
     "execution_count": 19,
     "metadata": {},
     "output_type": "execute_result"
    }
   ],
   "source": [
    "tokenizer"
   ]
  },
  {
   "cell_type": "code",
   "execution_count": 20,
   "id": "3d2fe988-be98-4721-b620-53c6895ab730",
   "metadata": {},
   "outputs": [
    {
     "name": "stdout",
     "output_type": "stream",
     "text": [
      "Sentence embeddings:\n",
      "tensor([-0.7254, -0.8106, -0.3931, -1.5228,  0.5842])\n"
     ]
    }
   ],
   "source": [
    "# Tokenize sentences\n",
    "encoded_input = tokenizer(sentences, padding=True, truncation=True, return_tensors='pt')\n",
    "\n",
    "# Compute token embeddings\n",
    "with torch.no_grad():\n",
    "    model_output = model(**encoded_input)\n",
    "\n",
    "# Perform pooling. In this case, mean pooling.\n",
    "sentence_embeddings = mean_pooling(model_output, encoded_input['attention_mask'])\n",
    "\n",
    "print(\"Sentence embeddings:\")\n",
    "print(sentence_embeddings[0][:5])"
   ]
  },
  {
   "cell_type": "code",
   "execution_count": 21,
   "id": "6d5627a6-8e7d-4581-9fa3-c0e28dacd791",
   "metadata": {},
   "outputs": [
    {
     "data": {
      "text/plain": [
       "['금리',\n",
       " '##가',\n",
       " '물가',\n",
       " '##에',\n",
       " '미치',\n",
       " '##는',\n",
       " '영향',\n",
       " '##을',\n",
       " '설명',\n",
       " '##해',\n",
       " '##주',\n",
       " '##세요']"
      ]
     },
     "execution_count": 21,
     "metadata": {},
     "output_type": "execute_result"
    }
   ],
   "source": [
    "tokenized_sequence = tokenizer.tokenize(sentences[0])\n",
    "tokenized_sequence"
   ]
  },
  {
   "cell_type": "code",
   "execution_count": 22,
   "id": "8bd64d58-4bdd-48fd-bbb0-129b22ec1f71",
   "metadata": {},
   "outputs": [
    {
     "data": {
      "text/plain": [
       "[2,\n",
       " 505,\n",
       " 126001,\n",
       " 1500,\n",
       " 125999,\n",
       " 1962,\n",
       " 125998,\n",
       " 608,\n",
       " 126000,\n",
       " 541,\n",
       " 126021,\n",
       " 126042,\n",
       " 3516,\n",
       " 3]"
      ]
     },
     "execution_count": 22,
     "metadata": {},
     "output_type": "execute_result"
    }
   ],
   "source": [
    "encoded_token = tokenizer.encode(sentences[0])\n",
    "encoded_token"
   ]
  },
  {
   "cell_type": "code",
   "execution_count": 23,
   "id": "1871abee-456a-437c-b563-06330726ff4f",
   "metadata": {},
   "outputs": [
    {
     "data": {
      "text/plain": [
       "['[CLS]',\n",
       " '금리',\n",
       " '##가',\n",
       " '물가',\n",
       " '##에',\n",
       " '미치',\n",
       " '##는',\n",
       " '영향',\n",
       " '##을',\n",
       " '설명',\n",
       " '##해',\n",
       " '##주',\n",
       " '##세요',\n",
       " '[SEP]']"
      ]
     },
     "execution_count": 23,
     "metadata": {},
     "output_type": "execute_result"
    }
   ],
   "source": [
    "tokenizer.convert_ids_to_tokens(encoded_token)"
   ]
  },
  {
   "cell_type": "code",
   "execution_count": 24,
   "id": "eb434bfd-5515-4542-bf19-1d8aa78c5f6a",
   "metadata": {},
   "outputs": [
    {
     "data": {
      "text/plain": [
       "'[CLS] 금리가 물가에 미치는 영향을 설명해주세요 [SEP]'"
      ]
     },
     "execution_count": 24,
     "metadata": {},
     "output_type": "execute_result"
    }
   ],
   "source": [
    "tokenizer.decode(encoded_token)"
   ]
  },
  {
   "cell_type": "markdown",
   "id": "d8169ae8-e2b6-40f9-aaf2-344f929f872e",
   "metadata": {},
   "source": [
    "### Sentence Transformers Embedding"
   ]
  },
  {
   "cell_type": "code",
   "execution_count": 25,
   "id": "7bc45a2e-44d1-4507-a7de-810a49e3e0f6",
   "metadata": {},
   "outputs": [
    {
     "data": {
      "application/vnd.jupyter.widget-view+json": {
       "model_id": "edda94f0d3a143faa598a1784cd60fdb",
       "version_major": 2,
       "version_minor": 0
      },
      "text/plain": [
       ".gitattributes:   0%|          | 0.00/1.52k [00:00<?, ?B/s]"
      ]
     },
     "metadata": {},
     "output_type": "display_data"
    },
    {
     "data": {
      "application/vnd.jupyter.widget-view+json": {
       "model_id": "cce292fcd60241e98833bfe7fbf4de4f",
       "version_major": 2,
       "version_minor": 0
      },
      "text/plain": [
       "1_Pooling/config.json:   0%|          | 0.00/190 [00:00<?, ?B/s]"
      ]
     },
     "metadata": {},
     "output_type": "display_data"
    },
    {
     "data": {
      "application/vnd.jupyter.widget-view+json": {
       "model_id": "2acfcca1df944ab28da52e35304095b3",
       "version_major": 2,
       "version_minor": 0
      },
      "text/plain": [
       "README.md:   0%|          | 0.00/6.64k [00:00<?, ?B/s]"
      ]
     },
     "metadata": {},
     "output_type": "display_data"
    },
    {
     "data": {
      "application/vnd.jupyter.widget-view+json": {
       "model_id": "b48c45e7a748439495d0fe7274471f75",
       "version_major": 2,
       "version_minor": 0
      },
      "text/plain": [
       "config.json:   0%|          | 0.00/907 [00:00<?, ?B/s]"
      ]
     },
     "metadata": {},
     "output_type": "display_data"
    },
    {
     "data": {
      "application/vnd.jupyter.widget-view+json": {
       "model_id": "48cf9b0f4ffc4c0caea06a3d74b2d40b",
       "version_major": 2,
       "version_minor": 0
      },
      "text/plain": [
       "config_sentence_transformers.json:   0%|          | 0.00/118 [00:00<?, ?B/s]"
      ]
     },
     "metadata": {},
     "output_type": "display_data"
    },
    {
     "data": {
      "application/vnd.jupyter.widget-view+json": {
       "model_id": "97c515833fcf428e986d1f5e221179ce",
       "version_major": 2,
       "version_minor": 0
      },
      "text/plain": [
       "(…)imilarity_evaluation_sts-dev_results.csv:   0%|          | 0.00/1.71k [00:00<?, ?B/s]"
      ]
     },
     "metadata": {},
     "output_type": "display_data"
    },
    {
     "data": {
      "application/vnd.jupyter.widget-view+json": {
       "model_id": "3084535dd7ab4e14a506df4d47f2ae8b",
       "version_major": 2,
       "version_minor": 0
      },
      "text/plain": [
       "model.safetensors:   0%|          | 0.00/741M [00:00<?, ?B/s]"
      ]
     },
     "metadata": {},
     "output_type": "display_data"
    },
    {
     "data": {
      "application/vnd.jupyter.widget-view+json": {
       "model_id": "1240878e86974fb8a702c0c5a6a45265",
       "version_major": 2,
       "version_minor": 0
      },
      "text/plain": [
       "pytorch_model.bin:   0%|          | 0.00/741M [00:00<?, ?B/s]"
      ]
     },
     "metadata": {},
     "output_type": "display_data"
    },
    {
     "data": {
      "application/vnd.jupyter.widget-view+json": {
       "model_id": "99b85a829c4e43e684728e2f89aebb23",
       "version_major": 2,
       "version_minor": 0
      },
      "text/plain": [
       "sentence_bert_config.json:   0%|          | 0.00/53.0 [00:00<?, ?B/s]"
      ]
     },
     "metadata": {},
     "output_type": "display_data"
    },
    {
     "data": {
      "application/vnd.jupyter.widget-view+json": {
       "model_id": "846b82b3e6ba4723b88d00a7c1a2c24c",
       "version_major": 2,
       "version_minor": 0
      },
      "text/plain": [
       "(…)milarity_evaluation_sts-test_results.csv:   0%|          | 0.00/302 [00:00<?, ?B/s]"
      ]
     },
     "metadata": {},
     "output_type": "display_data"
    },
    {
     "data": {
      "application/vnd.jupyter.widget-view+json": {
       "model_id": "41698e53aa1f49e0bf9b0ee13163a3de",
       "version_major": 2,
       "version_minor": 0
      },
      "text/plain": [
       "special_tokens_map.json:   0%|          | 0.00/971 [00:00<?, ?B/s]"
      ]
     },
     "metadata": {},
     "output_type": "display_data"
    },
    {
     "data": {
      "application/vnd.jupyter.widget-view+json": {
       "model_id": "5515c57ed8cb40c3968e44f6933d36c8",
       "version_major": 2,
       "version_minor": 0
      },
      "text/plain": [
       "tokenizer.json:   0%|          | 0.00/3.19M [00:00<?, ?B/s]"
      ]
     },
     "metadata": {},
     "output_type": "display_data"
    },
    {
     "data": {
      "application/vnd.jupyter.widget-view+json": {
       "model_id": "528839dcb95343d8b278cf15b3ac2eb6",
       "version_major": 2,
       "version_minor": 0
      },
      "text/plain": [
       "tokenizer_config.json:   0%|          | 0.00/1.28k [00:00<?, ?B/s]"
      ]
     },
     "metadata": {},
     "output_type": "display_data"
    },
    {
     "data": {
      "application/vnd.jupyter.widget-view+json": {
       "model_id": "ce79a2451e2f4bf8ad879aa81c947f6f",
       "version_major": 2,
       "version_minor": 0
      },
      "text/plain": [
       "vocab.txt:   0%|          | 0.00/1.09M [00:00<?, ?B/s]"
      ]
     },
     "metadata": {},
     "output_type": "display_data"
    },
    {
     "data": {
      "application/vnd.jupyter.widget-view+json": {
       "model_id": "62935007ca134736b25d0a19d82a89d8",
       "version_major": 2,
       "version_minor": 0
      },
      "text/plain": [
       "modules.json:   0%|          | 0.00/229 [00:00<?, ?B/s]"
      ]
     },
     "metadata": {},
     "output_type": "display_data"
    },
    {
     "name": "stdout",
     "output_type": "stream",
     "text": [
      "[ 0.93365926 -2.138992   -0.08778528 -1.0112844   0.3569459 ]\n"
     ]
    }
   ],
   "source": [
    "sentences = [\"한국어 문장 임베딩을 위한 버트 모델입니다.\"]\n",
    "\n",
    "model = SentenceTransformer(model_name)\n",
    "embeddings = model.encode(sentences)\n",
    "print(embeddings[0][:5])"
   ]
  },
  {
   "cell_type": "markdown",
   "id": "bfe8c5de-4722-4006-90e5-d9c17f3b8476",
   "metadata": {},
   "source": [
    "### Llama Index"
   ]
  },
  {
   "cell_type": "code",
   "execution_count": null,
   "id": "1dd210ac-558e-4424-a94e-e5afc0ba19b8",
   "metadata": {},
   "outputs": [],
   "source": [
    "from llama_index.embeddings import HuggingFaceEmbedding\n",
    "\n",
    "model_name = 'upskyy/kf-deberta-multitask'\n",
    "embed_model = HuggingFaceEmbedding(model_name=model_name)"
   ]
  },
  {
   "cell_type": "code",
   "execution_count": null,
   "id": "8e59044a-6082-4e8f-8e27-4bc855561684",
   "metadata": {},
   "outputs": [],
   "source": []
  },
  {
   "cell_type": "code",
   "execution_count": null,
   "id": "6ef1fd60-3ed9-4c2c-b2d6-281a0f59aae6",
   "metadata": {},
   "outputs": [],
   "source": []
  },
  {
   "cell_type": "markdown",
   "id": "d06ff42c-a40b-4c1e-9ff2-234f0d19b724",
   "metadata": {},
   "source": [
    "### langchain"
   ]
  },
  {
   "cell_type": "code",
   "execution_count": 32,
   "id": "e21f9a6b-1cf7-4f9b-aea5-861cc42301ac",
   "metadata": {},
   "outputs": [
    {
     "data": {
      "text/plain": [
       "ServiceContext(llm_predictor=LLMPredictor(system_prompt=None, query_wrapper_prompt=None, pydantic_program_mode=<PydanticProgramMode.DEFAULT: 'default'>), prompt_helper=PromptHelper(context_window=4096, num_output=256, chunk_overlap_ratio=0.1, chunk_size_limit=None, separator=' '), embed_model=LangchainEmbedding(model_name='upskyy/kf-deberta-multitask', embed_batch_size=10, callback_manager=<llama_index.callbacks.base.CallbackManager object at 0x7fc3bd927370>), transformations=[SentenceSplitter(include_metadata=True, include_prev_next_rel=True, callback_manager=<llama_index.callbacks.base.CallbackManager object at 0x7fc3bd927370>, id_func=<function default_id_func at 0x7fc36d91da20>, chunk_size=1024, chunk_overlap=200, separator=' ', paragraph_separator='\\n\\n\\n', secondary_chunking_regex='[^,.;。？！]+[,.;。？！]?')], llama_logger=<llama_index.logger.base.LlamaLogger object at 0x7fc36d79ee30>, callback_manager=<llama_index.callbacks.base.CallbackManager object at 0x7fc3bd927370>)"
      ]
     },
     "execution_count": 32,
     "metadata": {},
     "output_type": "execute_result"
    }
   ],
   "source": [
    "from langchain.embeddings.huggingface import HuggingFaceBgeEmbeddings\n",
    "from llama_index import ServiceContext\n",
    "\n",
    "embed_model = HuggingFaceBgeEmbeddings(model_name=model_name)\n",
    "service_context = ServiceContext.from_defaults(embed_model=embed_model)\n",
    "service_context"
   ]
  },
  {
   "cell_type": "code",
   "execution_count": 37,
   "id": "c65b6430-03f5-43d4-885a-4c8cbd6c50be",
   "metadata": {},
   "outputs": [
    {
     "data": {
      "text/plain": [
       "((768,),\n",
       " [1.020362138748169,\n",
       "  -1.7872436046600342,\n",
       "  -0.18053998053073883,\n",
       "  -0.7021831274032593,\n",
       "  0.3475668728351593])"
      ]
     },
     "execution_count": 37,
     "metadata": {},
     "output_type": "execute_result"
    }
   ],
   "source": [
    "embeddings = embed_model.embed_query(sentences[0])\n",
    "np.shape(embeddings), embeddings[:5]"
   ]
  },
  {
   "cell_type": "code",
   "execution_count": null,
   "id": "ef2c04d8-3e52-45af-bd7c-6cdeab8856d9",
   "metadata": {},
   "outputs": [],
   "source": []
  }
 ],
 "metadata": {
  "kernelspec": {
   "display_name": "Python 3 (ipykernel)",
   "language": "python",
   "name": "python3"
  },
  "language_info": {
   "codemirror_mode": {
    "name": "ipython",
    "version": 3
   },
   "file_extension": ".py",
   "mimetype": "text/x-python",
   "name": "python",
   "nbconvert_exporter": "python",
   "pygments_lexer": "ipython3",
   "version": "3.10.13"
  }
 },
 "nbformat": 4,
 "nbformat_minor": 5
}
