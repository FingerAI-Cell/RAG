{
 "cells": [
  {
   "cell_type": "raw",
   "id": "2c0e4850-5fd9-46bf-9e15-763c8426897a",
   "metadata": {},
   "source": [
    "### Embedding Model Create & Fine-tune"
   ]
  },
  {
   "cell_type": "code",
   "execution_count": null,
   "id": "0d5b918f-7bee-434a-a01f-6f860347c592",
   "metadata": {},
   "outputs": [],
   "source": []
  },
  {
   "cell_type": "code",
   "execution_count": null,
   "id": "fdc9ad21-0c49-45b2-b713-049b65c2a1e6",
   "metadata": {},
   "outputs": [],
   "source": [
    "### Adapter "
   ]
  },
  {
   "cell_type": "code",
   "execution_count": null,
   "id": "5164807a-ddfc-4ea1-a30c-64017f8e276a",
   "metadata": {},
   "outputs": [],
   "source": []
  },
  {
   "cell_type": "code",
   "execution_count": null,
   "id": "154ef499-7db2-44de-8e7a-76a8bf3767db",
   "metadata": {},
   "outputs": [],
   "source": []
  }
 ],
 "metadata": {
  "kernelspec": {
   "display_name": "Python 3 (ipykernel)",
   "language": "python",
   "name": "python3"
  },
  "language_info": {
   "codemirror_mode": {
    "name": "ipython",
    "version": 3
   },
   "file_extension": ".py",
   "mimetype": "text/x-python",
   "name": "python",
   "nbconvert_exporter": "python",
   "pygments_lexer": "ipython3",
   "version": "3.10.13"
  }
 },
 "nbformat": 4,
 "nbformat_minor": 5
}
