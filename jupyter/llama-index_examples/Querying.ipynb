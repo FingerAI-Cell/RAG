{
 "cells": [
  {
   "cell_type": "raw",
   "id": "efeb46f3-1cdb-4bfc-8f87-fccbdbd98203",
   "metadata": {},
   "source": [
    "Stages of querying \n",
    "\n",
    "step 1: Retrieval    - find and return most relevant document\n",
    "step 2: Postprocessing   - reranked, transformed, filtered for instance having specific metadata (e.g keyword attached) \n",
    "step 3: Response synthesis  - most-relevant data and prompt combined and sent to llm for a response "
   ]
  },
  {
   "cell_type": "code",
   "execution_count": 1,
   "id": "61e8bd9c-f23a-4946-8326-1a229cbd8bee",
   "metadata": {},
   "outputs": [],
   "source": [
    "from llama_index import VectorStoreIndex, SimpleDirectoryReader, ServiceContext\n",
    "from llama_index.vector_stores import ChromaVectorStore\n",
    "from llama_index.readers.chroma import ChromaReader\n",
    "from llama_index import StorageContext, load_index_from_storage, load_indices_from_storage\n",
    "# from transformers import AutoTokenizer, AutoModel\n",
    "from llama_index.embeddings import HuggingFaceEmbedding\n",
    "from llama_index.llms import HuggingFaceLLM\n",
    "from llama_index.node_parser import SentenceSplitter \n",
    "from llama_index.schema import MetadataMode\n",
    "from IPython.display import Markdown, display\n",
    "import chromadb\n",
    "import pandas as pd \n",
    "import openai\n",
    "import os\n",
    "import getpass"
   ]
  },
  {
   "cell_type": "code",
   "execution_count": 2,
   "id": "24c721da-ba41-4993-be62-d7e621332316",
   "metadata": {},
   "outputs": [],
   "source": [
    "data_path = os.path.join('/workspace/data/')\n",
    "index_path = os.path.join('/workspace/db/local')"
   ]
  },
  {
   "cell_type": "code",
   "execution_count": 3,
   "id": "ab337c73-8d43-4d14-b284-7442d1aa1397",
   "metadata": {},
   "outputs": [
    {
     "name": "stdin",
     "output_type": "stream",
     "text": [
      "OpenAI API Key: ········\n"
     ]
    }
   ],
   "source": [
    "os.environ[\"OPENAI_API_KEY\"] = getpass.getpass(\"OpenAI API Key:\")\n",
    "openai.api_key = os.environ[\"OPENAI_API_KEY\"]"
   ]
  },
  {
   "cell_type": "code",
   "execution_count": 6,
   "id": "b79bfa04-f538-41c7-9b87-af2f88f62c71",
   "metadata": {},
   "outputs": [],
   "source": [
    "model_name = 'kakaobank/kf-deberta-base'\n",
    "embed_model = HuggingFaceEmbedding(model_name=model_name)"
   ]
  },
  {
   "cell_type": "code",
   "execution_count": 5,
   "id": "12075847-3e8a-4c1f-a99a-817737bb0b26",
   "metadata": {},
   "outputs": [],
   "source": [
    "desc_storage_context = StorageContext.from_defaults(persist_dir=os.path.join(index_path, 'desc'))\n",
    "features_storage_context = StorageContext.from_defaults(persist_dir=os.path.join(index_path, 'features'))\n",
    "qualification_storage_context = StorageContext.from_defaults(persist_dir=os.path.join(index_path, 'qualification'))"
   ]
  },
  {
   "cell_type": "code",
   "execution_count": 7,
   "id": "456efc4c-dc66-4cba-936f-0d074182eb2f",
   "metadata": {},
   "outputs": [],
   "source": [
    "parser = SentenceSplitter(chunk_size=512, chunk_overlap=30)   # SentenceSplitter(chunk_size=1024, chunk_overlap=20)"
   ]
  },
  {
   "cell_type": "code",
   "execution_count": 8,
   "id": "d24f86f7-16f2-4769-bd1b-ac784ddf8b2e",
   "metadata": {
    "scrolled": true
   },
   "outputs": [
    {
     "name": "stdout",
     "output_type": "stream",
     "text": [
      "LLM is explicitly disabled. Using MockLLM.\n"
     ]
    }
   ],
   "source": [
    "service_context = ServiceContext.from_defaults(node_parser=parser, embed_model=embed_model, llm=None)"
   ]
  },
  {
   "cell_type": "code",
   "execution_count": 9,
   "id": "682b3d12-befd-4f80-8a7d-fbd6e0691539",
   "metadata": {},
   "outputs": [],
   "source": [
    "# service_context 전달 안해주면 query 시 dimension 오류 발생 \n",
    "features_idx = load_index_from_storage(features_storage_context, index_id='loan_tmp', service_context=service_context)\n",
    "desc_idx = load_indices_from_storage(desc_storage_context, index_ids=['card_tmp', 'loan_tmp', 'deposit_tmp'], service_context=service_context)\n",
    "qualification_idx = load_index_from_storage(qualification_storage_context, index_id='loan_tmp', service_context=service_context)"
   ]
  },
  {
   "cell_type": "code",
   "execution_count": 10,
   "id": "2dd671df-6fe5-45c0-962e-86bdf24fca25",
   "metadata": {
    "scrolled": true
   },
   "outputs": [
    {
     "data": {
      "text/plain": [
       "Response(response='Context information is below.\\n---------------------\\n서민금융진흥원의 보증을 통해 신청 가능한 카드\\n\\n군인연금수급자임을 증명하는 신분증 기능에 전국 군복지시설 및 5대 대표업종 청구할인, 버스요금 지원서비스\\n---------------------\\nGiven the context information and not prior knowledge, answer the query.\\nQuery: 보증 자격\\nAnswer: ', source_nodes=[NodeWithScore(node=TextNode(id_='902300ff-cbca-47f7-bd8d-5235a4c79b5c', embedding=None, metadata={'category': 'card'}, excluded_embed_metadata_keys=[], excluded_llm_metadata_keys=['category'], relationships={<NodeRelationship.SOURCE: '1'>: RelatedNodeInfo(node_id='카드_1016', node_type=<ObjectType.DOCUMENT: '4'>, metadata={'category': 'card'}, hash='f1d7cec412088a7b70fb8e6387a4e2eb1e735924b3add09139ec520f6b849c1f'), <NodeRelationship.PREVIOUS: '2'>: RelatedNodeInfo(node_id='5cd004e9-c047-437d-a69c-60ae0e78bff8', node_type=<ObjectType.TEXT: '1'>, metadata={'category': 'card'}, hash='07f50829d05259589f87b15fbb2aa65512a9f817d23e35896e89eed6b02d4a86'), <NodeRelationship.NEXT: '3'>: RelatedNodeInfo(node_id='206c2c2c-0d11-47f9-a8e9-af8b852845ee', node_type=<ObjectType.TEXT: '1'>, metadata={}, hash='4c30177fed83222468f96faa993e4a64ea70059be9d572e2bde3941b02476d07')}, hash='f1d7cec412088a7b70fb8e6387a4e2eb1e735924b3add09139ec520f6b849c1f', text='서민금융진흥원의 보증을 통해 신청 가능한 카드', start_char_idx=0, end_char_idx=25, text_template='{metadata_str}\\n\\n{content}', metadata_template='{key}: {value}', metadata_seperator='\\n'), score=0.6120229969209772), NodeWithScore(node=TextNode(id_='8f16525a-0d05-434b-9274-ac4e9fa2173f', embedding=None, metadata={'category': 'card'}, excluded_embed_metadata_keys=[], excluded_llm_metadata_keys=['category'], relationships={<NodeRelationship.SOURCE: '1'>: RelatedNodeInfo(node_id='카드_80', node_type=<ObjectType.DOCUMENT: '4'>, metadata={'category': 'card'}, hash='1ff417d5fd10754d6e3d7790653e6a95124af80aefb7295196a77710b2b9728f'), <NodeRelationship.PREVIOUS: '2'>: RelatedNodeInfo(node_id='769ff874-b7ea-4c7a-9939-3836f0a2648b', node_type=<ObjectType.TEXT: '1'>, metadata={'category': 'card'}, hash='c9d2e59df928a9a31a451231bbb57b70e2b639f572e27938d6a6f7053e68111f'), <NodeRelationship.NEXT: '3'>: RelatedNodeInfo(node_id='0f0ac24d-b7e7-48e1-92bb-19519434f2a2', node_type=<ObjectType.TEXT: '1'>, metadata={}, hash='e6776b478b3282e64ebda580e56de2a2032324ceb039498f956def57d3dbbca0')}, hash='1ff417d5fd10754d6e3d7790653e6a95124af80aefb7295196a77710b2b9728f', text='군인연금수급자임을 증명하는 신분증 기능에 전국 군복지시설 및 5대 대표업종 청구할인, 버스요금 지원서비스', start_char_idx=0, end_char_idx=58, text_template='{metadata_str}\\n\\n{content}', metadata_template='{key}: {value}', metadata_seperator='\\n'), score=0.6044373926139219)], metadata={'902300ff-cbca-47f7-bd8d-5235a4c79b5c': {'category': 'card'}, '8f16525a-0d05-434b-9274-ac4e9fa2173f': {'category': 'card'}})"
      ]
     },
     "execution_count": 10,
     "metadata": {},
     "output_type": "execute_result"
    }
   ],
   "source": [
    "query_engine = desc_idx[0].as_query_engine()\n",
    "query_engine.query('보증 자격')"
   ]
  },
  {
   "cell_type": "markdown",
   "id": "2e756157-f9fd-4574-aeb0-9b55e23d61e1",
   "metadata": {},
   "source": [
    "### Retrieve "
   ]
  },
  {
   "cell_type": "code",
   "execution_count": 11,
   "id": "4f5e1b50-408c-403f-9191-001fda807f3b",
   "metadata": {},
   "outputs": [],
   "source": [
    "from llama_index.retrievers import VectorIndexRetriever \n",
    "from llama_index.query_engine import RetrieverQueryEngine \n",
    "from llama_index.postprocessor import SimilarityPostprocessor "
   ]
  },
  {
   "cell_type": "code",
   "execution_count": 12,
   "id": "e902c486-a024-4142-b96a-6005c0aad740",
   "metadata": {},
   "outputs": [],
   "source": [
    "retriever = VectorIndexRetriever(\n",
    "    index = features_idx,\n",
    "    service_context=service_context,\n",
    "    similarity_top_k = 10, \n",
    "    verbose=True\n",
    ")"
   ]
  },
  {
   "cell_type": "code",
   "execution_count": 13,
   "id": "95754103-1dd6-4e6c-8705-51e31e891dd6",
   "metadata": {},
   "outputs": [],
   "source": [
    "from llama_index import QueryBundle \n",
    "\n",
    "nodes = retriever.retrieve(QueryBundle('보증 대출'))"
   ]
  },
  {
   "cell_type": "code",
   "execution_count": 14,
   "id": "5845d138-1a95-46df-a5e9-fab3db969f31",
   "metadata": {},
   "outputs": [
    {
     "name": "stdout",
     "output_type": "stream",
     "text": [
      "num of nodes: 10\n"
     ]
    },
    {
     "data": {
      "text/plain": [
       "('국민행복기금으로부터 신용보증서를 발급 받은 고객의 연20%이상의 고금리대출을 은행의 저금리 대출로 전환해주는 대출 상품',\n",
       " 0.721333835387794)"
      ]
     },
     "execution_count": 14,
     "metadata": {},
     "output_type": "execute_result"
    }
   ],
   "source": [
    "print(f'num of nodes: {len(nodes)}')\n",
    "nodes[1].text, nodes[1].score"
   ]
  },
  {
   "cell_type": "code",
   "execution_count": 15,
   "id": "b15634d8-9bcd-431b-a6c4-18e98d7cb28a",
   "metadata": {},
   "outputs": [
    {
     "data": {
      "text/plain": [
       "{<NodeRelationship.SOURCE: '1'>: RelatedNodeInfo(node_id='대출_852', node_type=<ObjectType.DOCUMENT: '4'>, metadata={'category': 'loan'}, hash='a60af23bbf14937554f340c059c7eb99ad0f0cfcf9d3d4f6527746d2375aa6ba'),\n",
       " <NodeRelationship.PREVIOUS: '2'>: RelatedNodeInfo(node_id='95435469-e1e8-428f-ade6-2ee2101f5924', node_type=<ObjectType.TEXT: '1'>, metadata={'category': 'loan'}, hash='efbbf86cada436a84c1203c58317827e0ca887812e09d5beb05c33accc12d6f0'),\n",
       " <NodeRelationship.NEXT: '3'>: RelatedNodeInfo(node_id='5ffb1ab1-6099-41f3-8b92-c0eb66f1ad78', node_type=<ObjectType.TEXT: '1'>, metadata={}, hash='556a6407d88aebf899ab1c287cc6db398c447d5032a4d4a23f905fc75c6efb68')}"
      ]
     },
     "execution_count": 15,
     "metadata": {},
     "output_type": "execute_result"
    }
   ],
   "source": [
    "nodes[0].node.relationships"
   ]
  },
  {
   "cell_type": "code",
   "execution_count": 16,
   "id": "b98adfe5-51bf-4c54-99a4-cf38030b1017",
   "metadata": {},
   "outputs": [
    {
     "data": {
      "text/plain": [
       "NodeWithScore(node=TextNode(id_='5a8b8c76-d97f-4ee7-87ee-aeb3e60cdacd', embedding=None, metadata={'category': 'loan'}, excluded_embed_metadata_keys=[], excluded_llm_metadata_keys=['category'], relationships={<NodeRelationship.SOURCE: '1'>: RelatedNodeInfo(node_id='대출_852', node_type=<ObjectType.DOCUMENT: '4'>, metadata={'category': 'loan'}, hash='a60af23bbf14937554f340c059c7eb99ad0f0cfcf9d3d4f6527746d2375aa6ba'), <NodeRelationship.PREVIOUS: '2'>: RelatedNodeInfo(node_id='95435469-e1e8-428f-ade6-2ee2101f5924', node_type=<ObjectType.TEXT: '1'>, metadata={'category': 'loan'}, hash='efbbf86cada436a84c1203c58317827e0ca887812e09d5beb05c33accc12d6f0'), <NodeRelationship.NEXT: '3'>: RelatedNodeInfo(node_id='5ffb1ab1-6099-41f3-8b92-c0eb66f1ad78', node_type=<ObjectType.TEXT: '1'>, metadata={}, hash='556a6407d88aebf899ab1c287cc6db398c447d5032a4d4a23f905fc75c6efb68')}, hash='a60af23bbf14937554f340c059c7eb99ad0f0cfcf9d3d4f6527746d2375aa6ba', text='제2금융권 전세자금대출을 전액 상환하기 위해 주택금융신용보증서를 담보로 한 대출', start_char_idx=0, end_char_idx=44, text_template='{metadata_str}\\n\\n{content}', metadata_template='{key}: {value}', metadata_seperator='\\n'), score=0.735662646015599)"
      ]
     },
     "execution_count": 16,
     "metadata": {},
     "output_type": "execute_result"
    }
   ],
   "source": [
    "nodes[0]"
   ]
  },
  {
   "cell_type": "code",
   "execution_count": 49,
   "id": "2e414fd7-64cc-4291-a691-54737de8d732",
   "metadata": {},
   "outputs": [
    {
     "data": {
      "text/plain": [
       "'대출_852'"
      ]
     },
     "execution_count": 49,
     "metadata": {},
     "output_type": "execute_result"
    }
   ],
   "source": [
    "nodes[0].node.relationships[[key for key in nodes[0].node.relationships.keys()][0]].node_id"
   ]
  },
  {
   "cell_type": "code",
   "execution_count": 44,
   "id": "dbf119af-62ce-4316-add4-2db2ee9ce126",
   "metadata": {},
   "outputs": [
    {
     "data": {
      "text/plain": [
       "dict_items([(<NodeRelationship.SOURCE: '1'>, RelatedNodeInfo(node_id='대출_852', node_type=<ObjectType.DOCUMENT: '4'>, metadata={'category': 'loan'}, hash='a60af23bbf14937554f340c059c7eb99ad0f0cfcf9d3d4f6527746d2375aa6ba')), (<NodeRelationship.PREVIOUS: '2'>, RelatedNodeInfo(node_id='95435469-e1e8-428f-ade6-2ee2101f5924', node_type=<ObjectType.TEXT: '1'>, metadata={'category': 'loan'}, hash='efbbf86cada436a84c1203c58317827e0ca887812e09d5beb05c33accc12d6f0')), (<NodeRelationship.NEXT: '3'>, RelatedNodeInfo(node_id='5ffb1ab1-6099-41f3-8b92-c0eb66f1ad78', node_type=<ObjectType.TEXT: '1'>, metadata={}, hash='556a6407d88aebf899ab1c287cc6db398c447d5032a4d4a23f905fc75c6efb68'))])"
      ]
     },
     "execution_count": 44,
     "metadata": {},
     "output_type": "execute_result"
    }
   ],
   "source": [
    "nodes[0].node.relationships.items()"
   ]
  },
  {
   "cell_type": "code",
   "execution_count": 20,
   "id": "5a4e59a8-f725-49bd-bac0-3bd68df478a4",
   "metadata": {},
   "outputs": [],
   "source": [
    "from llama_index import StorageContext, load_index_from_storage, load_indices_from_storage\n",
    "\n",
    "desc_storage_context = StorageContext.from_defaults(persist_dir=os.path.join(index_path, 'desc'))\n",
    "features_storage_context = StorageContext.from_defaults(persist_dir=os.path.join(index_path, 'features'))\n",
    "qualification_storage_context = StorageContext.from_defaults(persist_dir=os.path.join(index_path, 'qualification'))"
   ]
  },
  {
   "cell_type": "code",
   "execution_count": 25,
   "id": "9da2076b-7b39-4822-96ec-3881075902e1",
   "metadata": {},
   "outputs": [],
   "source": [
    "from llama_index.storage.docstore import SimpleDocumentStore\n",
    "\n",
    "desc_docstore = SimpleDocumentStore.from_persist_path(os.path.join(index_path, 'desc', 'docstore.json'))\n",
    "features_docstore = SimpleDocumentStore.from_persist_path(os.path.join(index_path, 'features', 'docstore.json'))\n",
    "qualification_docstore = SimpleDocumentStore.from_persist_path(os.path.join(index_path, 'qualification', 'docstore.json'))"
   ]
  },
  {
   "cell_type": "code",
   "execution_count": 51,
   "id": "9a4140fe-d5c7-4a39-b4b1-bf343ae445a5",
   "metadata": {},
   "outputs": [],
   "source": [
    "from llama_index.vector_stores import SimpleVectorStore\n",
    "\n",
    "desc_vectorstore = SimpleVectorStore.from_persist_path(os.path.join(index_path, 'desc', 'default__vector_store.json'))\n",
    "features_vectorstore = SimpleVectorStore.from_persist_path(os.path.join(index_path, 'features', 'default__vector_store.json'))\n",
    "qualification_vectorstore = SimpleVectorStore.from_persist_path(os.path.join(index_path, 'qualification', 'default__vector_store.json'))"
   ]
  },
  {
   "cell_type": "code",
   "execution_count": 33,
   "id": "f2b595b2-c4f1-4fa9-a639-27711bc0000c",
   "metadata": {},
   "outputs": [
    {
     "data": {
      "text/plain": [
       "TextNode(id_='5a8b8c76-d97f-4ee7-87ee-aeb3e60cdacd', embedding=None, metadata={'category': 'loan'}, excluded_embed_metadata_keys=[], excluded_llm_metadata_keys=['category'], relationships={<NodeRelationship.SOURCE: '1'>: RelatedNodeInfo(node_id='대출_852', node_type=<ObjectType.DOCUMENT: '4'>, metadata={'category': 'loan'}, hash='a60af23bbf14937554f340c059c7eb99ad0f0cfcf9d3d4f6527746d2375aa6ba'), <NodeRelationship.PREVIOUS: '2'>: RelatedNodeInfo(node_id='95435469-e1e8-428f-ade6-2ee2101f5924', node_type=<ObjectType.TEXT: '1'>, metadata={'category': 'loan'}, hash='efbbf86cada436a84c1203c58317827e0ca887812e09d5beb05c33accc12d6f0'), <NodeRelationship.NEXT: '3'>: RelatedNodeInfo(node_id='5ffb1ab1-6099-41f3-8b92-c0eb66f1ad78', node_type=<ObjectType.TEXT: '1'>, metadata={}, hash='556a6407d88aebf899ab1c287cc6db398c447d5032a4d4a23f905fc75c6efb68')}, hash='a60af23bbf14937554f340c059c7eb99ad0f0cfcf9d3d4f6527746d2375aa6ba', text='제2금융권 전세자금대출을 전액 상환하기 위해 주택금융신용보증서를 담보로 한 대출', start_char_idx=0, end_char_idx=44, text_template='{metadata_str}\\n\\n{content}', metadata_template='{key}: {value}', metadata_seperator='\\n')"
      ]
     },
     "execution_count": 33,
     "metadata": {},
     "output_type": "execute_result"
    }
   ],
   "source": [
    "features_docstore.get_node(nodes[0].node_id)"
   ]
  },
  {
   "cell_type": "code",
   "execution_count": 35,
   "id": "33fd7f0b-d602-43b5-b4ec-cdbcbbc747bc",
   "metadata": {},
   "outputs": [
    {
     "name": "stdout",
     "output_type": "stream",
     "text": [
      "None\n"
     ]
    }
   ],
   "source": [
    "print(features_docstore.get_ref_doc_info(nodes[0].node_id))"
   ]
  },
  {
   "cell_type": "code",
   "execution_count": 60,
   "id": "a3a17ee0-daef-4835-ad4d-86f97ebf2d5f",
   "metadata": {},
   "outputs": [],
   "source": [
    "desc_dict = desc_vectorstore.to_dict()\n",
    "features_dict = features_vectorstore.to_dict()\n",
    "qualification_dict = qualification_vectorstore.to_dict()"
   ]
  },
  {
   "cell_type": "code",
   "execution_count": 55,
   "id": "fd65d6a5-457c-4c05-8090-60cc182a0482",
   "metadata": {},
   "outputs": [
    {
     "data": {
      "text/plain": [
       "dict_keys(['embedding_dict', 'text_id_to_ref_doc_id', 'metadata_dict'])"
      ]
     },
     "execution_count": 55,
     "metadata": {},
     "output_type": "execute_result"
    }
   ],
   "source": [
    "desc_dict.keys()"
   ]
  },
  {
   "cell_type": "code",
   "execution_count": 63,
   "id": "4b2a6a9a-0a65-4c19-b01c-6b2807f8a2ac",
   "metadata": {},
   "outputs": [
    {
     "data": {
      "text/plain": [
       "'대출_852'"
      ]
     },
     "execution_count": 63,
     "metadata": {},
     "output_type": "execute_result"
    }
   ],
   "source": [
    "features_dict['metadata_dict'][nodes[0].node_id]['document_id']"
   ]
  },
  {
   "cell_type": "markdown",
   "id": "0d815850-3c0f-49cf-8e94-944a473c9585",
   "metadata": {},
   "source": [
    "### PostProcessor "
   ]
  },
  {
   "cell_type": "code",
   "execution_count": null,
   "id": "902bc4a3-2d50-4b15-b38b-d2d4055c135f",
   "metadata": {},
   "outputs": [],
   "source": [
    "from llama_index.postprocessor import KeywordNodePostprocessor \n",
    "from llama_index.postprocessor import SimilarityPostprocessor, CohereRerank\n",
    "from llama_index.schema import Node, NodeWithScore "
   ]
  },
  {
   "cell_type": "code",
   "execution_count": null,
   "id": "888f0d16-62ea-4e0e-afb3-c1e742203fd4",
   "metadata": {},
   "outputs": [],
   "source": [
    "node_postprocessors = [\n",
    "    SimilarityPostprocessor(similarity_cutoff=0.71),\n",
    "    KeywordNodePostprocessor(required_keywords=['대출'])\n",
    "]"
   ]
  },
  {
   "cell_type": "code",
   "execution_count": null,
   "id": "ece5b18e-65f5-4a1f-b7d2-c4a613be563c",
   "metadata": {},
   "outputs": [],
   "source": [
    "# similarity post processor \n",
    "processor = SimilarityPostprocessor(similarity_cutoff=0.71)\n",
    "filtered = processor.postprocess_nodes(nodes)"
   ]
  },
  {
   "cell_type": "code",
   "execution_count": null,
   "id": "7ec478dd-8bbe-4609-8566-d726bae19b30",
   "metadata": {},
   "outputs": [],
   "source": [
    "postprocessor = KeywordNodePostprocessor(\n",
    "    required_keywords=['대출']\n",
    ")\n",
    "\n",
    "len(postprocessor.postprocess_nodes(filtered))"
   ]
  },
  {
   "cell_type": "code",
   "execution_count": null,
   "id": "dd446862-3f90-424d-b7a5-dc81ef1ab49e",
   "metadata": {},
   "outputs": [],
   "source": [
    "filtered[0]"
   ]
  },
  {
   "cell_type": "code",
   "execution_count": null,
   "id": "3e09f6c1-acdc-4a5d-95b7-d09be05a53b4",
   "metadata": {},
   "outputs": [],
   "source": [
    "len(filtered)"
   ]
  },
  {
   "cell_type": "code",
   "execution_count": null,
   "id": "69d2a3d0-f4b5-497a-b9ab-ed4e1fb8a551",
   "metadata": {},
   "outputs": [],
   "source": [
    "filtered[0].score, filtered[0].text"
   ]
  },
  {
   "cell_type": "code",
   "execution_count": null,
   "id": "83298c15-7328-4f30-8f15-1787bcde939c",
   "metadata": {},
   "outputs": [],
   "source": [
    "filtered[0].node_id  # node_id == id_, 해당 정보는 default_vector_store  -> text_id_to_ref_doc_id로 매핑가능 "
   ]
  },
  {
   "cell_type": "code",
   "execution_count": null,
   "id": "35959c33-2ecb-4f97-aaa0-5c71c2e309f8",
   "metadata": {},
   "outputs": [],
   "source": [
    "from llama_index.postprocessor import SentenceEmbeddingOptimizer \n",
    "\n",
    "postprocessor = SentenceEmbeddingOptimizer(percentile_cutoff=0.5)"
   ]
  },
  {
   "cell_type": "markdown",
   "id": "98f2257f-5236-459d-8874-a6caffaf4fc2",
   "metadata": {},
   "source": [
    "#### Re-ranking "
   ]
  },
  {
   "cell_type": "markdown",
   "id": "f54673f7-3558-40a7-805b-5f866c2046bf",
   "metadata": {},
   "source": [
    "##### Sentence Transformers "
   ]
  },
  {
   "cell_type": "code",
   "execution_count": null,
   "id": "28fd1cc7-7de9-47c0-935c-d052dbcaaaae",
   "metadata": {},
   "outputs": [],
   "source": [
    "from llama_index.postprocessor import SentenceTransformerRerank \n",
    "\n",
    "rerank = SentenceTransformerRerank(\n",
    "    model='bongsoo/albert-small-kor-cross-encoder-v1',\n",
    "    top_n=3\n",
    ")"
   ]
  },
  {
   "cell_type": "code",
   "execution_count": null,
   "id": "3ebb6c9e-40c6-48a8-b2ae-fc78f84f9d61",
   "metadata": {
    "scrolled": true
   },
   "outputs": [],
   "source": [
    "query_engine = desc_idx[0].as_query_engine(node_postprocessor=[rerank])\n",
    "query_engine.query('보증 자격')"
   ]
  },
  {
   "cell_type": "code",
   "execution_count": null,
   "id": "5e264eef-72cb-4e3f-b58c-ca1de31093f5",
   "metadata": {},
   "outputs": [],
   "source": [
    "query_engine = desc_idx[0].as_query_engine(node_postprocessor=[rerank])\n",
    "nodes = query_engine.query('서민들을 위한 카드 추천해줘')"
   ]
  },
  {
   "cell_type": "code",
   "execution_count": null,
   "id": "a5c57821-35c5-48d6-a921-5a2abbe7b002",
   "metadata": {},
   "outputs": [],
   "source": [
    "print(nodes.response)"
   ]
  },
  {
   "cell_type": "markdown",
   "id": "db45fac9-87ff-4ac2-908d-db8fad14c485",
   "metadata": {},
   "source": [
    "##### Cohere"
   ]
  },
  {
   "cell_type": "raw",
   "id": "ab348d46-be8d-4788-9fbb-77a451d3ac33",
   "metadata": {},
   "source": [
    "!pip install cohere"
   ]
  },
  {
   "cell_type": "code",
   "execution_count": null,
   "id": "a0be8143-6598-42f7-bcd6-10e051ad3f31",
   "metadata": {},
   "outputs": [],
   "source": [
    "import cohere "
   ]
  },
  {
   "cell_type": "code",
   "execution_count": null,
   "id": "3b90f361-83de-4091-8ef2-b5a3accedd12",
   "metadata": {},
   "outputs": [],
   "source": [
    "os.environ[\"COHERE_API_KEY\"] = getpass.getpass(\"Cohere API Key:\")\n",
    "co_api = os.environ[\"COHERE_API_KEY\"]"
   ]
  },
  {
   "cell_type": "code",
   "execution_count": null,
   "id": "945c54b6-e2f7-4b42-b26a-5227c06301d6",
   "metadata": {},
   "outputs": [],
   "source": [
    "cohere_rerank = CohereRerank(api_key=co_api, top_n=2) "
   ]
  },
  {
   "cell_type": "code",
   "execution_count": null,
   "id": "5854a656-6051-4e00-a4ef-6c30a7a0ae11",
   "metadata": {},
   "outputs": [],
   "source": [
    "query_engine = desc_idx[0].as_query_engine(node_postprocessor=[cohere_rerank])\n",
    "query_engine.query('보증 자격') "
   ]
  },
  {
   "cell_type": "markdown",
   "id": "abd4306c-3ab7-4a9f-b556-cbb90fe356bf",
   "metadata": {},
   "source": [
    "### Retrieve, PostProcess  -> Return Node "
   ]
  },
  {
   "cell_type": "code",
   "execution_count": null,
   "id": "53aeee26-84f0-4d30-b494-c9fffdddb960",
   "metadata": {},
   "outputs": [],
   "source": [
    "def get_retrieved_nodes(\n",
    "    query_str, vector_top_k=10, reranker_top_n=3, service_context=None, with_reranker=False\n",
    "):\n",
    "    query_bundle = QueryBundle(query_str)\n",
    "    # configure retriever\n",
    "    retriever = VectorIndexRetriever(\n",
    "        index = features_idx,\n",
    "        service_context=service_context,\n",
    "        similarity_top_k = 10, \n",
    "        verbose=True\n",
    "    )\n",
    "    retrieved_nodes = retriever.retrieve(query_bundle)\n",
    "    print(len(retrieved_nodes), retrieved_nodes[0].score)\n",
    "    node_postprocessors = SimilarityPostprocessor(similarity_cutoff=0.64)\n",
    "    processed_nodes = node_postprocessors.postprocess_nodes(retrieved_nodes)\n",
    "    print(len(processed_nodes))\n",
    "    if with_reranker:\n",
    "        # configure reranker\n",
    "        reranker = SentenceTransformerRerank(\n",
    "            model='bongsoo/albert-small-kor-cross-encoder-v1',\n",
    "            top_n=reranker_top_n,\n",
    "        )\n",
    "        reranked_nodes = reranker.postprocess_nodes(\n",
    "            processed_nodes, query_bundle\n",
    "        )\n",
    "    return reranked_nodes"
   ]
  },
  {
   "cell_type": "code",
   "execution_count": null,
   "id": "d39bf57f-0806-4d26-8139-df60ab583cb6",
   "metadata": {},
   "outputs": [],
   "source": [
    "model_name = 'kakaobank/kf-deberta-base'\n",
    "embed_model = HuggingFaceEmbedding(model_name=model_name)"
   ]
  },
  {
   "cell_type": "code",
   "execution_count": null,
   "id": "922fd25e-bd3f-404d-bcc0-c3c6e1fac495",
   "metadata": {},
   "outputs": [],
   "source": [
    "# service_context 전달 안해주면 query 시 dimension 오류 발생 \n",
    "features_idx = load_index_from_storage(features_storage_context, index_id='loan_tmp', service_context=service_context)\n",
    "desc_idx = load_indices_from_storage(desc_storage_context, index_ids=['card_tmp', 'loan_tmp', 'deposit_tmp'], service_context=service_context)\n",
    "qualification_idx = load_index_from_storage(qualification_storage_context, index_id='loan_tmp', service_context=service_context)"
   ]
  },
  {
   "cell_type": "code",
   "execution_count": null,
   "id": "f0191cb0-5423-487e-a754-d544a36608be",
   "metadata": {},
   "outputs": [],
   "source": [
    "service_context = ServiceContext.from_defaults(node_parser=parser, embed_model=embed_model, llm=None)"
   ]
  },
  {
   "cell_type": "code",
   "execution_count": null,
   "id": "7a409963-078c-4cbd-ae16-6ee021e49352",
   "metadata": {},
   "outputs": [],
   "source": [
    "with_reranker = True"
   ]
  },
  {
   "cell_type": "code",
   "execution_count": null,
   "id": "50e01280-bf09-4d67-be29-3d71b4383e8e",
   "metadata": {},
   "outputs": [],
   "source": [
    "query = '담보대출 관련 대출 상품 정보 알려줘'"
   ]
  },
  {
   "cell_type": "code",
   "execution_count": null,
   "id": "92fb7611-c0a1-4c4f-a9fb-386cffaa652a",
   "metadata": {},
   "outputs": [],
   "source": [
    "get_retrieved_nodes(query, service_context=service_context, with_reranker=with_reranker)[0]"
   ]
  },
  {
   "cell_type": "code",
   "execution_count": null,
   "id": "5b93f23b-4383-410a-bab6-f317d479c198",
   "metadata": {},
   "outputs": [],
   "source": [
    "get_retrieved_nodes(query, service_context=service_context, with_reranker=with_reranker)[0].text"
   ]
  },
  {
   "cell_type": "markdown",
   "id": "2188a90a-ca4e-4a1f-8116-071f42fa444b",
   "metadata": {},
   "source": [
    "### llm config test "
   ]
  },
  {
   "cell_type": "raw",
   "id": "51eea29a-940b-46d5-af5c-36b1ceff9f75",
   "metadata": {},
   "source": [
    "model='davidkim205/komt-mistral-7b-v1'\n",
    "peft_model_name = 'davidkim205/komt-mistral-7b-v1-lora'\n",
    "config = PeftConfig.from_pretrained(peft_model_name)\n",
    "bnb_config = BitsAndBytesConfig(\n",
    "    load_in_4bit=True,\n",
    "    bnb_4bit_use_double_quant=True,\n",
    "    bnb_4bit_quant_type=\"nf4\",\n",
    "    bnb_4bit_compute_dtype=torch.bfloat16\n",
    ")\n",
    "config.base_model_name_or_path =model\n",
    "model = AutoModelForCausalLM.from_pretrained(config.base_model_name_or_path, quantization_config=bnb_config, device_map=\"auto\")"
   ]
  },
  {
   "cell_type": "code",
   "execution_count": null,
   "id": "376a5805-acac-4349-9ab8-67f76a20a905",
   "metadata": {},
   "outputs": [],
   "source": [
    "llm = HuggingFaceLLM(\n",
    "    context_window=4096,\n",
    "    max_new_tokens=256,\n",
    "    generate_kwargs={\"temperature\": 0.7, \"do_sample\": False},\n",
    "     tokenizer_name=\"davidkim205/komt-mistral-7b-v1\",\n",
    "    model_name=\"davidkim205/komt-mistral-7b-v1\",\n",
    "    device_map=\"cuda\",\n",
    "    # offload_folder='offload',\n",
    "    stopping_ids=[50278, 50279, 50277, 1, 0],\n",
    "    tokenizer_kwargs={\"max_length\": 4096},\n",
    "    # uncomment this if using CUDA to reduce memory usage\n",
    "    # model_kwargs={\"torch_dtype\": torch.float16}\n",
    ")"
   ]
  },
  {
   "cell_type": "code",
   "execution_count": null,
   "id": "950117ad-4d25-49e4-868d-51b6f2e072a8",
   "metadata": {},
   "outputs": [],
   "source": [
    "mistral_service_context = ServiceContext.from_defaults(llm=llm)"
   ]
  },
  {
   "cell_type": "code",
   "execution_count": null,
   "id": "b09ba84f-ec94-4f36-b3f6-bffd59b24086",
   "metadata": {},
   "outputs": [],
   "source": [
    "# service_context 전달 안해주면 query 시 dimension 오류 발생 \n",
    "features_idx = load_index_from_storage(features_storage_context, index_id='loan_tmp', service_context=service_context)\n",
    "desc_idx = load_indices_from_storage(desc_storage_context, index_ids=['card_tmp', 'loan_tmp', 'deposit_tmp'], service_context=service_context)\n",
    "qualification_idx = load_index_from_storage(qualification_storage_context, index_id='loan_tmp', service_context=service_context)"
   ]
  },
  {
   "cell_type": "code",
   "execution_count": null,
   "id": "e7603bc5-df48-434e-a4aa-3f5da0a2c598",
   "metadata": {},
   "outputs": [],
   "source": [
    "from llama_index.llms import ChatMessage, MessageRole\n",
    "from llama_index.prompts import ChatPromptTemplate\n",
    "\n",
    "# Text QA Prompt\n",
    "chat_text_qa_msgs = [\n",
    "    ChatMessage(\n",
    "        role=MessageRole.USER,\n",
    "        content=(\n",
    "            \"사용자 쿼리와 유사한 문맥 정보는 다음과 같아. \\n\"\n",
    "            \"---------------------\\n\"\n",
    "            \"{context_str}\"\n",
    "            \"\\n---------------------\\n\"\n",
    "            \"주어진 문맥 정보를 바탕으로, 사용자 질문에 대답해줘: {query_str}\\n\"\n",
    "            \"대답은 한국어로 하고, 주어진 문맥이 별로 도움되지 않는다면, 너가 대답을 만들어줘\"\n",
    "        ),\n",
    "    ),\n",
    "]\n",
    "\n",
    "text_qa_template = ChatPromptTemplate(chat_text_qa_msgs)"
   ]
  },
  {
   "cell_type": "code",
   "execution_count": null,
   "id": "17afa628-963f-44e2-a3cc-45eb3a471bc4",
   "metadata": {},
   "outputs": [],
   "source": [
    "chat_refine_msgs = [\n",
    "    ChatMessage(\n",
    "        role=MessageRole.USER,\n",
    "        content=(\n",
    "            \"우리는 기존 대답을 정제할 기회가 있어\"\n",
    "            \"(꼭 필요한 경우에만) 다음 추가 문맥 정보를 사용해서.\\n\"\n",
    "            \"------------\\n\"\n",
    "            \"{context_msg}\\n\"\n",
    "            \"------------\\n\"\n",
    "            \"새로운 문맥 정보가 주어졌을 때, 기존 대답을 보다 낫게 정제해봐\"\n",
    "            \"대답해야 할 사용자 발화는 이거야: {query_str}. \"\n",
    "            \"추가로 주어진 문맥 정보가 유용하지 않다면, 기존 대답을 출력해줘.\\n\"\n",
    "            \"기존 대답: {existing_answer}\"\n",
    "        ),\n",
    "    ),\n",
    "]\n",
    "\n",
    "refine_template = ChatPromptTemplate(chat_refine_msgs)"
   ]
  },
  {
   "cell_type": "raw",
   "id": "ce45c2d9-d2b1-41a6-bb3c-47f4d6cba245",
   "metadata": {},
   "source": [
    "from llama_index.response_synthesizers import get_response_synthesizer\n",
    "mistral_service_context = ServiceContext.from_defaults(llm=llm)\n",
    "\n",
    "responser = get_response_synthesizer(\n",
    "    response_mode=\"refine\",\n",
    "    service_context=mistral_service_context,\n",
    "    verbose=True,\n",
    "    structured_answer_filtering=True,\n",
    ")"
   ]
  },
  {
   "cell_type": "raw",
   "id": "513ca8df-2fae-467b-8f04-d5cb89b8f33d",
   "metadata": {
    "scrolled": true
   },
   "source": [
    "responser.get_response(query, ['모기지론 1', '모기지론 2'])\n",
    "mistral_service_context = ServiceContext.from_defaults(llm=llm)"
   ]
  },
  {
   "cell_type": "code",
   "execution_count": null,
   "id": "e1464954-6ad0-4c44-926d-3580eac3a5c8",
   "metadata": {},
   "outputs": [],
   "source": [
    "response = features_idx.as_query_engine(\n",
    "    service_context=mistral_service_context, text_qa_template=text_qa_template, refine_template=refine_template\n",
    ").query(query)"
   ]
  },
  {
   "cell_type": "code",
   "execution_count": null,
   "id": "e6c4b9f7-1496-4a87-bd08-bf0a2c3149f6",
   "metadata": {},
   "outputs": [],
   "source": []
  }
 ],
 "metadata": {
  "kernelspec": {
   "display_name": "Python 3 (ipykernel)",
   "language": "python",
   "name": "python3"
  },
  "language_info": {
   "codemirror_mode": {
    "name": "ipython",
    "version": 3
   },
   "file_extension": ".py",
   "mimetype": "text/x-python",
   "name": "python",
   "nbconvert_exporter": "python",
   "pygments_lexer": "ipython3",
   "version": "3.10.13"
  }
 },
 "nbformat": 4,
 "nbformat_minor": 5
}
