{
 "cells": [
  {
   "cell_type": "code",
   "execution_count": 19,
   "id": "2274e9db-9765-4a8b-8f11-e6d13908cd8c",
   "metadata": {},
   "outputs": [],
   "source": [
    "import chromadb\n",
    "import pandas as pd \n",
    "import openai\n",
    "import os\n",
    "import getpass\n",
    "from llama_index import VectorStoreIndex, SimpleDirectoryReader, ServiceContext\n",
    "from llama_index import QueryBundle \n",
    "from llama_index.vector_stores import ChromaVectorStore\n",
    "from llama_index.readers.chroma import ChromaReader\n",
    "from llama_index import StorageContext, load_index_from_storage, load_indices_from_storage\n",
    "# from transformers import AutoTokenizer, AutoModel\n",
    "from llama_index.embeddings import HuggingFaceEmbedding\n",
    "from llama_index.llms import HuggingFaceLLM\n",
    "from llama_index.node_parser import SentenceSplitter \n",
    "from llama_index.schema import MetadataMode\n",
    "from IPython.display import Markdown, display\n",
    "from llama_index.retrievers import VectorIndexRetriever \n",
    "from llama_index.query_engine import RetrieverQueryEngine \n",
    "from llama_index.postprocessor import SimilarityPostprocessor \n",
    "from llama_index.postprocessor import KeywordNodePostprocessor \n",
    "from llama_index.postprocessor import SimilarityPostprocessor, CohereRerank\n",
    "from llama_index.tools.query_engine import QueryEngineTool, ToolMetadata\n",
    "from llama_index.schema import Node, NodeWithScore "
   ]
  },
  {
   "cell_type": "code",
   "execution_count": 20,
   "id": "a3851b80-d424-4995-9228-406836c2f9dc",
   "metadata": {},
   "outputs": [],
   "source": [
    "data_path = os.path.join('/rag/data/')\n",
    "index_path = os.path.join('/rag/db/local')"
   ]
  },
  {
   "cell_type": "code",
   "execution_count": 14,
   "id": "1bccbe82-8069-4710-82d6-e1777412a3b8",
   "metadata": {},
   "outputs": [
    {
     "name": "stdin",
     "output_type": "stream",
     "text": [
      "OpenAI API Key: ········\n"
     ]
    }
   ],
   "source": [
    "os.environ[\"OPENAI_API_KEY\"] = getpass.getpass(\"OpenAI API Key:\")\n",
    "openai.api_key = os.environ[\"OPENAI_API_KEY\"]"
   ]
  },
  {
   "cell_type": "code",
   "execution_count": 21,
   "id": "467c7f6b-7a5d-433f-b6ef-4931178f915b",
   "metadata": {},
   "outputs": [],
   "source": [
    "model_name = 'kakaobank/kf-deberta-base'\n",
    "embed_model = HuggingFaceEmbedding(model_name=model_name)"
   ]
  },
  {
   "cell_type": "code",
   "execution_count": 22,
   "id": "ebaef5a7-2a15-4fbc-ab2b-b70d25ccf9d5",
   "metadata": {},
   "outputs": [],
   "source": [
    "parser = SentenceSplitter(chunk_size=512, chunk_overlap=30)   # SentenceSplitter(chunk_size=1024, chunk_overlap=20)"
   ]
  },
  {
   "cell_type": "code",
   "execution_count": 23,
   "id": "7a939ad3-3d32-4c3a-9d34-08ca7e55c27f",
   "metadata": {},
   "outputs": [
    {
     "name": "stdout",
     "output_type": "stream",
     "text": [
      "LLM is explicitly disabled. Using MockLLM.\n"
     ]
    }
   ],
   "source": [
    "service_context = ServiceContext.from_defaults(node_parser=parser, embed_model=embed_model, llm=None)"
   ]
  },
  {
   "cell_type": "code",
   "execution_count": 24,
   "id": "45144cdf-da56-48cf-97f8-13c5c06cd1c6",
   "metadata": {},
   "outputs": [],
   "source": [
    "desc_storage_context = StorageContext.from_defaults(persist_dir=os.path.join(index_path, 'desc'))\n",
    "features_storage_context = StorageContext.from_defaults(persist_dir=os.path.join(index_path, 'features'))\n",
    "qualification_storage_context = StorageContext.from_defaults(persist_dir=os.path.join(index_path, 'qualification'))"
   ]
  },
  {
   "cell_type": "code",
   "execution_count": 25,
   "id": "a35e4040-560d-41ec-8ddd-f3054725efe1",
   "metadata": {},
   "outputs": [],
   "source": [
    "# service_context 전달 안해주면 query 시 dimension 오류 발생 \n",
    "features_idx = load_index_from_storage(features_storage_context, index_id='loan_tmp', service_context=service_context)\n",
    "desc_idx = load_indices_from_storage(desc_storage_context, index_ids=['card_tmp', 'loan_tmp', 'deposit_tmp'], service_context=service_context)\n",
    "qualification_idx = load_index_from_storage(qualification_storage_context, index_id='loan_tmp', service_context=service_context)"
   ]
  },
  {
   "cell_type": "code",
   "execution_count": 26,
   "id": "43724ff7-ea34-44e5-b02f-624c011dc1e8",
   "metadata": {},
   "outputs": [],
   "source": [
    "desc_card_engine = desc_idx[0].as_query_engine(\n",
    "    similarity_top_k=2, service_context=service_context\n",
    ")\n",
    "desc_loan_engine = desc_idx[1].as_query_engine(\n",
    "    similarity_top_k=2, service_context=service_context\n",
    ")\n",
    "desc_depo_engine = desc_idx[2].as_query_engine(\n",
    "    similarity_top_k=2, service_context=service_context\n",
    ")\n",
    "features_loan_engine = features_idx.as_query_engine(\n",
    "    similarity_top_k=2, service_context=service_context\n",
    ")\n",
    "qualification_loan_engine = qualification_idx.as_query_engine(\n",
    "    similarity_top_k=2, service_context=service_context\n",
    ")tkd"
   ]
  },
  {
   "cell_type": "code",
   "execution_count": 28,
   "id": "116eacf6-d7be-45b7-923d-3645eb173e33",
   "metadata": {},
   "outputs": [],
   "source": [
    "query_tool_desc = QueryEngineTool.from_defaults(\n",
    "    query_engine=desc_card_engine,\n",
    "    name=\"desc_card\",\n",
    "    description=(\n",
    "        f\"카드 상품에 대한 상품 정보를 설명한다\"\n",
    "    ),\n",
    ")\n",
    "query_tool_loan = QueryEngineTool.from_defaults(\n",
    "    query_engine=desc_loan_engine,\n",
    "    name=\"desc_loan\",\n",
    "    description=(\n",
    "        f\"대출 상품에 대한 상품 정보를 설명한다\"\n",
    "    ),\n",
    ")\n",
    "query_tool_deposit = QueryEngineTool.from_defaults(\n",
    "    query_engine=desc_depo_engine,\n",
    "    name=\"desc_depo\",\n",
    "    description=(\n",
    "        f\"예금 상품에 대한 상품 정보를 설명한다\"\n",
    "    ),\n",
    ")\n",
    "query_tool_loan_feat = QueryEngineTool.from_defaults(\n",
    "    query_engine=features_loan_engine,\n",
    "    name=\"desc_depo\",\n",
    "    description=(\n",
    "        f\"예금 상품에 대한 특징을 설명한다\"\n",
    "    ),\n",
    ")\n",
    "query_tool_loan_qualification = QueryEngineTool.from_defaults(\n",
    "    query_engine=qualification_loan_engine,\n",
    "    name=\"desc_depo\",\n",
    "    description=(\n",
    "        f\"예금 상품에 가입하기 위한 자격 요건을 설명한다\"\n",
    "    ),\n",
    ")\n",
    "query_engine_tools = [query_tool_desc, query_tool_loan, query_tool_deposit, query_tool_loan_feat, query_tool_loan_qualification]"
   ]
  },
  {
   "cell_type": "code",
   "execution_count": 29,
   "id": "71441b1c-e277-4456-98e4-e4c6113dcd99",
   "metadata": {},
   "outputs": [
    {
     "data": {
      "text/plain": [
       "[<llama_index.tools.query_engine.QueryEngineTool at 0x7f780e575b10>,\n",
       " <llama_index.tools.query_engine.QueryEngineTool at 0x7f780e5768f0>,\n",
       " <llama_index.tools.query_engine.QueryEngineTool at 0x7f780e575600>,\n",
       " <llama_index.tools.query_engine.QueryEngineTool at 0x7f780e575510>,\n",
       " <llama_index.tools.query_engine.QueryEngineTool at 0x7f780e576080>]"
      ]
     },
     "execution_count": 29,
     "metadata": {},
     "output_type": "execute_result"
    }
   ],
   "source": [
    "query_engine_tools"
   ]
  },
  {
   "cell_type": "code",
   "execution_count": 30,
   "id": "0ba340b3-1966-4b32-bbd4-5ef5ef8f2a95",
   "metadata": {},
   "outputs": [],
   "source": [
    "import nest_asyncio\n",
    "\n",
    "nest_asyncio.apply()"
   ]
  },
  {
   "cell_type": "code",
   "execution_count": 31,
   "id": "e2a17f0f-0e81-43c4-a28a-4a89bac25dbb",
   "metadata": {},
   "outputs": [],
   "source": [
    "service_context = ServiceContext.from_defaults(node_parser=parser, embed_model=embed_model)"
   ]
  },
  {
   "cell_type": "code",
   "execution_count": 32,
   "id": "b6e2fc50-4904-412e-971a-4b22ca807be0",
   "metadata": {},
   "outputs": [],
   "source": [
    "from llama_index.query_engine import SubQuestionQueryEngine \n",
    "\n",
    "query_engine = SubQuestionQueryEngine.from_defaults(\n",
    "    query_engine_tools=query_engine_tools, service_context=service_context\n",
    ")"
   ]
  },
  {
   "cell_type": "raw",
   "id": "dfd46e89-3f61-4731-9241-7c46d88c0c20",
   "metadata": {},
   "source": [
    "query_engine = desc_idx[0].as_query_engine()\n",
    "query_engine.query('보증 자격')"
   ]
  },
  {
   "cell_type": "code",
   "execution_count": 18,
   "id": "fe739e56-3e05-4fb6-8b0b-40e4f5cc2b70",
   "metadata": {},
   "outputs": [
    {
     "name": "stdout",
     "output_type": "stream",
     "text": [
      "Generated 2 sub questions.\n",
      "\u001b[1;3;38;2;237;90;200m[desc_card] Q: What are the benefits of the card?\n",
      "\u001b[0m\u001b[1;3;38;2;237;90;200m[desc_card] A: Context information is below.\n",
      "---------------------\n",
      "This card will make you smile\n",
      "\n",
      "Special Benefits~ Enjoy 우리V외국인체크카드! 외국인을 위한 실용적인 서비스가 가득\n",
      "---------------------\n",
      "Given the context information and not prior knowledge, answer the query.\n",
      "Query: What are the benefits of the card?\n",
      "Answer: \n",
      "\u001b[0m\u001b[1;3;38;2;90;149;237m[desc_card] Q: What are the features of the card?\n",
      "\u001b[0m\u001b[1;3;38;2;90;149;237m[desc_card] A: Context information is below.\n",
      "---------------------\n",
      "Catch me in the moment!\n",
      "\n",
      "This card will make you smile\n",
      "---------------------\n",
      "Given the context information and not prior knowledge, answer the query.\n",
      "Query: What are the features of the card?\n",
      "Answer: \n",
      "\u001b[0m"
     ]
    },
    {
     "data": {
      "text/plain": [
       "'The benefits of the card include practical services tailored for foreigners.'"
      ]
     },
     "execution_count": 18,
     "metadata": {},
     "output_type": "execute_result"
    }
   ],
   "source": [
    "import asyncio\n",
    "\n",
    "query_engine.query(QueryBundle('카드 보조ㅡ ')).response"
   ]
  },
  {
   "cell_type": "code",
   "execution_count": null,
   "id": "41c30a3c-b95e-45b7-b4ef-bbf9d08ce44d",
   "metadata": {},
   "outputs": [],
   "source": []
  }
 ],
 "metadata": {
  "kernelspec": {
   "display_name": "Python 3 (ipykernel)",
   "language": "python",
   "name": "python3"
  },
  "language_info": {
   "codemirror_mode": {
    "name": "ipython",
    "version": 3
   },
   "file_extension": ".py",
   "mimetype": "text/x-python",
   "name": "python",
   "nbconvert_exporter": "python",
   "pygments_lexer": "ipython3",
   "version": "3.10.13"
  }
 },
 "nbformat": 4,
 "nbformat_minor": 5
}
