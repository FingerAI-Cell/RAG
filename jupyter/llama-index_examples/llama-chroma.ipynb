{
 "cells": [
  {
   "cell_type": "raw",
   "id": "6c5b4c67-744d-4923-aed5-7bb3ee93132e",
   "metadata": {},
   "source": [
    "Data Indexing & Storing \n",
    "# desc  - card (상품설명) + deposit (상품설명) + loan (상품설명) \n",
    "# features  - loan (상품특징)\n",
    "# qualification  - loan (대출신청자격) \n",
    "# rule_book - 규정집 pdf "
   ]
  },
  {
   "cell_type": "code",
   "execution_count": 16,
   "id": "2147c131-6911-4794-9913-f6ee81919619",
   "metadata": {},
   "outputs": [],
   "source": [
    "from llama_index import Document, VectorStoreIndex, SimpleDirectoryReader, ServiceContext\n",
    "from llama_index.vector_stores import ChromaVectorStore\n",
    "from llama_index.readers.chroma import ChromaReader\n",
    "from llama_index.storage.storage_context import StorageContext\n",
    "# from transformers import AutoTokenizer, AutoModel\n",
    "from llama_index.embeddings import HuggingFaceEmbedding\n",
    "from llama_index.schema import MetadataMode\n",
    "from IPython.display import Markdown, display\n",
    "import chromadb\n",
    "import pandas as pd \n",
    "import openai\n",
    "import os\n",
    "import getpass\n",
    "import json"
   ]
  },
  {
   "cell_type": "code",
   "execution_count": 17,
   "id": "028a4d03-c567-469a-8707-a2184017058b",
   "metadata": {},
   "outputs": [
    {
     "name": "stdout",
     "output_type": "stream",
     "text": [
      "/rag/jupyter/llama-index\n"
     ]
    }
   ],
   "source": [
    "!pwd"
   ]
  },
  {
   "cell_type": "code",
   "execution_count": 45,
   "id": "5ee57627-e0a1-4300-b794-a15010131bf4",
   "metadata": {},
   "outputs": [],
   "source": [
    "data_path = os.path.join('/rag/data/')\n",
    "index_path = os.path.join('/rag/db/chroma-llama')\n",
    "config_path = os.path.join('/rag/config')"
   ]
  },
  {
   "cell_type": "code",
   "execution_count": 7,
   "id": "08c329af-3bbd-49d4-be7c-910ab1a5773f",
   "metadata": {},
   "outputs": [
    {
     "name": "stdin",
     "output_type": "stream",
     "text": [
      "User:  재동\n"
     ]
    }
   ],
   "source": [
    "query = input(\"User: \")"
   ]
  },
  {
   "cell_type": "code",
   "execution_count": 8,
   "id": "4bbd0c6b-9cc3-4ad3-b0c9-bef4fe36e3c2",
   "metadata": {},
   "outputs": [
    {
     "data": {
      "text/plain": [
       "'재동'"
      ]
     },
     "execution_count": 8,
     "metadata": {},
     "output_type": "execute_result"
    }
   ],
   "source": [
    "query"
   ]
  },
  {
   "cell_type": "code",
   "execution_count": 19,
   "id": "3ace32ad-214b-45b0-b506-15374c51e13c",
   "metadata": {},
   "outputs": [],
   "source": [
    "with open(os.path.join(config_path, 'config.json'), \"r\", encoding=\"utf-8\") as f:\n",
    "    config = json.load(f)"
   ]
  },
  {
   "cell_type": "code",
   "execution_count": 20,
   "id": "f15eab7b-af17-4eaa-b35f-3f056f3e0525",
   "metadata": {},
   "outputs": [
    {
     "data": {
      "text/plain": [
       "'/rag/db/chorma-llama/'"
      ]
     },
     "execution_count": 20,
     "metadata": {},
     "output_type": "execute_result"
    }
   ],
   "source": [
    "config['index_path']"
   ]
  },
  {
   "cell_type": "code",
   "execution_count": 21,
   "id": "8d81edc4-a4e5-4fd9-89ce-ef2713cb6930",
   "metadata": {},
   "outputs": [
    {
     "data": {
      "text/plain": [
       "'/rag/db/chroma-llama'"
      ]
     },
     "execution_count": 21,
     "metadata": {},
     "output_type": "execute_result"
    }
   ],
   "source": [
    "index_path"
   ]
  },
  {
   "cell_type": "code",
   "execution_count": 55,
   "id": "ca20b935-1393-4e1d-abd2-9251b938b088",
   "metadata": {
    "scrolled": true
   },
   "outputs": [
    {
     "name": "stdin",
     "output_type": "stream",
     "text": [
      "OpenAI API Key: ········\n"
     ]
    }
   ],
   "source": [
    "os.environ[\"OPENAI_API_KEY\"] = getpass.getpass(\"OpenAI API Key:\")\n",
    "openai.api_key = os.environ[\"OPENAI_API_KEY\"]"
   ]
  },
  {
   "cell_type": "code",
   "execution_count": 46,
   "id": "2b94ef94-6405-476a-abf5-f6d59dc8be03",
   "metadata": {},
   "outputs": [],
   "source": [
    "chroma_client = chromadb.PersistentClient(path=index_path)\n",
    "desc_collection = chroma_client.get_or_create_collection(\"desc\")\n",
    "feature_collection = chroma_client.get_or_create_collection(\"feature\")\n",
    "qualification_collection = chroma_client.get_or_create_collection(\"qualification\")"
   ]
  },
  {
   "cell_type": "code",
   "execution_count": 47,
   "id": "12890a08-cde1-48c3-a754-74922fa6aa1c",
   "metadata": {},
   "outputs": [
    {
     "data": {
      "text/plain": [
       "[Collection(name=feature),\n",
       " Collection(name=qualification),\n",
       " Collection(name=desc)]"
      ]
     },
     "execution_count": 47,
     "metadata": {},
     "output_type": "execute_result"
    }
   ],
   "source": [
    "chroma_client.list_collections()"
   ]
  },
  {
   "cell_type": "raw",
   "id": "288cdf88-525d-487c-9418-3de1fb10e429",
   "metadata": {
    "scrolled": true
   },
   "source": [
    "len(data) - len(data[data['대출신청자격'].isna()])"
   ]
  },
  {
   "cell_type": "raw",
   "id": "c407fc73-9d4a-4a1c-9f48-926d1b8abeb8",
   "metadata": {},
   "source": [
    "chroma_client.delete_collection('qualification')"
   ]
  },
  {
   "cell_type": "code",
   "execution_count": 24,
   "id": "4547796e-ca4d-4c24-9e15-9e88472c7d40",
   "metadata": {},
   "outputs": [
    {
     "data": {
      "text/plain": [
       "['feature', 'qualification', 'desc']"
      ]
     },
     "execution_count": 24,
     "metadata": {},
     "output_type": "execute_result"
    }
   ],
   "source": [
    "list(map(lambda x: x.name, chroma_client.list_collections()))"
   ]
  },
  {
   "cell_type": "code",
   "execution_count": 48,
   "id": "3da2316f-84db-47d3-8305-319c9a75cc18",
   "metadata": {},
   "outputs": [
    {
     "data": {
      "text/plain": [
       "806"
      ]
     },
     "execution_count": 48,
     "metadata": {},
     "output_type": "execute_result"
    }
   ],
   "source": [
    "qualification_collection.count()   # 2566 "
   ]
  },
  {
   "cell_type": "code",
   "execution_count": 26,
   "id": "290a21ac-551e-4518-9481-6dc0daf463a1",
   "metadata": {},
   "outputs": [],
   "source": [
    "desc_store = ChromaVectorStore(chroma_collection=desc_collection)\n",
    "feature_store = ChromaVectorStore(chroma_collection=feature_collection)\n",
    "qualification_store = ChromaVectorStore(chroma_collection=qualification_collection)"
   ]
  },
  {
   "cell_type": "code",
   "execution_count": 27,
   "id": "bb459b31-ddd8-4e59-9b3f-6e96dbe0e985",
   "metadata": {},
   "outputs": [],
   "source": [
    "desc_storage = StorageContext.from_defaults(vector_store=desc_store)\n",
    "feature_storage = StorageContext.from_defaults(vector_store=feature_store)\n",
    "qualification_storage = StorageContext.from_defaults(vector_store=qualification_store)"
   ]
  },
  {
   "cell_type": "code",
   "execution_count": 28,
   "id": "5a029e82-8407-4b48-8efd-33f1b5a792de",
   "metadata": {},
   "outputs": [],
   "source": [
    "from llama_index import Document, VectorStoreIndex \n",
    "from llama_index.node_parser import SentenceSplitter"
   ]
  },
  {
   "cell_type": "code",
   "execution_count": 29,
   "id": "6856e21b-ecd6-4302-8088-e8eea70592be",
   "metadata": {},
   "outputs": [
    {
     "data": {
      "text/html": [
       "<div>\n",
       "<style scoped>\n",
       "    .dataframe tbody tr th:only-of-type {\n",
       "        vertical-align: middle;\n",
       "    }\n",
       "\n",
       "    .dataframe tbody tr th {\n",
       "        vertical-align: top;\n",
       "    }\n",
       "\n",
       "    .dataframe thead th {\n",
       "        text-align: right;\n",
       "    }\n",
       "</style>\n",
       "<table border=\"1\" class=\"dataframe\">\n",
       "  <thead>\n",
       "    <tr style=\"text-align: right;\">\n",
       "      <th></th>\n",
       "      <th>대출_고유키</th>\n",
       "      <th>금융상품명</th>\n",
       "      <th>상품특징</th>\n",
       "      <th>대출신청자격</th>\n",
       "      <th>상품설명</th>\n",
       "    </tr>\n",
       "  </thead>\n",
       "  <tbody>\n",
       "    <tr>\n",
       "      <th>0</th>\n",
       "      <td>대출_0</td>\n",
       "      <td>혁신성장산업 지원자금</td>\n",
       "      <td>9대 선도산업 등 정부발표 혁신성장 분야에 대한 효율적 금융지원</td>\n",
       "      <td>○ (지원대상) 다음 중 하나에 해당하는 기업 혁신성장 정책금융협의회 선정 「혁신성...</td>\n",
       "      <td>9대 선도산업 등 정부발표 혁신성장 분야에 대한 효율적 금융지원</td>\n",
       "    </tr>\n",
       "  </tbody>\n",
       "</table>\n",
       "</div>"
      ],
      "text/plain": [
       "  대출_고유키        금융상품명                                 상품특징  \\\n",
       "0   대출_0  혁신성장산업 지원자금  9대 선도산업 등 정부발표 혁신성장 분야에 대한 효율적 금융지원   \n",
       "\n",
       "                                              대출신청자격  \\\n",
       "0  ○ (지원대상) 다음 중 하나에 해당하는 기업 혁신성장 정책금융협의회 선정 「혁신성...   \n",
       "\n",
       "                                  상품설명  \n",
       "0  9대 선도산업 등 정부발표 혁신성장 분야에 대한 효율적 금융지원  "
      ]
     },
     "execution_count": 29,
     "metadata": {},
     "output_type": "execute_result"
    }
   ],
   "source": [
    "data = pd.read_csv(os.path.join(data_path, 'financial', 'SHINHAN BANK_Financial_Product_Scraping_Result_20240104_LOAN_vec.csv'))\n",
    "data.head(1)"
   ]
  },
  {
   "cell_type": "code",
   "execution_count": 30,
   "id": "e07cde89-0b7d-4081-bf0d-1d2e7f8529f8",
   "metadata": {},
   "outputs": [
    {
     "data": {
      "text/plain": [
       "['대출_0',\n",
       " '대출_1',\n",
       " '대출_2',\n",
       " '대출_3',\n",
       " '대출_4',\n",
       " '대출_5',\n",
       " '대출_6',\n",
       " '대출_7',\n",
       " '대출_8',\n",
       " '대출_9',\n",
       " '대출_10',\n",
       " '대출_11',\n",
       " '대출_12',\n",
       " '대출_13',\n",
       " '대출_14',\n",
       " '대출_15',\n",
       " '대출_16',\n",
       " '대출_17',\n",
       " '대출_18',\n",
       " '대출_19',\n",
       " '대출_20',\n",
       " '대출_21',\n",
       " '대출_22',\n",
       " '대출_23',\n",
       " '대출_24',\n",
       " '대출_25',\n",
       " '대출_26',\n",
       " '대출_27',\n",
       " '대출_28',\n",
       " '대출_29',\n",
       " '대출_30',\n",
       " '대출_31',\n",
       " '대출_32',\n",
       " '대출_33',\n",
       " '대출_34',\n",
       " '대출_35',\n",
       " '대출_36',\n",
       " '대출_37',\n",
       " '대출_38',\n",
       " '대출_39',\n",
       " '대출_40',\n",
       " '대출_41',\n",
       " '대출_42',\n",
       " '대출_43',\n",
       " '대출_44',\n",
       " '대출_45',\n",
       " '대출_46',\n",
       " '대출_47',\n",
       " '대출_48',\n",
       " '대출_49',\n",
       " '대출_50',\n",
       " '대출_51',\n",
       " '대출_52',\n",
       " '대출_53',\n",
       " '대출_54',\n",
       " '대출_55',\n",
       " '대출_56',\n",
       " '대출_57',\n",
       " '대출_58',\n",
       " '대출_59',\n",
       " '대출_60',\n",
       " '대출_61',\n",
       " '대출_62',\n",
       " '대출_63',\n",
       " '대출_64',\n",
       " '대출_65',\n",
       " '대출_66',\n",
       " '대출_67',\n",
       " '대출_68',\n",
       " '대출_69',\n",
       " '대출_70',\n",
       " '대출_71',\n",
       " '대출_72',\n",
       " '대출_73',\n",
       " '대출_74',\n",
       " '대출_75',\n",
       " '대출_76',\n",
       " '대출_77',\n",
       " '대출_78',\n",
       " '대출_79',\n",
       " '대출_80',\n",
       " '대출_81',\n",
       " '대출_82',\n",
       " '대출_83',\n",
       " '대출_84',\n",
       " '대출_85',\n",
       " '대출_86',\n",
       " '대출_87',\n",
       " '대출_88',\n",
       " '대출_89',\n",
       " '대출_90',\n",
       " '대출_91',\n",
       " '대출_92',\n",
       " '대출_93',\n",
       " '대출_94',\n",
       " '대출_95',\n",
       " '대출_96',\n",
       " '대출_97',\n",
       " '대출_98',\n",
       " '대출_99',\n",
       " '대출_100',\n",
       " '대출_101',\n",
       " '대출_102',\n",
       " '대출_103',\n",
       " '대출_104',\n",
       " '대출_105',\n",
       " '대출_106',\n",
       " '대출_107',\n",
       " '대출_108',\n",
       " '대출_109',\n",
       " '대출_110',\n",
       " '대출_111',\n",
       " '대출_112',\n",
       " '대출_113',\n",
       " '대출_114',\n",
       " '대출_115',\n",
       " '대출_116',\n",
       " '대출_117',\n",
       " '대출_118',\n",
       " '대출_119',\n",
       " '대출_120',\n",
       " '대출_121',\n",
       " '대출_122',\n",
       " '대출_123',\n",
       " '대출_124',\n",
       " '대출_125',\n",
       " '대출_126',\n",
       " '대출_127',\n",
       " '대출_128',\n",
       " '대출_129',\n",
       " '대출_130',\n",
       " '대출_131',\n",
       " '대출_132',\n",
       " '대출_133',\n",
       " '대출_134',\n",
       " '대출_135',\n",
       " '대출_136',\n",
       " '대출_137',\n",
       " '대출_138',\n",
       " '대출_139',\n",
       " '대출_140',\n",
       " '대출_141',\n",
       " '대출_142',\n",
       " '대출_143',\n",
       " '대출_144',\n",
       " '대출_145',\n",
       " '대출_146',\n",
       " '대출_147',\n",
       " '대출_148',\n",
       " '대출_149',\n",
       " '대출_150',\n",
       " '대출_151',\n",
       " '대출_152',\n",
       " '대출_153',\n",
       " '대출_156',\n",
       " '대출_157',\n",
       " '대출_158',\n",
       " '대출_159',\n",
       " '대출_160',\n",
       " '대출_161',\n",
       " '대출_162',\n",
       " '대출_163',\n",
       " '대출_164',\n",
       " '대출_165',\n",
       " '대출_166',\n",
       " '대출_167',\n",
       " '대출_168',\n",
       " '대출_169',\n",
       " '대출_170',\n",
       " '대출_171',\n",
       " '대출_172',\n",
       " '대출_173',\n",
       " '대출_174',\n",
       " '대출_175',\n",
       " '대출_176',\n",
       " '대출_177',\n",
       " '대출_178',\n",
       " '대출_179',\n",
       " '대출_180',\n",
       " '대출_181',\n",
       " '대출_182',\n",
       " '대출_183',\n",
       " '대출_184',\n",
       " '대출_185',\n",
       " '대출_186',\n",
       " '대출_187',\n",
       " '대출_188',\n",
       " '대출_189',\n",
       " '대출_190',\n",
       " '대출_191',\n",
       " '대출_192',\n",
       " '대출_193',\n",
       " '대출_194',\n",
       " '대출_195',\n",
       " '대출_196',\n",
       " '대출_197',\n",
       " '대출_198',\n",
       " '대출_199',\n",
       " '대출_200',\n",
       " '대출_201',\n",
       " '대출_202',\n",
       " '대출_203',\n",
       " '대출_204',\n",
       " '대출_205',\n",
       " '대출_206',\n",
       " '대출_207',\n",
       " '대출_208',\n",
       " '대출_209',\n",
       " '대출_210',\n",
       " '대출_211',\n",
       " '대출_212',\n",
       " '대출_213',\n",
       " '대출_214',\n",
       " '대출_215',\n",
       " '대출_216',\n",
       " '대출_217',\n",
       " '대출_218',\n",
       " '대출_219',\n",
       " '대출_220',\n",
       " '대출_221',\n",
       " '대출_222',\n",
       " '대출_223',\n",
       " '대출_224',\n",
       " '대출_225',\n",
       " '대출_226',\n",
       " '대출_227',\n",
       " '대출_228',\n",
       " '대출_229',\n",
       " '대출_230',\n",
       " '대출_231',\n",
       " '대출_232',\n",
       " '대출_233',\n",
       " '대출_234',\n",
       " '대출_235',\n",
       " '대출_236',\n",
       " '대출_237',\n",
       " '대출_238',\n",
       " '대출_239',\n",
       " '대출_240',\n",
       " '대출_241',\n",
       " '대출_242',\n",
       " '대출_243',\n",
       " '대출_244',\n",
       " '대출_245',\n",
       " '대출_246',\n",
       " '대출_247',\n",
       " '대출_248',\n",
       " '대출_249',\n",
       " '대출_250',\n",
       " '대출_251',\n",
       " '대출_252',\n",
       " '대출_253',\n",
       " '대출_254',\n",
       " '대출_255',\n",
       " '대출_256',\n",
       " '대출_257',\n",
       " '대출_258',\n",
       " '대출_259',\n",
       " '대출_260',\n",
       " '대출_261',\n",
       " '대출_262',\n",
       " '대출_263',\n",
       " '대출_264',\n",
       " '대출_265',\n",
       " '대출_266',\n",
       " '대출_267',\n",
       " '대출_268',\n",
       " '대출_269',\n",
       " '대출_270',\n",
       " '대출_271',\n",
       " '대출_272',\n",
       " '대출_273',\n",
       " '대출_274',\n",
       " '대출_275',\n",
       " '대출_276',\n",
       " '대출_277',\n",
       " '대출_278',\n",
       " '대출_279',\n",
       " '대출_280',\n",
       " '대출_281',\n",
       " '대출_282',\n",
       " '대출_283',\n",
       " '대출_284',\n",
       " '대출_285',\n",
       " '대출_286',\n",
       " '대출_287',\n",
       " '대출_288',\n",
       " '대출_289',\n",
       " '대출_290',\n",
       " '대출_291',\n",
       " '대출_292',\n",
       " '대출_293',\n",
       " '대출_294',\n",
       " '대출_295',\n",
       " '대출_296',\n",
       " '대출_297',\n",
       " '대출_298',\n",
       " '대출_300',\n",
       " '대출_301',\n",
       " '대출_302',\n",
       " '대출_306',\n",
       " '대출_307',\n",
       " '대출_308',\n",
       " '대출_310',\n",
       " '대출_311',\n",
       " '대출_314',\n",
       " '대출_315',\n",
       " '대출_316',\n",
       " '대출_317',\n",
       " '대출_318',\n",
       " '대출_319',\n",
       " '대출_320',\n",
       " '대출_321',\n",
       " '대출_322',\n",
       " '대출_323',\n",
       " '대출_324',\n",
       " '대출_325',\n",
       " '대출_326',\n",
       " '대출_327',\n",
       " '대출_328',\n",
       " '대출_329',\n",
       " '대출_330',\n",
       " '대출_331',\n",
       " '대출_332',\n",
       " '대출_333',\n",
       " '대출_334',\n",
       " '대출_335',\n",
       " '대출_336',\n",
       " '대출_337',\n",
       " '대출_338',\n",
       " '대출_339',\n",
       " '대출_340',\n",
       " '대출_341',\n",
       " '대출_342',\n",
       " '대출_343',\n",
       " '대출_344',\n",
       " '대출_345',\n",
       " '대출_346',\n",
       " '대출_347',\n",
       " '대출_348',\n",
       " '대출_349',\n",
       " '대출_350',\n",
       " '대출_352',\n",
       " '대출_353',\n",
       " '대출_354',\n",
       " '대출_355',\n",
       " '대출_356',\n",
       " '대출_357',\n",
       " '대출_358',\n",
       " '대출_359',\n",
       " '대출_360',\n",
       " '대출_362',\n",
       " '대출_363',\n",
       " '대출_364',\n",
       " '대출_365',\n",
       " '대출_366',\n",
       " '대출_367',\n",
       " '대출_368',\n",
       " '대출_369',\n",
       " '대출_370',\n",
       " '대출_373',\n",
       " '대출_374',\n",
       " '대출_375',\n",
       " '대출_376',\n",
       " '대출_377',\n",
       " '대출_378',\n",
       " '대출_379',\n",
       " '대출_380',\n",
       " '대출_381',\n",
       " '대출_382',\n",
       " '대출_383',\n",
       " '대출_384',\n",
       " '대출_385',\n",
       " '대출_386',\n",
       " '대출_391',\n",
       " '대출_392',\n",
       " '대출_393',\n",
       " '대출_394',\n",
       " '대출_395',\n",
       " '대출_396',\n",
       " '대출_397',\n",
       " '대출_398',\n",
       " '대출_399',\n",
       " '대출_400',\n",
       " '대출_401',\n",
       " '대출_403',\n",
       " '대출_404',\n",
       " '대출_405',\n",
       " '대출_406',\n",
       " '대출_407',\n",
       " '대출_408',\n",
       " '대출_409',\n",
       " '대출_411',\n",
       " '대출_412',\n",
       " '대출_413',\n",
       " '대출_414',\n",
       " '대출_415',\n",
       " '대출_416',\n",
       " '대출_417',\n",
       " '대출_418',\n",
       " '대출_419',\n",
       " '대출_420',\n",
       " '대출_421',\n",
       " '대출_422',\n",
       " '대출_423',\n",
       " '대출_424',\n",
       " '대출_425',\n",
       " '대출_426',\n",
       " '대출_427',\n",
       " '대출_428',\n",
       " '대출_429',\n",
       " '대출_430',\n",
       " '대출_431',\n",
       " '대출_432',\n",
       " '대출_433',\n",
       " '대출_434',\n",
       " '대출_435',\n",
       " '대출_436',\n",
       " '대출_437',\n",
       " '대출_438',\n",
       " '대출_439',\n",
       " '대출_440',\n",
       " '대출_441',\n",
       " '대출_442',\n",
       " '대출_443',\n",
       " '대출_444',\n",
       " '대출_445',\n",
       " '대출_446',\n",
       " '대출_447',\n",
       " '대출_448',\n",
       " '대출_449',\n",
       " '대출_450',\n",
       " '대출_451',\n",
       " '대출_452',\n",
       " '대출_453',\n",
       " '대출_454',\n",
       " '대출_455',\n",
       " '대출_456',\n",
       " '대출_457',\n",
       " '대출_458',\n",
       " '대출_459',\n",
       " '대출_460',\n",
       " '대출_461',\n",
       " '대출_462',\n",
       " '대출_463',\n",
       " '대출_464',\n",
       " '대출_465',\n",
       " '대출_466',\n",
       " '대출_467',\n",
       " '대출_468',\n",
       " '대출_469',\n",
       " '대출_470',\n",
       " '대출_471',\n",
       " '대출_472',\n",
       " '대출_473',\n",
       " '대출_474',\n",
       " '대출_475',\n",
       " '대출_476',\n",
       " '대출_477',\n",
       " '대출_478',\n",
       " '대출_479',\n",
       " '대출_480',\n",
       " '대출_481',\n",
       " '대출_482',\n",
       " '대출_483',\n",
       " '대출_484',\n",
       " '대출_485',\n",
       " '대출_486',\n",
       " '대출_487',\n",
       " '대출_488',\n",
       " '대출_489',\n",
       " '대출_490',\n",
       " '대출_491',\n",
       " '대출_492',\n",
       " '대출_493',\n",
       " '대출_494',\n",
       " '대출_495',\n",
       " '대출_496',\n",
       " '대출_497',\n",
       " '대출_498',\n",
       " '대출_499',\n",
       " '대출_500',\n",
       " '대출_501',\n",
       " '대출_502',\n",
       " '대출_503',\n",
       " '대출_504',\n",
       " '대출_505',\n",
       " '대출_506',\n",
       " '대출_507',\n",
       " '대출_508',\n",
       " '대출_509',\n",
       " '대출_510',\n",
       " '대출_511',\n",
       " '대출_512',\n",
       " '대출_513',\n",
       " '대출_514',\n",
       " '대출_515',\n",
       " '대출_516',\n",
       " '대출_517',\n",
       " '대출_518',\n",
       " '대출_519',\n",
       " '대출_520',\n",
       " '대출_521',\n",
       " '대출_522',\n",
       " '대출_523',\n",
       " '대출_524',\n",
       " '대출_525',\n",
       " '대출_526',\n",
       " '대출_527',\n",
       " '대출_528',\n",
       " '대출_529',\n",
       " '대출_530',\n",
       " '대출_531',\n",
       " '대출_532',\n",
       " '대출_533',\n",
       " '대출_534',\n",
       " '대출_535',\n",
       " '대출_536',\n",
       " '대출_537',\n",
       " '대출_538',\n",
       " '대출_539',\n",
       " '대출_540',\n",
       " '대출_541',\n",
       " '대출_542',\n",
       " '대출_543',\n",
       " '대출_544',\n",
       " '대출_545',\n",
       " '대출_546',\n",
       " '대출_547',\n",
       " '대출_548',\n",
       " '대출_549',\n",
       " '대출_550',\n",
       " '대출_551',\n",
       " '대출_552',\n",
       " '대출_553',\n",
       " '대출_554',\n",
       " '대출_555',\n",
       " '대출_556',\n",
       " '대출_557',\n",
       " '대출_558',\n",
       " '대출_559',\n",
       " '대출_560',\n",
       " '대출_561',\n",
       " '대출_562',\n",
       " '대출_563',\n",
       " '대출_564',\n",
       " '대출_565',\n",
       " '대출_566',\n",
       " '대출_567',\n",
       " '대출_568',\n",
       " '대출_569',\n",
       " '대출_570',\n",
       " '대출_571',\n",
       " '대출_572',\n",
       " '대출_573',\n",
       " '대출_574',\n",
       " '대출_575',\n",
       " '대출_576',\n",
       " '대출_577',\n",
       " '대출_578',\n",
       " '대출_579',\n",
       " '대출_580',\n",
       " '대출_581',\n",
       " '대출_582',\n",
       " '대출_583',\n",
       " '대출_584',\n",
       " '대출_585',\n",
       " '대출_586',\n",
       " '대출_587',\n",
       " '대출_588',\n",
       " '대출_589',\n",
       " '대출_590',\n",
       " '대출_591',\n",
       " '대출_592',\n",
       " '대출_593',\n",
       " '대출_594',\n",
       " '대출_595',\n",
       " '대출_596',\n",
       " '대출_597',\n",
       " '대출_598',\n",
       " '대출_599',\n",
       " '대출_600',\n",
       " '대출_601',\n",
       " '대출_602',\n",
       " '대출_603',\n",
       " '대출_604',\n",
       " '대출_606',\n",
       " '대출_607',\n",
       " '대출_608',\n",
       " '대출_609',\n",
       " '대출_610',\n",
       " '대출_611',\n",
       " '대출_612',\n",
       " '대출_614',\n",
       " '대출_616',\n",
       " '대출_617',\n",
       " '대출_618',\n",
       " '대출_619',\n",
       " '대출_620',\n",
       " '대출_621',\n",
       " '대출_630',\n",
       " '대출_631',\n",
       " '대출_632',\n",
       " '대출_633',\n",
       " '대출_634',\n",
       " '대출_635',\n",
       " '대출_636',\n",
       " '대출_637',\n",
       " '대출_638',\n",
       " '대출_639',\n",
       " '대출_640',\n",
       " '대출_641',\n",
       " '대출_642',\n",
       " '대출_643',\n",
       " '대출_644',\n",
       " '대출_645',\n",
       " '대출_647',\n",
       " '대출_648',\n",
       " '대출_649',\n",
       " '대출_650',\n",
       " '대출_651',\n",
       " '대출_652',\n",
       " '대출_654',\n",
       " '대출_655',\n",
       " '대출_656',\n",
       " '대출_657',\n",
       " '대출_658',\n",
       " '대출_659',\n",
       " '대출_660',\n",
       " '대출_661',\n",
       " '대출_662',\n",
       " '대출_663',\n",
       " '대출_664',\n",
       " '대출_665',\n",
       " '대출_667',\n",
       " '대출_668',\n",
       " '대출_670',\n",
       " '대출_671',\n",
       " '대출_672',\n",
       " '대출_673',\n",
       " '대출_674',\n",
       " '대출_675',\n",
       " '대출_676',\n",
       " '대출_677',\n",
       " '대출_678',\n",
       " '대출_679',\n",
       " '대출_680',\n",
       " '대출_681',\n",
       " '대출_682',\n",
       " '대출_683',\n",
       " '대출_684',\n",
       " '대출_685',\n",
       " '대출_686',\n",
       " '대출_687',\n",
       " '대출_688',\n",
       " '대출_689',\n",
       " '대출_690',\n",
       " '대출_691',\n",
       " '대출_692',\n",
       " '대출_693',\n",
       " '대출_694',\n",
       " '대출_695',\n",
       " '대출_696',\n",
       " '대출_697',\n",
       " '대출_698',\n",
       " '대출_699',\n",
       " '대출_700',\n",
       " '대출_701',\n",
       " '대출_702',\n",
       " '대출_703',\n",
       " '대출_704',\n",
       " '대출_705',\n",
       " '대출_706',\n",
       " '대출_707',\n",
       " '대출_708',\n",
       " '대출_709',\n",
       " '대출_710',\n",
       " '대출_711',\n",
       " '대출_712',\n",
       " '대출_713',\n",
       " '대출_714',\n",
       " '대출_715',\n",
       " '대출_716',\n",
       " '대출_717',\n",
       " '대출_718',\n",
       " '대출_719',\n",
       " '대출_720',\n",
       " '대출_721',\n",
       " '대출_722',\n",
       " '대출_723',\n",
       " '대출_724',\n",
       " '대출_725',\n",
       " '대출_726',\n",
       " '대출_727',\n",
       " '대출_728',\n",
       " '대출_729',\n",
       " '대출_730',\n",
       " '대출_731',\n",
       " '대출_732',\n",
       " '대출_733',\n",
       " '대출_734',\n",
       " '대출_735',\n",
       " '대출_736',\n",
       " '대출_737',\n",
       " '대출_738',\n",
       " '대출_739',\n",
       " '대출_740',\n",
       " '대출_741',\n",
       " '대출_742',\n",
       " '대출_743',\n",
       " '대출_744',\n",
       " '대출_745',\n",
       " '대출_746',\n",
       " '대출_747',\n",
       " '대출_748',\n",
       " '대출_749',\n",
       " '대출_750',\n",
       " '대출_751',\n",
       " '대출_752',\n",
       " '대출_753',\n",
       " '대출_754',\n",
       " '대출_755',\n",
       " '대출_756',\n",
       " '대출_757',\n",
       " '대출_758',\n",
       " '대출_759',\n",
       " '대출_760',\n",
       " '대출_761',\n",
       " '대출_762',\n",
       " '대출_763',\n",
       " '대출_764',\n",
       " '대출_765',\n",
       " '대출_766',\n",
       " '대출_767',\n",
       " '대출_768',\n",
       " '대출_769',\n",
       " '대출_770',\n",
       " '대출_771',\n",
       " '대출_772',\n",
       " '대출_773',\n",
       " '대출_774',\n",
       " '대출_775',\n",
       " '대출_776',\n",
       " '대출_777',\n",
       " '대출_778',\n",
       " '대출_779',\n",
       " '대출_780',\n",
       " '대출_781',\n",
       " '대출_782',\n",
       " '대출_783',\n",
       " '대출_784',\n",
       " '대출_785',\n",
       " '대출_786',\n",
       " '대출_787',\n",
       " '대출_788',\n",
       " '대출_789',\n",
       " '대출_790',\n",
       " '대출_791',\n",
       " '대출_792',\n",
       " '대출_793',\n",
       " '대출_794',\n",
       " '대출_795',\n",
       " '대출_796',\n",
       " '대출_797',\n",
       " '대출_798',\n",
       " '대출_799',\n",
       " '대출_800',\n",
       " '대출_801',\n",
       " '대출_802',\n",
       " '대출_803',\n",
       " '대출_804',\n",
       " '대출_805',\n",
       " '대출_806',\n",
       " '대출_807',\n",
       " '대출_808',\n",
       " '대출_809',\n",
       " '대출_810',\n",
       " '대출_811',\n",
       " '대출_812',\n",
       " '대출_813',\n",
       " '대출_814',\n",
       " '대출_815',\n",
       " '대출_816',\n",
       " '대출_817',\n",
       " '대출_818',\n",
       " '대출_819',\n",
       " '대출_820',\n",
       " '대출_821',\n",
       " '대출_822',\n",
       " '대출_823',\n",
       " '대출_824',\n",
       " '대출_825',\n",
       " '대출_826',\n",
       " '대출_827',\n",
       " '대출_828',\n",
       " '대출_829',\n",
       " '대출_830',\n",
       " '대출_831',\n",
       " '대출_832',\n",
       " '대출_833',\n",
       " '대출_834',\n",
       " '대출_835',\n",
       " '대출_836',\n",
       " '대출_837',\n",
       " '대출_838',\n",
       " '대출_839',\n",
       " '대출_840',\n",
       " '대출_841',\n",
       " '대출_842',\n",
       " '대출_843',\n",
       " '대출_844',\n",
       " '대출_845',\n",
       " '대출_846',\n",
       " '대출_847',\n",
       " '대출_848',\n",
       " '대출_849',\n",
       " '대출_850',\n",
       " '대출_851',\n",
       " '대출_852',\n",
       " '대출_853',\n",
       " '대출_854',\n",
       " '대출_855',\n",
       " '대출_856',\n",
       " '대출_857',\n",
       " '대출_858',\n",
       " '대출_859',\n",
       " '대출_860',\n",
       " '대출_861',\n",
       " '대출_862',\n",
       " '대출_863',\n",
       " '대출_864',\n",
       " '대출_865',\n",
       " '대출_866',\n",
       " '대출_867',\n",
       " '대출_868',\n",
       " '대출_869',\n",
       " '대출_870',\n",
       " '대출_871',\n",
       " '대출_872',\n",
       " '대출_873',\n",
       " '대출_874',\n",
       " '대출_875',\n",
       " '대출_876',\n",
       " '대출_877',\n",
       " '대출_878',\n",
       " '대출_879',\n",
       " '대출_880',\n",
       " '대출_881',\n",
       " '대출_882',\n",
       " '대출_883',\n",
       " '대출_884',\n",
       " '대출_885',\n",
       " '대출_886',\n",
       " '대출_887',\n",
       " '대출_888',\n",
       " '대출_889',\n",
       " '대출_890',\n",
       " '대출_891',\n",
       " '대출_892',\n",
       " '대출_893',\n",
       " '대출_895',\n",
       " '대출_896',\n",
       " '대출_897',\n",
       " '대출_898',\n",
       " '대출_900',\n",
       " '대출_901',\n",
       " '대출_902',\n",
       " '대출_903',\n",
       " '대출_904',\n",
       " '대출_905',\n",
       " '대출_906',\n",
       " '대출_907',\n",
       " '대출_908',\n",
       " '대출_909',\n",
       " '대출_910',\n",
       " '대출_911',\n",
       " '대출_912',\n",
       " '대출_913',\n",
       " '대출_914',\n",
       " '대출_915',\n",
       " '대출_916',\n",
       " '대출_917',\n",
       " '대출_918',\n",
       " '대출_919',\n",
       " '대출_920',\n",
       " '대출_921',\n",
       " '대출_922',\n",
       " '대출_923',\n",
       " '대출_924',\n",
       " '대출_925',\n",
       " '대출_926',\n",
       " '대출_927',\n",
       " '대출_928',\n",
       " '대출_929',\n",
       " '대출_930',\n",
       " '대출_931',\n",
       " '대출_932',\n",
       " '대출_933',\n",
       " '대출_934',\n",
       " '대출_935',\n",
       " '대출_936',\n",
       " '대출_937',\n",
       " '대출_938',\n",
       " '대출_939',\n",
       " '대출_940',\n",
       " '대출_941',\n",
       " '대출_942',\n",
       " '대출_943',\n",
       " '대출_944',\n",
       " '대출_945',\n",
       " '대출_946',\n",
       " '대출_947',\n",
       " '대출_948',\n",
       " '대출_949',\n",
       " '대출_950',\n",
       " '대출_951',\n",
       " '대출_952',\n",
       " '대출_953',\n",
       " '대출_954',\n",
       " '대출_955',\n",
       " '대출_956',\n",
       " '대출_957',\n",
       " '대출_958',\n",
       " '대출_959',\n",
       " '대출_960',\n",
       " '대출_961',\n",
       " '대출_962',\n",
       " '대출_963',\n",
       " '대출_964',\n",
       " '대출_965',\n",
       " '대출_966',\n",
       " '대출_967',\n",
       " '대출_968',\n",
       " '대출_969',\n",
       " '대출_970',\n",
       " '대출_971',\n",
       " '대출_972',\n",
       " '대출_973',\n",
       " '대출_974',\n",
       " '대출_975',\n",
       " '대출_976',\n",
       " '대출_979',\n",
       " '대출_980',\n",
       " '대출_981',\n",
       " '대출_982',\n",
       " '대출_983',\n",
       " '대출_984',\n",
       " '대출_985',\n",
       " '대출_986',\n",
       " '대출_987',\n",
       " '대출_988',\n",
       " '대출_989',\n",
       " '대출_990',\n",
       " '대출_991',\n",
       " '대출_992',\n",
       " '대출_993',\n",
       " '대출_994',\n",
       " '대출_995',\n",
       " '대출_996',\n",
       " '대출_997',\n",
       " '대출_998',\n",
       " '대출_999',\n",
       " '대출_1000',\n",
       " '대출_1001',\n",
       " '대출_1002',\n",
       " '대출_1003',\n",
       " '대출_1004',\n",
       " '대출_1005',\n",
       " '대출_1006',\n",
       " '대출_1007',\n",
       " '대출_1008',\n",
       " '대출_1009',\n",
       " '대출_1010',\n",
       " '대출_1011',\n",
       " '대출_1012',\n",
       " '대출_1013',\n",
       " '대출_1014',\n",
       " '대출_1015',\n",
       " '대출_1016',\n",
       " '대출_1017',\n",
       " '대출_1018',\n",
       " '대출_1019',\n",
       " '대출_1020',\n",
       " '대출_1021',\n",
       " '대출_1022',\n",
       " '대출_1023',\n",
       " '대출_1024',\n",
       " '대출_1025',\n",
       " '대출_1026',\n",
       " '대출_1027',\n",
       " '대출_1028',\n",
       " '대출_1029',\n",
       " '대출_1030',\n",
       " '대출_1031',\n",
       " '대출_1032',\n",
       " '대출_1033',\n",
       " '대출_1034',\n",
       " '대출_1035',\n",
       " '대출_1036',\n",
       " '대출_1037',\n",
       " ...]"
      ]
     },
     "execution_count": 30,
     "metadata": {},
     "output_type": "execute_result"
    }
   ],
   "source": [
    "meta_col = ['대출_고유키', '금융상품명']\n",
    "metadatas = data[meta_col]\n",
    "list(map(lambda x: x[0], metadatas.values.tolist()))"
   ]
  },
  {
   "cell_type": "code",
   "execution_count": 31,
   "id": "a56a827b-2ead-4c63-bc38-bd7592a5bfce",
   "metadata": {},
   "outputs": [
    {
     "data": {
      "text/plain": [
       "834"
      ]
     },
     "execution_count": 31,
     "metadata": {},
     "output_type": "execute_result"
    }
   ],
   "source": [
    "len(data) - len(data[data.상품특징.isna()])"
   ]
  },
  {
   "cell_type": "code",
   "execution_count": 32,
   "id": "96a10d51-569e-4c25-afb3-ebbdd072cb7b",
   "metadata": {},
   "outputs": [],
   "source": [
    "nona = data.copy()"
   ]
  },
  {
   "cell_type": "code",
   "execution_count": 33,
   "id": "6bd36e0f-319a-4960-be43-0c03e938e7f2",
   "metadata": {},
   "outputs": [
    {
     "data": {
      "text/plain": [
       "1374"
      ]
     },
     "execution_count": 33,
     "metadata": {},
     "output_type": "execute_result"
    }
   ],
   "source": [
    "len(data)"
   ]
  },
  {
   "cell_type": "code",
   "execution_count": 34,
   "id": "b0348945-9f41-4d2f-8954-adcbca32db39",
   "metadata": {},
   "outputs": [
    {
     "data": {
      "text/plain": [
       "Index([106, 107, 108], dtype='int64')"
      ]
     },
     "execution_count": 34,
     "metadata": {},
     "output_type": "execute_result"
    }
   ],
   "source": [
    "data[data.상품특징.isna()].index[:3]"
   ]
  },
  {
   "cell_type": "code",
   "execution_count": 35,
   "id": "f9c3a9ac-866b-4660-8ea8-513c162c6b6b",
   "metadata": {},
   "outputs": [
    {
     "data": {
      "text/plain": [
       "834"
      ]
     },
     "execution_count": 35,
     "metadata": {},
     "output_type": "execute_result"
    }
   ],
   "source": [
    "nona.dropna(subset='상품특징', inplace=True)\n",
    "len(nona)"
   ]
  },
  {
   "cell_type": "code",
   "execution_count": 36,
   "id": "700cf209-903d-47ad-998b-8156bdab7b7c",
   "metadata": {},
   "outputs": [],
   "source": [
    "category = 'loan'\n",
    "\n",
    "id_list = nona.대출_고유키.values.tolist()\n",
    "name_list = nona.금융상품명.values.tolist()\n",
    "text_list = nona.상품특징.values.tolist()"
   ]
  },
  {
   "cell_type": "code",
   "execution_count": 37,
   "id": "285dc93d-9426-4260-8071-6c8168e3ddcc",
   "metadata": {},
   "outputs": [
    {
     "data": {
      "text/plain": [
       "'소상공인 방역지원금을 지급받는 소기업·소상공인의 비용금융 부담 완화를 위해 한시적으로 대출금리 등 금융지원을 하는 상품개인사업자'"
      ]
     },
     "execution_count": 37,
     "metadata": {},
     "output_type": "execute_result"
    }
   ],
   "source": [
    "text_list[65]"
   ]
  },
  {
   "cell_type": "code",
   "execution_count": 38,
   "id": "66782308-d37b-4cb7-8e9f-83c4bdcc5579",
   "metadata": {},
   "outputs": [
    {
     "data": {
      "text/plain": [
       "(834, 834)"
      ]
     },
     "execution_count": 38,
     "metadata": {},
     "output_type": "execute_result"
    }
   ],
   "source": [
    "len(id_list), len(text_list)"
   ]
  },
  {
   "cell_type": "code",
   "execution_count": 39,
   "id": "f4a73687-66d4-446c-9ff3-0628350ddf1e",
   "metadata": {},
   "outputs": [],
   "source": [
    "documents = []\n",
    "\n",
    "for idx in range(len(text_list)):\n",
    "    doc = Document(text=text_list[idx], doc_id=id_list[idx], metadata={\"category\": category, \"name\": name_list[idx]}, \\\n",
    "                   excluded_llm_metadata_keys = ['category', 'name'])\n",
    "    documents.append(doc)"
   ]
  },
  {
   "cell_type": "code",
   "execution_count": 252,
   "id": "e686480e-7051-4577-b634-aa6eddb56458",
   "metadata": {},
   "outputs": [
    {
     "name": "stdout",
     "output_type": "stream",
     "text": [
      "embedding model see this: category: loan\n",
      "name: 동산·채권 담보대출 지원자금\n",
      "\n",
      "동산·채권 담보대출 활성화 지원\n",
      "\n",
      "LLM see this: 동산·채권 담보대출 활성화 지원\n"
     ]
    }
   ],
   "source": [
    "print(f'embedding model see this: {documents[2].get_content(metadata_mode=MetadataMode.EMBED)}', end='\\n\\n')\n",
    "print(f'LLM see this: {documents[2].get_content(metadata_mode=MetadataMode.LLM)}')"
   ]
  },
  {
   "cell_type": "code",
   "execution_count": 60,
   "id": "86d2e185-5773-4e3c-a8a3-2249cf9eeec8",
   "metadata": {},
   "outputs": [],
   "source": [
    "from llama_index.node_parser import SentenceSplitter "
   ]
  },
  {
   "cell_type": "code",
   "execution_count": 61,
   "id": "20acc24c-02c3-4e7b-8769-98ec6e361090",
   "metadata": {},
   "outputs": [],
   "source": [
    "parser = SentenceSplitter(chunk_size=512, chunk_overlap=30)   # SentenceSplitter(chunk_size=1024, chunk_overlap=20)\n",
    "# nodes = parser.get_nodes_from_documents(documents)"
   ]
  },
  {
   "cell_type": "code",
   "execution_count": 51,
   "id": "62466b28-9a4b-4a77-b076-d1abc278ea51",
   "metadata": {},
   "outputs": [
    {
     "data": {
      "application/vnd.jupyter.widget-view+json": {
       "model_id": "281eaba50b3e4368a00459ca89b47712",
       "version_major": 2,
       "version_minor": 0
      },
      "text/plain": [
       "config.json:   0%|          | 0.00/865 [00:00<?, ?B/s]"
      ]
     },
     "metadata": {},
     "output_type": "display_data"
    },
    {
     "data": {
      "application/vnd.jupyter.widget-view+json": {
       "model_id": "705deffb41a846ff90f93aa1706da57a",
       "version_major": 2,
       "version_minor": 0
      },
      "text/plain": [
       "pytorch_model.bin:   0%|          | 0.00/746M [00:00<?, ?B/s]"
      ]
     },
     "metadata": {},
     "output_type": "display_data"
    },
    {
     "data": {
      "application/vnd.jupyter.widget-view+json": {
       "model_id": "10e1c3bd175444e4b3a40b88477b532c",
       "version_major": 2,
       "version_minor": 0
      },
      "text/plain": [
       "tokenizer_config.json:   0%|          | 0.00/374 [00:00<?, ?B/s]"
      ]
     },
     "metadata": {},
     "output_type": "display_data"
    },
    {
     "data": {
      "application/vnd.jupyter.widget-view+json": {
       "model_id": "e5b7bdb535ec498aaee3d8865b2e84a7",
       "version_major": 2,
       "version_minor": 0
      },
      "text/plain": [
       "vocab.txt:   0%|          | 0.00/1.09M [00:00<?, ?B/s]"
      ]
     },
     "metadata": {},
     "output_type": "display_data"
    },
    {
     "data": {
      "application/vnd.jupyter.widget-view+json": {
       "model_id": "ad21767cff1940b4928ba7610f3940e9",
       "version_major": 2,
       "version_minor": 0
      },
      "text/plain": [
       "tokenizer.json:   0%|          | 0.00/3.97M [00:00<?, ?B/s]"
      ]
     },
     "metadata": {},
     "output_type": "display_data"
    },
    {
     "data": {
      "application/vnd.jupyter.widget-view+json": {
       "model_id": "1717e9ae5f854040b75b156c0d861a57",
       "version_major": 2,
       "version_minor": 0
      },
      "text/plain": [
       "special_tokens_map.json:   0%|          | 0.00/173 [00:00<?, ?B/s]"
      ]
     },
     "metadata": {},
     "output_type": "display_data"
    }
   ],
   "source": [
    "model_name = 'kakaobank/kf-deberta-base'\n",
    "embed_model = HuggingFaceEmbedding(model_name=model_name, embed_batch_size=32)"
   ]
  },
  {
   "cell_type": "code",
   "execution_count": 62,
   "id": "38c8df01-245a-48e2-889c-b432107363f8",
   "metadata": {
    "scrolled": true
   },
   "outputs": [
    {
     "name": "stdout",
     "output_type": "stream",
     "text": [
      "LLM is explicitly disabled. Using MockLLM.\n"
     ]
    }
   ],
   "source": [
    "service_context = ServiceContext.from_defaults(node_parser=parser, embed_model=embed_model, llm=None)\n",
    "# storage_context = StorageContext.from_defaults(persist_dir=persist_dir)"
   ]
  },
  {
   "cell_type": "code",
   "execution_count": 257,
   "id": "8db80e80-61db-4042-a68c-d5bfa0fb2958",
   "metadata": {},
   "outputs": [
    {
     "data": {
      "text/plain": [
       "834"
      ]
     },
     "execution_count": 257,
     "metadata": {},
     "output_type": "execute_result"
    }
   ],
   "source": [
    "len(documents)"
   ]
  },
  {
   "cell_type": "code",
   "execution_count": 258,
   "id": "df247f72-67c8-4845-a609-154111fb8cde",
   "metadata": {},
   "outputs": [],
   "source": [
    "# build index \n",
    "index = VectorStoreIndex.from_documents(\n",
    "    documents, service_context=service_context, storage_context=feature_storage\n",
    ") "
   ]
  },
  {
   "cell_type": "code",
   "execution_count": 259,
   "id": "1d6848c6-50fe-499e-8038-04577dae7b76",
   "metadata": {},
   "outputs": [
    {
     "data": {
      "text/plain": [
       "'1bfc29af-abdb-4905-87d1-61ab7cf4653c'"
      ]
     },
     "execution_count": 259,
     "metadata": {},
     "output_type": "execute_result"
    }
   ],
   "source": [
    "index.index_id"
   ]
  },
  {
   "cell_type": "code",
   "execution_count": 260,
   "id": "4e459bf9-9320-4996-b114-3a2cb33102cf",
   "metadata": {},
   "outputs": [
    {
     "data": {
      "text/plain": [
       "'Context information is below.\\n---------------------\\n임대인이 임대차계약이 있는 본인 소유의 주택을 담보로 대출을 받고, 대출이자는 임차인이 자동이체로 납부하는 주택담보대출대출신청자격- 국토교통부에서 정한 [집주인 담보대출 방식의 목돈 안드는 전세대출 이자부담부 특약]이포함된 임대차갱신계약을 체결한 임대인 중 아래 요건을 충족하는 고객님(신규임대차계약은 불가)ㅇ 임대차계약의 임차보증금이 수도권 기준 3억원(지방 2억원) 이하ㅇ 최초 또는 갱신임대차계약서가 부동산중개업소를 통한 계약서※ 수도권 : 서울특별시, 인천광역시,\\n\\n임차인에게 임대보증금을 반환하기 위한 자금을 임대인에게 지원하는 대출상품대출신청자격 임대차계약의 기간 만료(임대차계약 기간 만료 후 동일한 주택에서 동일한 임차인과 임대보증금을 인하하여 계약갱신하는 경우 포함) 등으로 임차인에게 임대보증금을 반환하기 위하여 대출을 받고자 하는 임대인으로 「주택금융신용보증서」가 발급되는 개인※ 임대인이 이미 임차인에게 임대보증금을 반환한 경우나 대상 주택 또는 대출신청인 및 배우자가 소유한 거주지의 부동산등기사항전부증명서에 소유권의 권리침해(압류, 가압류, 경매 등)가 있는 경우는 대출대상에서 제외됩니다.대출신청일 현재 임차인이 대상주택에 대항력(확정일자 및 전입)을 유지하고 있어야 합니다.※ 임차인이 임차권 등기 또는 전세권을 설정한 후 전출하였다면 전입 유지한 것으로 간주\\n---------------------\\nGiven the context information and not prior knowledge, answer the query.\\nQuery: 렌탈 요금 청구\\nAnswer: '"
      ]
     },
     "execution_count": 260,
     "metadata": {},
     "output_type": "execute_result"
    }
   ],
   "source": [
    "index.as_query_engine().query('렌탈 요금 청구').response"
   ]
  },
  {
   "cell_type": "code",
   "execution_count": 261,
   "id": "cb4a2f1a-7392-4867-a8a8-d48f9419c779",
   "metadata": {},
   "outputs": [],
   "source": [
    "# set index_id to save multiple indexes to the same folder  -> persist 시 추가되는게 아니라 덮어 쓰여짐 .. => 해결 ! sotrage_context 지정안해줘서 그럼 \n",
    "# storage context.from_defaults(persist_dir ~)은 docstore.json 파일이 있어야만 지정할 수 있는데 처음 인덱스 생성시에는 해당 부분 생략해서 docstore.json 파일 먼저 생성하기\n",
    "index.set_index_id('scrapping_feature_chroma')"
   ]
  },
  {
   "cell_type": "code",
   "execution_count": 262,
   "id": "052217a3-cc9f-40d3-bc3a-c13d2a225fd9",
   "metadata": {},
   "outputs": [
    {
     "data": {
      "text/plain": [
       "'scrapping_feature_chroma'"
      ]
     },
     "execution_count": 262,
     "metadata": {},
     "output_type": "execute_result"
    }
   ],
   "source": [
    "index.index_id"
   ]
  },
  {
   "cell_type": "markdown",
   "id": "815bc061-45f9-4ba2-99b9-626e4dc2d15f",
   "metadata": {},
   "source": [
    "### Index data insert"
   ]
  },
  {
   "cell_type": "code",
   "execution_count": 135,
   "id": "2b35c0b1-f775-4543-ae92-6a92e0fcf103",
   "metadata": {},
   "outputs": [
    {
     "data": {
      "text/html": [
       "<div>\n",
       "<style scoped>\n",
       "    .dataframe tbody tr th:only-of-type {\n",
       "        vertical-align: middle;\n",
       "    }\n",
       "\n",
       "    .dataframe tbody tr th {\n",
       "        vertical-align: top;\n",
       "    }\n",
       "\n",
       "    .dataframe thead th {\n",
       "        text-align: right;\n",
       "    }\n",
       "</style>\n",
       "<table border=\"1\" class=\"dataframe\">\n",
       "  <thead>\n",
       "    <tr style=\"text-align: right;\">\n",
       "      <th></th>\n",
       "      <th>대출_고유키</th>\n",
       "      <th>금융상품명</th>\n",
       "      <th>상품특징</th>\n",
       "      <th>대출신청자격</th>\n",
       "      <th>상품설명</th>\n",
       "    </tr>\n",
       "  </thead>\n",
       "  <tbody>\n",
       "    <tr>\n",
       "      <th>0</th>\n",
       "      <td>대출_0</td>\n",
       "      <td>혁신성장산업 지원자금</td>\n",
       "      <td>9대 선도산업 등 정부발표 혁신성장 분야에 대한 효율적 금융지원</td>\n",
       "      <td>○ (지원대상) 다음 중 하나에 해당하는 기업 혁신성장 정책금융협의회 선정 「혁신성...</td>\n",
       "      <td>9대 선도산업 등 정부발표 혁신성장 분야에 대한 효율적 금융지원</td>\n",
       "    </tr>\n",
       "  </tbody>\n",
       "</table>\n",
       "</div>"
      ],
      "text/plain": [
       "  대출_고유키        금융상품명                                 상품특징  \\\n",
       "0   대출_0  혁신성장산업 지원자금  9대 선도산업 등 정부발표 혁신성장 분야에 대한 효율적 금융지원   \n",
       "\n",
       "                                              대출신청자격  \\\n",
       "0  ○ (지원대상) 다음 중 하나에 해당하는 기업 혁신성장 정책금융협의회 선정 「혁신성...   \n",
       "\n",
       "                                  상품설명  \n",
       "0  9대 선도산업 등 정부발표 혁신성장 분야에 대한 효율적 금융지원  "
      ]
     },
     "execution_count": 135,
     "metadata": {},
     "output_type": "execute_result"
    }
   ],
   "source": [
    "data = pd.read_csv(os.path.join(data_path, 'financial', 'SHINHAN BANK_Financial_Product_Scraping_Result_20240104_LOAN_vec.csv'))\n",
    "data.head(1)"
   ]
  },
  {
   "cell_type": "raw",
   "id": "36299aed-be10-49e2-8547-c5b413c4fed3",
   "metadata": {},
   "source": [
    "data['예금_고유키'] = data['예금_고유키'].apply(lambda x: '예금' + '_' + x.split('_')[1])\n",
    "data.head(1)"
   ]
  },
  {
   "cell_type": "raw",
   "id": "bbfc1963-4e07-4c58-a6e3-c7d1a57a751a",
   "metadata": {},
   "source": [
    "chroma_client.delete_collection('desc')"
   ]
  },
  {
   "cell_type": "code",
   "execution_count": 136,
   "id": "8af4ffa5-af60-46a6-911d-8ba0003a9e63",
   "metadata": {},
   "outputs": [
    {
     "data": {
      "text/plain": [
       "1343"
      ]
     },
     "execution_count": 136,
     "metadata": {},
     "output_type": "execute_result"
    }
   ],
   "source": [
    "nona = data.copy() \n",
    "nona.dropna(subset='상품설명', inplace=True)\n",
    "len(nona)"
   ]
  },
  {
   "cell_type": "code",
   "execution_count": 137,
   "id": "16c62226-4eeb-4162-a09e-d6c674d652cb",
   "metadata": {},
   "outputs": [],
   "source": [
    "category = 'loan'\n",
    "\n",
    "id_list = nona.대출_고유키.values.tolist()\n",
    "name_list = nona.금융상품명.values.tolist()\n",
    "desc_list = nona.상품설명.values.tolist()"
   ]
  },
  {
   "cell_type": "code",
   "execution_count": 138,
   "id": "9e733dd6-ea55-41cc-be38-cdb00b7f9b1e",
   "metadata": {},
   "outputs": [],
   "source": [
    "documents = []\n",
    "for idx in range(len(desc_list)):\n",
    "    doc = Document(text=desc_list[idx], doc_id=id_list[idx], metadata={\"category\": category, \"name\": name_list[idx]},\n",
    "                   excluded_llm_metadata_keys = ['category', 'name'])\n",
    "    documents.append(doc)"
   ]
  },
  {
   "cell_type": "code",
   "execution_count": 139,
   "id": "ec6bd8c7-af02-46ce-b333-ec796d0f76d7",
   "metadata": {},
   "outputs": [],
   "source": [
    "for doc in documents:\n",
    "    index.insert(doc)"
   ]
  },
  {
   "cell_type": "markdown",
   "id": "dc0409ea-4ee6-4eb3-98ed-2f68efb98476",
   "metadata": {},
   "source": [
    "### Save Index "
   ]
  },
  {
   "cell_type": "code",
   "execution_count": 263,
   "id": "8d0a69d3-b251-47a9-aaef-4a0cb8ebdb83",
   "metadata": {},
   "outputs": [],
   "source": [
    "index.storage_context.persist(persist_dir=os.path.join(index_path, 'feature'))"
   ]
  },
  {
   "cell_type": "markdown",
   "id": "4ae6b644-fbd2-475a-9959-ed9bec3af063",
   "metadata": {},
   "source": [
    "### Index Load "
   ]
  },
  {
   "cell_type": "code",
   "execution_count": 49,
   "id": "f023ed3a-ebd8-47e3-a562-23947f5cfc7e",
   "metadata": {},
   "outputs": [],
   "source": [
    "vector_store = ChromaVectorStore(\n",
    "    chroma_collection=qualification_collection,\n",
    ")"
   ]
  },
  {
   "cell_type": "code",
   "execution_count": 66,
   "id": "9950f070-7e0b-44b8-a099-97c7aa6d8a51",
   "metadata": {},
   "outputs": [
    {
     "name": "stdout",
     "output_type": "stream",
     "text": [
      "LLM is explicitly disabled. Using MockLLM.\n"
     ]
    }
   ],
   "source": [
    "service_context = ServiceContext.from_defaults(node_parser=parser, embed_model=embed_model, llm=None)"
   ]
  },
  {
   "cell_type": "code",
   "execution_count": 67,
   "id": "524dd64b-49a2-44a1-9bc8-b5f1dbcca90c",
   "metadata": {},
   "outputs": [],
   "source": [
    "index = VectorStoreIndex.from_vector_store(\n",
    "    vector_store,\n",
    "    service_context=service_context,\n",
    ")"
   ]
  },
  {
   "cell_type": "code",
   "execution_count": 68,
   "id": "9ee9e088-c822-422b-ac1c-2d8974795d9f",
   "metadata": {},
   "outputs": [
    {
     "data": {
      "text/plain": [
       "'Context information is below.\\n---------------------\\n- 국토교통부에서 정한 [집주인 담보대출 방식의 목돈 안드는 전세대출 이자부담부 특약]이포함된 임대차갱신계약을 체결한 임대인 중 아래 요건을 충족하는 고객님(신규임대차계약은 불가)ㅇ 임대차계약의 임차보증금이 수도권 기준 3억원(지방 2억원) 이하ㅇ 최초 또는 갱신임대차계약서가 부동산중개업소를 통한 계약서※ 수도권 : 서울특별시, 인천광역시,\\n\\n신용카드를 소지한 개인회원 중 신용도 및 이용실적에 의해 장기카드대출 대상자로 선정된 회원 (단, 대상자로 선정되어도 신청시점의 신용상태 변동에 따라 장기카드대출 신청이 제한될 수 있습니다.)계약기간3개월, 6개월, 9개월, 12개월, 18개월, 24개월, 36개월, 48개월, 60개월 중 선택가능 (고객님의 신용도, 이용실적 및 장기카드대출 신청금액에 따라 대출가능개월 수가 변동될 수 있으며, 거치기간 선택 시 거치기간 만큼 대출기간이 연장됩니다.)이자지급식주기1년을 365일(윤년은 366일)로 보고 1윌 단위로 계산유의사항신용정보관리대상 또는 연체 시 장기카드대출 이용이 제한될 수 있습니다.대출한도 및 이자율은 고객님의 신용도 및 이용실적에 따라 차등 적용됩니다.\\n---------------------\\nGiven the context information and not prior knowledge, answer the query.\\nQuery: 렌탈 요금 청구\\nAnswer: '"
      ]
     },
     "execution_count": 68,
     "metadata": {},
     "output_type": "execute_result"
    }
   ],
   "source": [
    "index.as_query_engine().query('렌탈 요금 청구').response"
   ]
  },
  {
   "cell_type": "raw",
   "id": "b7c387b3-2dba-4141-bc1d-b1b6146df4f9",
   "metadata": {},
   "source": [
    "index_path"
   ]
  },
  {
   "cell_type": "code",
   "execution_count": null,
   "id": "89c00f10-8c8d-4fcf-a7c6-59a8b1559b30",
   "metadata": {},
   "outputs": [],
   "source": [
    "from llama_index import StorageContext, load_index_from_storage, load_indices_from_storage\n",
    "\n",
    "desc_storage_context = StorageContext.from_defaults(persist_dir=os.path.join(index_path, 'desc'))\n",
    "features_storage_context = StorageContext.from_defaults(persist_dir=os.path.join(index_path, 'features'))\n",
    "qualification_storage_context = StorageContext.from_defaults(persist_dir=os.path.join(index_path, 'qualification'))"
   ]
  },
  {
   "cell_type": "raw",
   "id": "5c1c306d-45f5-4013-80b4-0a082601c91f",
   "metadata": {
    "scrolled": true
   },
   "source": [
    "features_idx = load_index_from_storage(features_storage_context, index_id='loan_tmp')\n",
    "desc_idx = load_indices_from_storage(desc_storage_context, index_ids=['card_tmp', 'deposit_tmp'])\n",
    "qualification_idx = load_index_from_storage(qualification_storage_context)"
   ]
  },
  {
   "cell_type": "raw",
   "id": "bc9fcfe5-b18d-49e2-8660-4993ec68fcd4",
   "metadata": {},
   "source": [
    "''' VectorDB를 사용하는 경우 '''\n",
    "\n",
    "vector_store = ChromaVectorStore(chroma_collection=chroma_collection)\n",
    "storage_context = StorageContext.from_defaults(vector_store=vector_store)\n",
    "service_context = ServiceContext.from_defaults(embed_model=embed_model)\n",
    "index = VectorStoreIndex.from_documents(\n",
    "    documents, storage_context=storage_context, service_context=service_context\n",
    ")"
   ]
  }
 ],
 "metadata": {
  "kernelspec": {
   "display_name": "Python 3 (ipykernel)",
   "language": "python",
   "name": "python3"
  },
  "language_info": {
   "codemirror_mode": {
    "name": "ipython",
    "version": 3
   },
   "file_extension": ".py",
   "mimetype": "text/x-python",
   "name": "python",
   "nbconvert_exporter": "python",
   "pygments_lexer": "ipython3",
   "version": "3.10.13"
  }
 },
 "nbformat": 4,
 "nbformat_minor": 5
}
