{
 "cells": [
  {
   "cell_type": "code",
   "execution_count": 1,
   "id": "2274e9db-9765-4a8b-8f11-e6d13908cd8c",
   "metadata": {},
   "outputs": [],
   "source": [
    "import chromadb\n",
    "import pandas as pd \n",
    "import openai\n",
    "import os\n",
    "import getpass\n",
    "from llama_index import VectorStoreIndex, SimpleDirectoryReader, ServiceContext\n",
    "from llama_index import QueryBundle \n",
    "from llama_index.vector_stores import ChromaVectorStore\n",
    "from llama_index.readers.chroma import ChromaReader\n",
    "from llama_index import StorageContext, load_index_from_storage, load_indices_from_storage\n",
    "# from transformers import AutoTokenizer, AutoModel\n",
    "from llama_index.embeddings import HuggingFaceEmbedding\n",
    "from llama_index.llms import HuggingFaceLLM\n",
    "from llama_index.node_parser import SentenceSplitter \n",
    "from llama_index.schema import MetadataMode\n",
    "from IPython.display import Markdown, display\n",
    "from llama_index.retrievers import VectorIndexRetriever \n",
    "from llama_index.query_engine import RetrieverQueryEngine \n",
    "from llama_index.postprocessor import SimilarityPostprocessor \n",
    "from llama_index.postprocessor import KeywordNodePostprocessor \n",
    "from llama_index.postprocessor import SimilarityPostprocessor, CohereRerank\n",
    "from llama_index.tools.query_engine import QueryEngineTool, ToolMetadata\n",
    "from llama_index.schema import Node, NodeWithScore "
   ]
  },
  {
   "cell_type": "code",
   "execution_count": 4,
   "id": "a3851b80-d424-4995-9228-406836c2f9dc",
   "metadata": {},
   "outputs": [],
   "source": [
    "data_path = os.path.join('/workspace/data/')\n",
    "index_path = os.path.join('/workspace/db/local')"
   ]
  },
  {
   "cell_type": "code",
   "execution_count": 5,
   "id": "1fa96877-ceb9-42cb-a98f-b5b872352e87",
   "metadata": {},
   "outputs": [
    {
     "name": "stdin",
     "output_type": "stream",
     "text": [
      "OpenAI API Key: ········\n"
     ]
    }
   ],
   "source": [
    "os.environ[\"OPENAI_API_KEY\"] = getpass.getpass(\"OpenAI API Key:\")\n",
    "openai.api_key = os.environ[\"OPENAI_API_KEY\"]"
   ]
  },
  {
   "cell_type": "code",
   "execution_count": 3,
   "id": "467c7f6b-7a5d-433f-b6ef-4931178f915b",
   "metadata": {},
   "outputs": [],
   "source": [
    "model_name = 'kakaobank/kf-deberta-base'\n",
    "embed_model = HuggingFaceEmbedding(model_name=model_name)"
   ]
  },
  {
   "cell_type": "code",
   "execution_count": 7,
   "id": "ebaef5a7-2a15-4fbc-ab2b-b70d25ccf9d5",
   "metadata": {},
   "outputs": [],
   "source": [
    "parser = SentenceSplitter(chunk_size=512, chunk_overlap=30)   # SentenceSplitter(chunk_size=1024, chunk_overlap=20)"
   ]
  },
  {
   "cell_type": "code",
   "execution_count": 8,
   "id": "7a939ad3-3d32-4c3a-9d34-08ca7e55c27f",
   "metadata": {},
   "outputs": [
    {
     "name": "stdout",
     "output_type": "stream",
     "text": [
      "LLM is explicitly disabled. Using MockLLM.\n"
     ]
    }
   ],
   "source": [
    "service_context = ServiceContext.from_defaults(node_parser=parser, embed_model=embed_model, llm=None)"
   ]
  },
  {
   "cell_type": "code",
   "execution_count": 10,
   "id": "45144cdf-da56-48cf-97f8-13c5c06cd1c6",
   "metadata": {},
   "outputs": [],
   "source": [
    "desc_storage_context = StorageContext.from_defaults(persist_dir=os.path.join(index_path, 'desc'))\n",
    "features_storage_context = StorageContext.from_defaults(persist_dir=os.path.join(index_path, 'features'))\n",
    "qualification_storage_context = StorageContext.from_defaults(persist_dir=os.path.join(index_path, 'qualification'))"
   ]
  },
  {
   "cell_type": "code",
   "execution_count": 11,
   "id": "a35e4040-560d-41ec-8ddd-f3054725efe1",
   "metadata": {},
   "outputs": [],
   "source": [
    "# service_context 전달 안해주면 query 시 dimension 오류 발생 \n",
    "features_idx = load_index_from_storage(features_storage_context, index_id='loan_tmp', service_context=service_context)\n",
    "desc_idx = load_indices_from_storage(desc_storage_context, index_ids=['card_tmp', 'loan_tmp', 'deposit_tmp'], service_context=service_context)\n",
    "qualification_idx = load_index_from_storage(qualification_storage_context, index_id='loan_tmp', service_context=service_context)"
   ]
  },
  {
   "cell_type": "code",
   "execution_count": 12,
   "id": "43724ff7-ea34-44e5-b02f-624c011dc1e8",
   "metadata": {},
   "outputs": [],
   "source": [
    "desc_card_engine = desc_idx[0].as_query_engine(\n",
    "    similarity_top_k=2, service_context=service_context\n",
    ")\n",
    "desc_loan_engine = desc_idx[1].as_query_engine(\n",
    "    similarity_top_k=2, service_context=service_context\n",
    ")\n",
    "desc_depo_engine = desc_idx[2].as_query_engine(\n",
    "    similarity_top_k=2, service_context=service_context\n",
    ")"
   ]
  },
  {
   "cell_type": "code",
   "execution_count": 15,
   "id": "116eacf6-d7be-45b7-923d-3645eb173e33",
   "metadata": {},
   "outputs": [],
   "source": [
    "query_tool_desc = QueryEngineTool.from_defaults(\n",
    "    query_engine=desc_card_engine,\n",
    "    name=\"desc_card\",\n",
    "    description=(\n",
    "        f\"카드 상품에 대한 상품 정보를 설명한다\"\n",
    "    ),\n",
    ")\n",
    "query_tool_loan = QueryEngineTool.from_defaults(\n",
    "    query_engine=desc_loan_engine,\n",
    "    name=\"desc_loan\",\n",
    "    description=(\n",
    "        f\"대출 상품에 대한 상품 정보를 설명한다\"\n",
    "    ),\n",
    ")\n",
    "query_tool_deposit = QueryEngineTool.from_defaults(\n",
    "    query_engine=desc_depo_engine,\n",
    "    name=\"desc_depo\",\n",
    "    description=(\n",
    "        f\"예금 상품에 대한 상품 정보를 설명한다\"\n",
    "    ),\n",
    ")\n",
    "\n",
    "query_engine_tools = [query_tool_desc, query_tool_loan, query_tool_deposit]"
   ]
  },
  {
   "cell_type": "code",
   "execution_count": 16,
   "id": "71441b1c-e277-4456-98e4-e4c6113dcd99",
   "metadata": {},
   "outputs": [
    {
     "data": {
      "text/plain": [
       "[<llama_index.tools.query_engine.QueryEngineTool at 0x7fb490beaec0>,\n",
       " <llama_index.tools.query_engine.QueryEngineTool at 0x7fb490be94e0>,\n",
       " <llama_index.tools.query_engine.QueryEngineTool at 0x7fb490be99c0>]"
      ]
     },
     "execution_count": 16,
     "metadata": {},
     "output_type": "execute_result"
    }
   ],
   "source": [
    "query_engine_tools"
   ]
  },
  {
   "cell_type": "code",
   "execution_count": 17,
   "id": "0ba340b3-1966-4b32-bbd4-5ef5ef8f2a95",
   "metadata": {},
   "outputs": [],
   "source": [
    "import nest_asyncio\n",
    "\n",
    "nest_asyncio.apply()"
   ]
  },
  {
   "cell_type": "code",
   "execution_count": 28,
   "id": "e2a17f0f-0e81-43c4-a28a-4a89bac25dbb",
   "metadata": {},
   "outputs": [],
   "source": [
    "service_context = ServiceContext.from_defaults(node_parser=parser, embed_model=embed_model)"
   ]
  },
  {
   "cell_type": "code",
   "execution_count": 29,
   "id": "b6e2fc50-4904-412e-971a-4b22ca807be0",
   "metadata": {},
   "outputs": [],
   "source": [
    "from llama_index.query_engine import SubQuestionQueryEngine \n",
    "\n",
    "query_engine = SubQuestionQueryEngine.from_defaults(\n",
    "    query_engine_tools=query_engine_tools, service_context=service_context\n",
    ")"
   ]
  },
  {
   "cell_type": "raw",
   "id": "dfd46e89-3f61-4731-9241-7c46d88c0c20",
   "metadata": {},
   "source": [
    "query_engine = desc_idx[0].as_query_engine()\n",
    "query_engine.query('보증 자격')"
   ]
  },
  {
   "cell_type": "code",
   "execution_count": 30,
   "id": "fe739e56-3e05-4fb6-8b0b-40e4f5cc2b70",
   "metadata": {},
   "outputs": [
    {
     "name": "stdout",
     "output_type": "stream",
     "text": [
      "Generated 3 sub questions.\n",
      "\u001b[1;3;38;2;237;90;200m[desc_card] Q: What are the features of the desc_card tool?\n",
      "\u001b[0m\u001b[1;3;38;2;237;90;200m[desc_card] A: Context information is below.\n",
      "---------------------\n",
      "This card will make you smile\n",
      "\n",
      "Catch me in the moment!\n",
      "---------------------\n",
      "Given the context information and not prior knowledge, answer the query.\n",
      "Query: What are the features of the desc_card tool?\n",
      "Answer: \n",
      "\u001b[0m\u001b[1;3;38;2;90;149;237m[desc_loan] Q: What information can the desc_loan tool provide?\n",
      "\u001b[0m\u001b[1;3;38;2;90;149;237m[desc_loan] A: Context information is below.\n",
      "---------------------\n",
      "누구나3분이면한도조회OK!\n",
      "\n",
      "나(MY)를 위한 맞춤 대출!\n",
      "---------------------\n",
      "Given the context information and not prior knowledge, answer the query.\n",
      "Query: What information can the desc_loan tool provide?\n",
      "Answer: \n",
      "\u001b[0m\u001b[1;3;38;2;11;159;203m[desc_depo] Q: What data does the desc_depo tool offer?\n",
      "\u001b[0m\u001b[1;3;38;2;11;159;203m[desc_depo] A: Context information is below.\n",
      "---------------------\n",
      "사업자 은행 거래의 시작!\n",
      "\n",
      "급여이체실적만으로 더 많은혜택을!\n",
      "---------------------\n",
      "Given the context information and not prior knowledge, answer the query.\n",
      "Query: What data does the desc_depo tool offer?\n",
      "Answer: \n",
      "\u001b[0m"
     ]
    },
    {
     "data": {
      "text/plain": [
       "Response(response='The desc_card tool offers features that can make you smile and catch you in the moment.', source_nodes=[NodeWithScore(node=TextNode(id_='2a4b8400-48e5-43ca-bd87-0ff098e98cf4', embedding=None, metadata={}, excluded_embed_metadata_keys=[], excluded_llm_metadata_keys=[], relationships={}, hash='074f809ed3002467ce0ad7edd110486dc72704cd86b13c3dba29d6bcff3d335e', text='Sub question: What are the features of the desc_card tool?\\nResponse: Context information is below.\\n---------------------\\nThis card will make you smile\\n\\nCatch me in the moment!\\n---------------------\\nGiven the context information and not prior knowledge, answer the query.\\nQuery: What are the features of the desc_card tool?\\nAnswer: ', start_char_idx=None, end_char_idx=None, text_template='{metadata_str}\\n\\n{content}', metadata_template='{key}: {value}', metadata_seperator='\\n'), score=None), NodeWithScore(node=TextNode(id_='10a6bd77-4edd-42d8-b0ef-ec0715e3569a', embedding=None, metadata={}, excluded_embed_metadata_keys=[], excluded_llm_metadata_keys=[], relationships={}, hash='4d6464da1226d139e3c917238e3c57f728a1cf513dfa36860f586238eb8fa17f', text='Sub question: What information can the desc_loan tool provide?\\nResponse: Context information is below.\\n---------------------\\n누구나3분이면한도조회OK!\\n\\n나(MY)를 위한 맞춤 대출!\\n---------------------\\nGiven the context information and not prior knowledge, answer the query.\\nQuery: What information can the desc_loan tool provide?\\nAnswer: ', start_char_idx=None, end_char_idx=None, text_template='{metadata_str}\\n\\n{content}', metadata_template='{key}: {value}', metadata_seperator='\\n'), score=None), NodeWithScore(node=TextNode(id_='9f348e9a-e058-4ad1-8237-d30c482719bb', embedding=None, metadata={}, excluded_embed_metadata_keys=[], excluded_llm_metadata_keys=[], relationships={}, hash='6594ab3ba2053821eb3c8aef8146a52a95fc6ee4310db29aff5b8e0b0a1e4c68', text='Sub question: What data does the desc_depo tool offer?\\nResponse: Context information is below.\\n---------------------\\n사업자 은행 거래의 시작!\\n\\n급여이체실적만으로 더 많은혜택을!\\n---------------------\\nGiven the context information and not prior knowledge, answer the query.\\nQuery: What data does the desc_depo tool offer?\\nAnswer: ', start_char_idx=None, end_char_idx=None, text_template='{metadata_str}\\n\\n{content}', metadata_template='{key}: {value}', metadata_seperator='\\n'), score=None), NodeWithScore(node=TextNode(id_='d6cd598b-e794-4af8-b57e-1fffc2fd6feb', embedding=None, metadata={'category': 'card'}, excluded_embed_metadata_keys=[], excluded_llm_metadata_keys=['category'], relationships={<NodeRelationship.SOURCE: '1'>: RelatedNodeInfo(node_id='카드_181', node_type=<ObjectType.DOCUMENT: '4'>, metadata={'category': 'card'}, hash='946ad5edec9313f073e06e5a4f28c76f59ac1bf46912366dbfd14bdd5839a4c7'), <NodeRelationship.PREVIOUS: '2'>: RelatedNodeInfo(node_id='cbe23b63-8b72-4725-af87-0a40853c76af', node_type=<ObjectType.TEXT: '1'>, metadata={'category': 'card'}, hash='ae3265c0f79670434d32870cdb7a3ff1e3c7a889c4c95925a2f909a38d223b20'), <NodeRelationship.NEXT: '3'>: RelatedNodeInfo(node_id='75daac04-c085-4084-a3d8-4c020dd18965', node_type=<ObjectType.TEXT: '1'>, metadata={}, hash='f70ab5374e88a6dc0dc118769908eb66cf539ad09e310ee1ffa2fc1714a85965')}, hash='946ad5edec9313f073e06e5a4f28c76f59ac1bf46912366dbfd14bdd5839a4c7', text='This card will make you smile', start_char_idx=0, end_char_idx=29, text_template='{metadata_str}\\n\\n{content}', metadata_template='{key}: {value}', metadata_seperator='\\n'), score=0.6358535571303678), NodeWithScore(node=TextNode(id_='75daac04-c085-4084-a3d8-4c020dd18965', embedding=None, metadata={'category': 'card'}, excluded_embed_metadata_keys=[], excluded_llm_metadata_keys=['category'], relationships={<NodeRelationship.SOURCE: '1'>: RelatedNodeInfo(node_id='카드_182', node_type=<ObjectType.DOCUMENT: '4'>, metadata={'category': 'card'}, hash='645b817b1dcdfda8fb916a884d8442db56e1f3b80b87006c81d78d6e60e44b4c'), <NodeRelationship.PREVIOUS: '2'>: RelatedNodeInfo(node_id='d6cd598b-e794-4af8-b57e-1fffc2fd6feb', node_type=<ObjectType.TEXT: '1'>, metadata={'category': 'card'}, hash='ac419b5f598ed93fe26c7c1029587709ce688573fc1803f02830847dc79e5e39'), <NodeRelationship.NEXT: '3'>: RelatedNodeInfo(node_id='824ebd33-2529-41b2-90f9-fa775a7fd5f8', node_type=<ObjectType.TEXT: '1'>, metadata={}, hash='6e2457bc882011839100fc83ab1574d69c900e7aa0a39a143ac9a82859f7f6a4')}, hash='645b817b1dcdfda8fb916a884d8442db56e1f3b80b87006c81d78d6e60e44b4c', text='Catch me in the moment!', start_char_idx=0, end_char_idx=23, text_template='{metadata_str}\\n\\n{content}', metadata_template='{key}: {value}', metadata_seperator='\\n'), score=0.6293237379838218), NodeWithScore(node=TextNode(id_='fb20edf4-d1ed-42d9-8d90-e0e807a00471', embedding=None, metadata={'category': 'loan'}, excluded_embed_metadata_keys=[], excluded_llm_metadata_keys=['category'], relationships={<NodeRelationship.SOURCE: '1'>: RelatedNodeInfo(node_id='대출_308', node_type=<ObjectType.DOCUMENT: '4'>, metadata={'category': 'loan'}, hash='a335696ca1b8ae120dd11316aea4adaef391ae17af7b052dda561663e872c04c'), <NodeRelationship.PREVIOUS: '2'>: RelatedNodeInfo(node_id='8831b65c-1a70-46a3-b6ad-a8047d9f2de0', node_type=<ObjectType.TEXT: '1'>, metadata={'category': 'loan'}, hash='9a9aa3817503566df287382d6e98d82771286a65dba5c22e39c79b0e29de211d'), <NodeRelationship.NEXT: '3'>: RelatedNodeInfo(node_id='079d178f-a353-4584-8105-2d83005d6407', node_type=<ObjectType.TEXT: '1'>, metadata={}, hash='55abc1eee2e25b1a5148c8b5a12bc5001e6acfc23b935dea3a698fd692d87a27')}, hash='a335696ca1b8ae120dd11316aea4adaef391ae17af7b052dda561663e872c04c', text='누구나3분이면한도조회OK!', start_char_idx=0, end_char_idx=14, text_template='{metadata_str}\\n\\n{content}', metadata_template='{key}: {value}', metadata_seperator='\\n'), score=0.5750501403710285), NodeWithScore(node=TextNode(id_='ca820451-a5ee-4780-b8a8-9cdbcb5ee435', embedding=None, metadata={'category': 'loan'}, excluded_embed_metadata_keys=[], excluded_llm_metadata_keys=['category'], relationships={<NodeRelationship.SOURCE: '1'>: RelatedNodeInfo(node_id='대출_1160', node_type=<ObjectType.DOCUMENT: '4'>, metadata={'category': 'loan'}, hash='5738b350d94ca0d58ae85afc064eb6e1e950dbeae34cf1c128832ea2a1a18015'), <NodeRelationship.PREVIOUS: '2'>: RelatedNodeInfo(node_id='0a2c86ca-ce2d-4924-bc70-bab34e207c19', node_type=<ObjectType.TEXT: '1'>, metadata={'category': 'loan'}, hash='46fadaee86e7ddddc3b54b93c76d623fe85ccdb6711eb2bdec66ebe5ea7b8f3e'), <NodeRelationship.NEXT: '3'>: RelatedNodeInfo(node_id='7b1b29f1-7def-4abf-8c2b-b307bfbbf8b9', node_type=<ObjectType.TEXT: '1'>, metadata={}, hash='5e33e0843fbb8d63e84a08cfb850c50151ebbcdb542eeae6df61fe701c5392d1')}, hash='5738b350d94ca0d58ae85afc064eb6e1e950dbeae34cf1c128832ea2a1a18015', text='나(MY)를 위한 맞춤 대출!', start_char_idx=0, end_char_idx=16, text_template='{metadata_str}\\n\\n{content}', metadata_template='{key}: {value}', metadata_seperator='\\n'), score=0.5741401940804619), NodeWithScore(node=TextNode(id_='88ba4a2c-76fa-4d35-a63a-5e568738ab7a', embedding=None, metadata={'category': 'deposit'}, excluded_embed_metadata_keys=[], excluded_llm_metadata_keys=['category'], relationships={<NodeRelationship.SOURCE: '1'>: RelatedNodeInfo(node_id='보증_838', node_type=<ObjectType.DOCUMENT: '4'>, metadata={'category': 'deposit'}, hash='6ff68ed00bbe721cc9eb99f8be53be82acc63b606b38dd85fc48755d1eb9818d'), <NodeRelationship.PREVIOUS: '2'>: RelatedNodeInfo(node_id='8fba6e52-ab7b-4816-8db4-e1b31b330138', node_type=<ObjectType.TEXT: '1'>, metadata={'category': 'deposit'}, hash='51b49aa1c5dc4ad32bc0bf0e2c78de71612568936dca19c2ae8e79f616bd9055'), <NodeRelationship.NEXT: '3'>: RelatedNodeInfo(node_id='0493be80-f4a3-4261-b6ec-c1832900c466', node_type=<ObjectType.TEXT: '1'>, metadata={}, hash='6f3125ea58f84d7d83207dcb77090b7840afabb6b8d2f46a5cb652d3963c9d30')}, hash='6ff68ed00bbe721cc9eb99f8be53be82acc63b606b38dd85fc48755d1eb9818d', text='사업자 은행 거래의 시작!', start_char_idx=0, end_char_idx=14, text_template='{metadata_str}\\n\\n{content}', metadata_template='{key}: {value}', metadata_seperator='\\n'), score=0.5073582150604224), NodeWithScore(node=TextNode(id_='25621c70-0803-4684-910a-8fb64ccd4095', embedding=None, metadata={'category': 'deposit'}, excluded_embed_metadata_keys=[], excluded_llm_metadata_keys=['category'], relationships={<NodeRelationship.SOURCE: '1'>: RelatedNodeInfo(node_id='보증_537', node_type=<ObjectType.DOCUMENT: '4'>, metadata={'category': 'deposit'}, hash='3daa43d000f7262876bcea40e3b547f98b9580754f4386285580ca0d4532a3fd'), <NodeRelationship.PREVIOUS: '2'>: RelatedNodeInfo(node_id='cf15e943-7e13-4917-8322-0af266bb1706', node_type=<ObjectType.TEXT: '1'>, metadata={'category': 'deposit'}, hash='b873894a15804f50e501b430cde6dfaa1eba69c602cd2ffc2f127e711da29857'), <NodeRelationship.NEXT: '3'>: RelatedNodeInfo(node_id='29d1fcbf-ac26-4a61-bc0a-b2de3493d22f', node_type=<ObjectType.TEXT: '1'>, metadata={}, hash='fa5a055bc0fcfd4fa654a54d50579701500cd657c51ebfe8045a52886439215e')}, hash='3daa43d000f7262876bcea40e3b547f98b9580754f4386285580ca0d4532a3fd', text='급여이체실적만으로 더 많은혜택을!', start_char_idx=0, end_char_idx=18, text_template='{metadata_str}\\n\\n{content}', metadata_template='{key}: {value}', metadata_seperator='\\n'), score=0.5055643891674179)], metadata={'2a4b8400-48e5-43ca-bd87-0ff098e98cf4': {}, '10a6bd77-4edd-42d8-b0ef-ec0715e3569a': {}, '9f348e9a-e058-4ad1-8237-d30c482719bb': {}, 'd6cd598b-e794-4af8-b57e-1fffc2fd6feb': {'category': 'card'}, '75daac04-c085-4084-a3d8-4c020dd18965': {'category': 'card'}, 'fb20edf4-d1ed-42d9-8d90-e0e807a00471': {'category': 'loan'}, 'ca820451-a5ee-4780-b8a8-9cdbcb5ee435': {'category': 'loan'}, '88ba4a2c-76fa-4d35-a63a-5e568738ab7a': {'category': 'deposit'}, '25621c70-0803-4684-910a-8fb64ccd4095': {'category': 'deposit'}})"
      ]
     },
     "execution_count": 30,
     "metadata": {},
     "output_type": "execute_result"
    }
   ],
   "source": [
    "import asyncio\n",
    "\n",
    "query_engine.query(QueryBundle('카드 보조ㅡ '))"
   ]
  },
  {
   "cell_type": "code",
   "execution_count": null,
   "id": "41c30a3c-b95e-45b7-b4ef-bbf9d08ce44d",
   "metadata": {},
   "outputs": [],
   "source": []
  }
 ],
 "metadata": {
  "kernelspec": {
   "display_name": "Python 3 (ipykernel)",
   "language": "python",
   "name": "python3"
  },
  "language_info": {
   "codemirror_mode": {
    "name": "ipython",
    "version": 3
   },
   "file_extension": ".py",
   "mimetype": "text/x-python",
   "name": "python",
   "nbconvert_exporter": "python",
   "pygments_lexer": "ipython3",
   "version": "3.10.13"
  }
 },
 "nbformat": 4,
 "nbformat_minor": 5
}
