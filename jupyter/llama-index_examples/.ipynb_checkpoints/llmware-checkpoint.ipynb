{
 "cells": [
  {
   "cell_type": "code",
   "execution_count": 1,
   "id": "dba316a1-9d86-4a7d-9cb9-7317e0544d8a",
   "metadata": {},
   "outputs": [],
   "source": [
    "from llama_index import Document, VectorStoreIndex, SimpleDirectoryReader, ServiceContext\n",
    "from llama_index.vector_stores import ChromaVectorStore\n",
    "from llama_index.readers.chroma import ChromaReader\n",
    "from llama_index.storage.storage_context import StorageContext\n",
    "# from transformers import AutoTokenizer, AutoModel\n",
    "from llama_index.embeddings import HuggingFaceEmbedding\n",
    "from llama_index.schema import MetadataMode\n",
    "from IPython.display import Markdown, display\n",
    "import chromadb\n",
    "import pandas as pd \n",
    "import openai\n",
    "import os\n",
    "import getpass"
   ]
  },
  {
   "cell_type": "code",
   "execution_count": 2,
   "id": "a6857fd3-3be1-4ebc-b958-c3fb9ead0a75",
   "metadata": {},
   "outputs": [],
   "source": [
    "data_path = os.path.join('/workspace/data/')\n",
    "index_path = os.path.join('/workspace/db/chroma-local')"
   ]
  },
  {
   "cell_type": "code",
   "execution_count": 3,
   "id": "ede44a4d-d275-435f-b0b4-bb9bdabd8406",
   "metadata": {},
   "outputs": [],
   "source": [
    "chroma_client = chromadb.PersistentClient(path=index_path)\n",
    "desc_collection = chroma_client.get_or_create_collection(\"desc\")\n",
    "feature_collection = chroma_client.get_or_create_collection(\"feature\")\n",
    "qualification_collection = chroma_client.get_or_create_collection(\"qualification\")"
   ]
  },
  {
   "cell_type": "code",
   "execution_count": 4,
   "id": "09153a4b-74a9-4cd1-9c10-79dd5f2bb868",
   "metadata": {},
   "outputs": [],
   "source": [
    "chroma_client = chromadb.PersistentClient(path=index_path)\n",
    "desc_collection = chroma_client.get_or_create_collection(\"desc\")\n",
    "feature_collection = chroma_client.get_or_create_collection(\"feature\")\n",
    "qualification_collection = chroma_client.get_or_create_collection(\"qualification\")"
   ]
  },
  {
   "cell_type": "code",
   "execution_count": 6,
   "id": "1f73d9df-c52d-4002-8b6b-13f9160f095b",
   "metadata": {},
   "outputs": [
    {
     "data": {
      "text/plain": [
       "3893"
      ]
     },
     "execution_count": 6,
     "metadata": {},
     "output_type": "execute_result"
    }
   ],
   "source": [
    "desc_collection.count()"
   ]
  },
  {
   "cell_type": "code",
   "execution_count": 1,
   "id": "f6b52c73-3c86-4492-9f53-bf2fda2d2444",
   "metadata": {},
   "outputs": [],
   "source": [
    "test = dict()\n",
    "\n",
    "test['key1'] = 'val1'\n",
    "test['key2'] = 'val2'"
   ]
  },
  {
   "cell_type": "code",
   "execution_count": 3,
   "id": "86e43409-212f-48a0-b0c9-2dea71e52e80",
   "metadata": {},
   "outputs": [
    {
     "name": "stdout",
     "output_type": "stream",
     "text": [
      "val1\n",
      "val2\n"
     ]
    }
   ],
   "source": [
    "for data in test.values():\n",
    "    print(data)"
   ]
  },
  {
   "cell_type": "code",
   "execution_count": 4,
   "id": "ed4c8d28-f689-4e51-afe7-622a649d7b52",
   "metadata": {},
   "outputs": [
    {
     "ename": "ModuleNotFoundError",
     "evalue": "No module named 'llmware'",
     "output_type": "error",
     "traceback": [
      "\u001b[0;31m---------------------------------------------------------------------------\u001b[0m",
      "\u001b[0;31mModuleNotFoundError\u001b[0m                       Traceback (most recent call last)",
      "Cell \u001b[0;32mIn[4], line 1\u001b[0m\n\u001b[0;32m----> 1\u001b[0m \u001b[38;5;28;01mfrom\u001b[39;00m \u001b[38;5;21;01mllmware\u001b[39;00m\u001b[38;5;21;01m.\u001b[39;00m\u001b[38;5;21;01mmodels\u001b[39;00m \u001b[38;5;28;01mimport\u001b[39;00m ModelCatalog\n\u001b[1;32m      3\u001b[0m ModelCatalog()\u001b[38;5;241m.\u001b[39mget_llm_toolkit()  \u001b[38;5;66;03m# get all SLIM models, delivered as small, fast quantized tools \u001b[39;00m\n\u001b[1;32m      4\u001b[0m ModelCatalog()\u001b[38;5;241m.\u001b[39mtool_test_run(\u001b[38;5;124m\"\u001b[39m\u001b[38;5;124mslim-sentiment-tool\u001b[39m\u001b[38;5;124m\"\u001b[39m)\n",
      "\u001b[0;31mModuleNotFoundError\u001b[0m: No module named 'llmware'"
     ]
    }
   ],
   "source": [
    "from llmware.models import ModelCatalog\n",
    "\n",
    "ModelCatalog().get_llm_toolkit()  # get all SLIM models, delivered as small, fast quantized tools \n",
    "ModelCatalog().tool_test_run(\"slim-sentiment-tool\") # see the model in action with test script included  "
   ]
  },
  {
   "cell_type": "code",
   "execution_count": null,
   "id": "cb74942c-6baa-476b-8bcc-a2a30d49197d",
   "metadata": {},
   "outputs": [],
   "source": [
    "!pip install llmware"
   ]
  },
  {
   "cell_type": "code",
   "execution_count": null,
   "id": "c8b95293-dcb2-4ae1-ba64-044a160f0728",
   "metadata": {},
   "outputs": [],
   "source": []
  }
 ],
 "metadata": {
  "kernelspec": {
   "display_name": "Python 3 (ipykernel)",
   "language": "python",
   "name": "python3"
  },
  "language_info": {
   "codemirror_mode": {
    "name": "ipython",
    "version": 3
   },
   "file_extension": ".py",
   "mimetype": "text/x-python",
   "name": "python",
   "nbconvert_exporter": "python",
   "pygments_lexer": "ipython3",
   "version": "3.10.13"
  }
 },
 "nbformat": 4,
 "nbformat_minor": 5
}
