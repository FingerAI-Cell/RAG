{
 "cells": [
  {
   "cell_type": "code",
   "execution_count": 1,
   "id": "2dc32bca-4e8f-47bd-805a-388f97c32c45",
   "metadata": {},
   "outputs": [],
   "source": [
    "from llama_index import VectorStoreIndex, SimpleDirectoryReader, ServiceContext\n",
    "from llama_index.vector_stores import ChromaVectorStore\n",
    "from llama_index.readers.chroma import ChromaReader\n",
    "from llama_index import StorageContext, load_index_from_storage, load_indices_from_storage\n",
    "from transformers import AutoModelForCausalLM, AutoTokenizer, BitsAndBytesConfig\n",
    "from llama_index.embeddings import HuggingFaceEmbedding\n",
    "from llama_index.llms import HuggingFaceLLM\n",
    "from llama_index.node_parser import SentenceSplitter \n",
    "from llama_index.schema import MetadataMode\n",
    "from IPython.display import Markdown, display\n",
    "from llama_index import QueryBundle \n",
    "from peft import PeftModel, PeftConfig\n",
    "from transformers import TextStreamer, GenerationConfig\n",
    "from transformers import LlamaForCausalLM, LlamaTokenizer, LlamaTokenizerFast, BitsAndBytesConfig\n",
    "from llama_index.response_synthesizers import (\n",
    "    ResponseMode,\n",
    "    get_response_synthesizer,\n",
    ")\n",
    "import chromadb\n",
    "import transformers\n",
    "import pandas as pd\n",
    "import json \n",
    "import openai\n",
    "import os\n",
    "import getpass\n",
    "import torch"
   ]
  },
  {
   "cell_type": "raw",
   "id": "00fac997-9d1a-4b6a-8548-a50229414f5b",
   "metadata": {},
   "source": [
    "from llama_index.core import (\n",
    "    VectorStoreIndex,\n",
    "    SimpleDirectoryReader,\n",
    "    StorageContext,\n",
    "    SimpleKeywordTableIndex,\n",
    ")\n",
    "from llama_index.core import SummaryIndex\n",
    "from llama_index.core.node_parser import SentenceSplitter\n",
    "from llama_index.llms.openai import OpenAI"
   ]
  },
  {
   "cell_type": "code",
   "execution_count": 2,
   "id": "c585baa9-62df-4b5b-9002-de8d13389e0e",
   "metadata": {},
   "outputs": [],
   "source": [
    "default_path = os.getcwd()\n",
    "data_path = os.path.join(default_path, '/rag/data')\n",
    "model_path = os.path.join(default_path, '/rag/models')\n",
    "config_path = os.path.join(default_path, '/rag/config')"
   ]
  },
  {
   "cell_type": "raw",
   "id": "05913765-f614-4e57-989f-5fa421094571",
   "metadata": {
    "scrolled": true
   },
   "source": [
    "os.environ[\"OPENAI_API_KEY\"] = getpass.getpass(\"OpenAI API Key:\")\n",
    "openai.api_key = os.environ[\"OPENAI_API_KEY\"]"
   ]
  },
  {
   "cell_type": "code",
   "execution_count": 3,
   "id": "29e615ce-adc4-40f3-b1f8-ebf862421032",
   "metadata": {},
   "outputs": [],
   "source": [
    "model_dir = os.path.join(model_path, \"mistral_origin\")"
   ]
  },
  {
   "cell_type": "code",
   "execution_count": 4,
   "id": "56b720b7-7f2b-4934-bcc1-fd39ce870af2",
   "metadata": {},
   "outputs": [
    {
     "data": {
      "application/vnd.jupyter.widget-view+json": {
       "model_id": "65b73e3a58ac4ab49093b954b0e8d3dc",
       "version_major": 2,
       "version_minor": 0
      },
      "text/plain": [
       "Loading checkpoint shards:   0%|          | 0/3 [00:00<?, ?it/s]"
      ]
     },
     "metadata": {},
     "output_type": "display_data"
    }
   ],
   "source": [
    "tokenizer = AutoTokenizer.from_pretrained(os.path.join(model_dir, 'tokenizer'))   # LlamaTokenizer (x)  -> LlamaTokenizerFast (o)\n",
    "model = AutoModelForCausalLM.from_pretrained(model_dir, torch_dtype=torch.float16, low_cpu_mem_usage=True) # , device_map=\"auto\")"
   ]
  },
  {
   "cell_type": "code",
   "execution_count": 5,
   "id": "b5fa515d-8a09-48e6-b90b-90b717a2b69c",
   "metadata": {
    "scrolled": true
   },
   "outputs": [
    {
     "data": {
      "text/plain": [
       "MistralForCausalLM(\n",
       "  (model): MistralModel(\n",
       "    (embed_tokens): Embedding(32000, 4096)\n",
       "    (layers): ModuleList(\n",
       "      (0-31): 32 x MistralDecoderLayer(\n",
       "        (self_attn): MistralAttention(\n",
       "          (q_proj): Linear(in_features=4096, out_features=4096, bias=False)\n",
       "          (k_proj): Linear(in_features=4096, out_features=1024, bias=False)\n",
       "          (v_proj): Linear(in_features=4096, out_features=1024, bias=False)\n",
       "          (o_proj): Linear(in_features=4096, out_features=4096, bias=False)\n",
       "          (rotary_emb): MistralRotaryEmbedding()\n",
       "        )\n",
       "        (mlp): MistralMLP(\n",
       "          (gate_proj): Linear(in_features=4096, out_features=14336, bias=False)\n",
       "          (up_proj): Linear(in_features=4096, out_features=14336, bias=False)\n",
       "          (down_proj): Linear(in_features=14336, out_features=4096, bias=False)\n",
       "          (act_fn): SiLU()\n",
       "        )\n",
       "        (input_layernorm): MistralRMSNorm()\n",
       "        (post_attention_layernorm): MistralRMSNorm()\n",
       "      )\n",
       "    )\n",
       "    (norm): MistralRMSNorm()\n",
       "  )\n",
       "  (lm_head): Linear(in_features=4096, out_features=32000, bias=False)\n",
       ")"
      ]
     },
     "execution_count": 5,
     "metadata": {},
     "output_type": "execute_result"
    }
   ],
   "source": [
    "g_device = torch.device(\"cuda\") if torch.cuda.is_available() else \"cpu\"\n",
    "model.to(g_device)"
   ]
  },
  {
   "cell_type": "code",
   "execution_count": 6,
   "id": "54444992-67e2-4fa3-9cc6-784ac8186375",
   "metadata": {},
   "outputs": [],
   "source": [
    "generation_config = GenerationConfig(\n",
    "    temperature=0.8,\n",
    "    do_sample=True,\n",
    "    top_p=0.95,\n",
    "    max_new_tokens=512,\n",
    ")"
   ]
  },
  {
   "cell_type": "code",
   "execution_count": 7,
   "id": "eae796ca-b3c7-4918-bb9d-c76094d7a80b",
   "metadata": {},
   "outputs": [],
   "source": [
    "# col = ['qualification', 'desc', 'features']\n",
    "col = ['card', 'loan', 'deposit']"
   ]
  },
  {
   "cell_type": "code",
   "execution_count": 8,
   "id": "235f8829-7a3e-4ef5-abf1-226924cb1775",
   "metadata": {},
   "outputs": [],
   "source": [
    "vector_db = chromadb.HttpClient(host='192.168.0.146')"
   ]
  },
  {
   "cell_type": "code",
   "execution_count": 16,
   "id": "b44dbaf7-1bea-433a-9e16-b1383ac51ccf",
   "metadata": {},
   "outputs": [
    {
     "data": {
      "text/plain": [
       "[Collection(name=deposit), Collection(name=card), Collection(name=loan)]"
      ]
     },
     "execution_count": 16,
     "metadata": {},
     "output_type": "execute_result"
    }
   ],
   "source": [
    "vector_db.list_collections()"
   ]
  },
  {
   "cell_type": "code",
   "execution_count": 17,
   "id": "080c52f9-ae15-4852-b10f-45f5ddf7a277",
   "metadata": {},
   "outputs": [],
   "source": [
    "card_collection = vector_db.get_or_create_collection(\"card\")\n",
    "loan_collection = vector_db.get_or_create_collection(\"loan\")\n",
    "deposit_collection = vector_db.get_or_create_collection(\"deposit\")"
   ]
  },
  {
   "cell_type": "code",
   "execution_count": 20,
   "id": "5061e2cb-0d3e-4ce2-801e-4deecdea6abf",
   "metadata": {},
   "outputs": [
    {
     "data": {
      "text/plain": [
       "1527"
      ]
     },
     "execution_count": 20,
     "metadata": {},
     "output_type": "execute_result"
    }
   ],
   "source": [
    "deposit_collection.count()"
   ]
  },
  {
   "cell_type": "code",
   "execution_count": 21,
   "id": "47f235eb-98ef-4226-acc0-cce25e29ccdd",
   "metadata": {},
   "outputs": [],
   "source": [
    "generation_config = GenerationConfig(\n",
    "    temperature=0.8,\n",
    "    do_sample=True,\n",
    "    top_p=0.95,\n",
    "    max_new_tokens=512,\n",
    ")"
   ]
  },
  {
   "cell_type": "code",
   "execution_count": 11,
   "id": "1be8c892-baa9-4d80-a69c-4e4fdcb5da6f",
   "metadata": {},
   "outputs": [],
   "source": [
    "model_name = 'kakaobank/kf-deberta-base'\n",
    "embed_model = HuggingFaceEmbedding(model_name=model_name)"
   ]
  },
  {
   "cell_type": "code",
   "execution_count": 22,
   "id": "7185680c-7c09-413b-aa29-99f38326b664",
   "metadata": {},
   "outputs": [
    {
     "name": "stdout",
     "output_type": "stream",
     "text": [
      "LLM is explicitly disabled. Using MockLLM.\n"
     ]
    }
   ],
   "source": [
    "service_context = ServiceContext.from_defaults(embed_model=embed_model, llm=None)"
   ]
  },
  {
   "cell_type": "code",
   "execution_count": 23,
   "id": "d3792b4b-db7a-4a08-8ca2-63e74025238e",
   "metadata": {},
   "outputs": [],
   "source": [
    "parser = SentenceSplitter(chunk_size=512, chunk_overlap=30)   # SentenceSplitter(chunk_size=1024, chunk_overlap=20)"
   ]
  },
  {
   "cell_type": "code",
   "execution_count": 24,
   "id": "015bc0cd-70f9-4f7d-ab07-0dd1ab093ec1",
   "metadata": {},
   "outputs": [
    {
     "name": "stdout",
     "output_type": "stream",
     "text": [
      "LLM is explicitly disabled. Using MockLLM.\n"
     ]
    }
   ],
   "source": [
    "embedding_service = ServiceContext.from_defaults(node_parser=parser, embed_model=embed_model, llm=None)"
   ]
  },
  {
   "cell_type": "code",
   "execution_count": 25,
   "id": "3e915e46-9596-4cca-ac84-aec0040cd77b",
   "metadata": {},
   "outputs": [],
   "source": [
    "card_store = ChromaVectorStore(chroma_collection=card_collection)\n",
    "loan_store = ChromaVectorStore(chroma_collection=loan_collection)\n",
    "deposit_store = ChromaVectorStore(chroma_collection=deposit_collection)"
   ]
  },
  {
   "cell_type": "code",
   "execution_count": 26,
   "id": "aa02984a-d302-4aba-b5ae-a2477329291c",
   "metadata": {},
   "outputs": [],
   "source": [
    "# service_context 전달 안해주면 query 시 dimension 오류 발생 \n",
    "card_idx = VectorStoreIndex.from_vector_store(card_store, service_context=embedding_service)\n",
    "loan_idx = VectorStoreIndex.from_vector_store(loan_store, service_context=embedding_service)\n",
    "deposit_idx = VectorStoreIndex.from_vector_store(deposit_store, service_context=embedding_service)"
   ]
  },
  {
   "cell_type": "code",
   "execution_count": 27,
   "id": "1280d5fa-4975-44af-91b4-6b28e330fc50",
   "metadata": {},
   "outputs": [],
   "source": [
    "card_retriever = card_idx.as_retriever()\n",
    "loan_retriever = loan_idx.as_retriever()\n",
    "deposit_retriever = deposit_idx.as_retriever()"
   ]
  },
  {
   "cell_type": "code",
   "execution_count": 35,
   "id": "2bd996c6-d3ce-4f13-ac52-66bbf83cbeab",
   "metadata": {},
   "outputs": [],
   "source": [
    "from llama_index.tools import RetrieverTool\n",
    "\n",
    "card_tool = RetrieverTool.from_defaults(\n",
    "    retriever=card_retriever, \n",
    "    description=(\n",
    "        \"카드 상품에 대해 물어볼 때 대답해줘\"\n",
    "    ),\n",
    ")"
   ]
  },
  {
   "cell_type": "code",
   "execution_count": 39,
   "id": "11c557f3-50c4-4a00-883c-041293759fe0",
   "metadata": {},
   "outputs": [],
   "source": [
    "loan_tool = RetrieverTool.from_defaults(\n",
    "    retriever=loan_retriever,\n",
    "    description=(\n",
    "        \"대출 상품에 대해 물어볼 때 대답해줘\"\n",
    "    ),\n",
    ")"
   ]
  },
  {
   "cell_type": "code",
   "execution_count": 40,
   "id": "89a3b214-2652-4b34-928e-d2aabecefd9a",
   "metadata": {},
   "outputs": [],
   "source": [
    "deposit_tool = RetrieverTool.from_defaults(\n",
    "    retriever=deposit_retriever,\n",
    "    description=(\n",
    "        \"예금 상품에 대해 질문할 때 대답해줘\"\n",
    "    ),\n",
    ")"
   ]
  },
  {
   "cell_type": "code",
   "execution_count": 56,
   "id": "aa4fb093-4fdc-42d1-b96f-bea988c01f4d",
   "metadata": {},
   "outputs": [],
   "source": [
    "from llama_index.selectors import LLMSingleSelector, LLMMultiSelector, EmbeddingSingleSelector\n",
    "'''from llama_index.selectors import (\n",
    "    PydanticMultiSelector,\n",
    "    PydanticSingleSelector,\n",
    ")'''\n",
    "from llama_index.retrievers import RouterRetriever\n",
    "from llama_index.response.notebook_utils import display_source_node"
   ]
  },
  {
   "cell_type": "code",
   "execution_count": 67,
   "id": "a108ca5b-48c1-4135-ac63-59646783d2f3",
   "metadata": {
    "scrolled": true
   },
   "outputs": [],
   "source": [
    "retriever = RouterRetriever(\n",
    "    selector=EmbeddingSingleSelector.from_defaults(embed_model=embed_model),\n",
    "    retriever_tools=[\n",
    "        card_tool,\n",
    "        loan_tool,\n",
    "        deposit_tool,\n",
    "    ],\n",
    "    service_context=embedding_service\n",
    ")"
   ]
  },
  {
   "cell_type": "code",
   "execution_count": 68,
   "id": "5ac27125-ea04-4df2-a592-8d3b26e8221a",
   "metadata": {},
   "outputs": [
    {
     "data": {
      "text/plain": [
       "2"
      ]
     },
     "execution_count": 68,
     "metadata": {},
     "output_type": "execute_result"
    }
   ],
   "source": [
    "len(retriever.retrieve(\"청년들이 가입할 수 있는 대출 상품과 카드 상품 추천해줘\"))"
   ]
  },
  {
   "cell_type": "code",
   "execution_count": 69,
   "id": "d2deb403-0c69-475a-a373-c58dffee137f",
   "metadata": {},
   "outputs": [],
   "source": [
    "nodes = retriever.retrieve(\"청년들이 가입할 수 있는 대출 상품과 카드 상품 추천해줘\")"
   ]
  },
  {
   "cell_type": "code",
   "execution_count": 70,
   "id": "f2a8be42-1e75-4593-9b3d-11106de837e3",
   "metadata": {},
   "outputs": [],
   "source": [
    "def get_info(retrieved_node):\n",
    "    '''\n",
    "    id, text, score 반환 \n",
    "    '''\n",
    "    id = retrieved_node.node.relationships['1'].node_id\n",
    "    name = retrieved_node.node.relationships['1'].metadata['name']\n",
    "    txt = retrieved_node.node.text \n",
    "    score = retrieved_node.score \n",
    "    return [id, name, txt, score] "
   ]
  },
  {
   "cell_type": "code",
   "execution_count": 76,
   "id": "12f788e8-fd95-4e90-9d37-2fdd06fc36cc",
   "metadata": {},
   "outputs": [
    {
     "data": {
      "text/plain": [
       "(['대출_1363',\n",
       "  '신한전세대출(서울보증보험)',\n",
       "  '신규전세(보증부월세포함)입주를원하는고객님께입주자금을최고5억원,전세(보증부월세포함)를이미살고계신분에게도생활자금을최고5억원까지지원하는전세전용대출상품입니다.',\n",
       "  0.5076472903743463],\n",
       " ['대출_1372',\n",
       "  '생애최초구입자금대출(특례구입자금보증)',\n",
       "  '주택담보와주택금융공사보증서의복합담보형태로생애최초주택구입고객에게한도를확대해드립니다.',\n",
       "  0.5045543840577253])"
      ]
     },
     "execution_count": 76,
     "metadata": {},
     "output_type": "execute_result"
    }
   ],
   "source": [
    "get_info(nodes[0]), get_info(nodes[1])"
   ]
  },
  {
   "cell_type": "code",
   "execution_count": 72,
   "id": "8cd026b1-cc86-45f7-8219-c6aa40898891",
   "metadata": {},
   "outputs": [
    {
     "data": {
      "text/plain": [
       "True"
      ]
     },
     "execution_count": 72,
     "metadata": {},
     "output_type": "execute_result"
    }
   ],
   "source": [
    "nodes[0].score > nodes[1].score"
   ]
  },
  {
   "cell_type": "code",
   "execution_count": 73,
   "id": "b250d6a6-d602-4ac0-b127-dc3aaef70c86",
   "metadata": {
    "scrolled": true
   },
   "outputs": [
    {
     "data": {
      "text/plain": [
       "[NodeWithScore(node=TextNode(id_='1de15e53-d5d6-47e8-9e9a-b9cd27ce7ff4', embedding=None, metadata={'category': 'loan', 'name': '신한전세대출(서울보증보험)', 'type': '상품설명'}, excluded_embed_metadata_keys=[], excluded_llm_metadata_keys=['category', 'name'], relationships={<NodeRelationship.SOURCE: '1'>: RelatedNodeInfo(node_id='대출_1363', node_type=<ObjectType.DOCUMENT: '4'>, metadata={'category': 'loan', 'name': '신한전세대출(서울보증보험)', 'type': '상품설명'}, hash='fc26636a0c4f3849a7f27e880966b3f9ee9725d51e6bdce6e07d1af0691a2b83'), <NodeRelationship.PREVIOUS: '2'>: RelatedNodeInfo(node_id='fe3a6197-a1b9-4935-a239-75b146d6b37b', node_type=<ObjectType.TEXT: '1'>, metadata={'category': 'loan', 'name': '쏠편한소방공무원대출', 'type': '상품설명'}, hash='a4e91e531d37772587dcfe0dc231abe9d8c8ef27ffe14591290b5baa53a363a1'), <NodeRelationship.NEXT: '3'>: RelatedNodeInfo(node_id='180fe7a4-4343-411e-87dc-3cdb5ff6144b', node_type=<ObjectType.TEXT: '1'>, metadata={}, hash='9d0e6b71dcaf76d2cd72516300d13438739af2c06348eb4679a3db5684613105')}, hash='09517e87ffe776079877259cac7d6a551b38b8bf5007b66fe3819ce8634df5bb', text='신규전세(보증부월세포함)입주를원하는고객님께입주자금을최고5억원,전세(보증부월세포함)를이미살고계신분에게도생활자금을최고5억원까지지원하는전세전용대출상품입니다.', start_char_idx=0, end_char_idx=84, text_template='{metadata_str}\\n\\n{content}', metadata_template='{key}: {value}', metadata_seperator='\\n'), score=0.5076472903743463),\n",
       " NodeWithScore(node=TextNode(id_='98e7a869-85f2-41f5-b262-21d5a58f56d1', embedding=None, metadata={'category': 'loan', 'name': '생애최초구입자금대출(특례구입자금보증)', 'type': '상품설명'}, excluded_embed_metadata_keys=[], excluded_llm_metadata_keys=['category', 'name'], relationships={<NodeRelationship.SOURCE: '1'>: RelatedNodeInfo(node_id='대출_1372', node_type=<ObjectType.DOCUMENT: '4'>, metadata={'category': 'loan', 'name': '생애최초구입자금대출(특례구입자금보증)', 'type': '상품설명'}, hash='854b2615aef8b477866ea80c8022505e56d033b40a1dfe2728cfe0d6354e3975'), <NodeRelationship.PREVIOUS: '2'>: RelatedNodeInfo(node_id='c9cee551-47d7-46a0-836f-cc0c5b1fecc1', node_type=<ObjectType.TEXT: '1'>, metadata={'category': 'loan', 'name': '공무원신용대출(영업점신청만가능)', 'type': '상품설명'}, hash='436135a2272378a83f69bf5f48d1907256c0eb608adc9d209e9a7a22628d8fb2'), <NodeRelationship.NEXT: '3'>: RelatedNodeInfo(node_id='740f4ac8-b8c3-4afa-adf9-677ba7c76f56', node_type=<ObjectType.TEXT: '1'>, metadata={}, hash='db95341a7a46e72c655a92a266efc233269a522b2100859a1103894b10eb2e44')}, hash='dfe282d152e1d12a9b29c80a1fff261df484533ff911b0cb34a83ddb93d6e93e', text='주택담보와주택금융공사보증서의복합담보형태로생애최초주택구입고객에게한도를확대해드립니다.', start_char_idx=0, end_char_idx=45, text_template='{metadata_str}\\n\\n{content}', metadata_template='{key}: {value}', metadata_seperator='\\n'), score=0.5045543840577253)]"
      ]
     },
     "execution_count": 73,
     "metadata": {},
     "output_type": "execute_result"
    }
   ],
   "source": [
    "nodes"
   ]
  },
  {
   "cell_type": "code",
   "execution_count": null,
   "id": "49ee0037-da9f-4dc4-90eb-873999c5294e",
   "metadata": {},
   "outputs": [],
   "source": []
  }
 ],
 "metadata": {
  "kernelspec": {
   "display_name": "Python 3 (ipykernel)",
   "language": "python",
   "name": "python3"
  },
  "language_info": {
   "codemirror_mode": {
    "name": "ipython",
    "version": 3
   },
   "file_extension": ".py",
   "mimetype": "text/x-python",
   "name": "python",
   "nbconvert_exporter": "python",
   "pygments_lexer": "ipython3",
   "version": "3.10.13"
  }
 },
 "nbformat": 4,
 "nbformat_minor": 5
}
