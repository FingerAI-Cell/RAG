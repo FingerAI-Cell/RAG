{
 "cells": [
  {
   "cell_type": "code",
   "execution_count": 15,
   "id": "5d53f274-44dd-4d17-a4e9-a9dc4467ce86",
   "metadata": {},
   "outputs": [],
   "source": [
    "import os \n",
    "import re\n",
    "import pandas as pd \n",
    "import openai\n",
    "import getpass\n",
    "from llama_index import(VectorStoreIndex,\n",
    "                        SimpleDirectoryReader,\n",
    "                        load_index_from_storage,\n",
    "                        StorageContext,\n",
    "                        ServiceContext,\n",
    "                        Document)\n",
    "from llama_index.text_splitter import SentenceSplitter\n",
    "from llama_index.extractors import TitleExtractor \n",
    "from llama_index.embeddings import OpenAIEmbedding\n",
    "from llama_index.schema import TransformComponent\n",
    "from llama_index.ingestion import IngestionPipeline"
   ]
  },
  {
   "cell_type": "code",
   "execution_count": 5,
   "id": "5bb17093-cc37-47b4-8f17-77f7cdba742e",
   "metadata": {},
   "outputs": [],
   "source": [
    "default_path = os.getcwd()\n",
    "data_path = os.path.join('/workspace/data/')"
   ]
  },
  {
   "cell_type": "code",
   "execution_count": 16,
   "id": "98d45cd7-6217-4dd7-8e2d-6f35c6dcf48d",
   "metadata": {},
   "outputs": [
    {
     "name": "stdin",
     "output_type": "stream",
     "text": [
      "OpenAI API Key: ········\n"
     ]
    }
   ],
   "source": [
    "os.environ[\"OPENAI_API_KEY\"] = getpass.getpass(\"OpenAI API Key:\")\n",
    "openai.api_key = os.environ[\"OPENAI_API_KEY\"]"
   ]
  },
  {
   "cell_type": "raw",
   "id": "58c13259-5da0-43ca-8603-e2aad4cf74f8",
   "metadata": {},
   "source": [
    "# documents = SimpleDirectoryReader(os.path.join(data_path, 'pdf', 'rules')).load_data()\n",
    "reader = SimpleDirectoryReader(input_files=[os.path.join(data_path, 'pdf', 'rules', '취업규칙.pdf')])\n",
    "for docs in reader.iter_data():\n",
    "    print(docs)"
   ]
  },
  {
   "cell_type": "raw",
   "id": "d73385de-9c3a-4e1b-b6fd-e68c98481dfd",
   "metadata": {},
   "source": [
    "# documents = SimpleDirectoryReader(os.path.join(data_path, 'pdf', 'rules')).load_data()\n",
    "documents = SimpleDirectoryReader(input_files=[os.path.join(data_path, 'pdf', 'rules', '취업규칙.pdf')]).load_data()\n",
    "print(len(documents))\n",
    "print(documents)"
   ]
  },
  {
   "cell_type": "code",
   "execution_count": 49,
   "id": "20cf2d19-9f1e-46a5-8f8f-82017622bb5e",
   "metadata": {},
   "outputs": [
    {
     "data": {
      "text/plain": [
       "'2 \\n 차    례 \\n \\n제1장 총 칙 \\n제1조(목적) ·······························  5 \\n제2조(적용범위 ) ·····························  5 \\n제3조(사원의 정의) ···························  5 \\n \\n제2장 채용 및 근로계약  \\n제4조(채용기회 ) ·····························  5 \\n제5조(전형 및 채용서류 ) ·························  5 \\n제6조(근로계약 ) ·····························  5 \\n제7조(수습기간 ) ·····························  5 \\n \\n제3장 복 무 \\n제8조(복무의무 ) ·····························  6 \\n제9조(출근, 결근) ····························  6 \\n제10조(지각․조퇴 및 외출) ························  6 \\n제11조(공민권행사  및 공의 직무 수행) ··················  6 \\n제12조(출장) ······························  6 \\n \\n제4장 인사 \\n제1절 인사위원회  \\n제13조(인사위원회의  구성) ························  7 \\n제14조(위원회의  기능) ··························  7 \\n제15조(위원회의  소집 및 운영) ······················  7 \\n \\n     제2절 배치・전직 및 승진 \\n제16조(배치, 전직, 승진) ························  7 \\n \\n제3절 휴직 및 복직 \\n제17조(휴직) ······························  7 \\n제18조(육아휴직 ) ····························  8 \\n제19조(가족돌봄휴직  등)  ························  8 \\n제20조(가족돌봄  등을 위한 근로시간  단축)  ················  8 \\n제21조(복직) ······························  8 \\n제22조(근속기간의  계산) ·························  9 \\n \\n제5장 근로조건   \\n제1절 근로시간  \\n제23조(근무형태 ) ····························  9 \\n제24조(근로시간 ) ····························  9 \\n제25조(휴게) ······························  9 \\n제26조(간주근로시간제 ) ·························  9 \\n제27조(연장․야간 및 휴일근로 ) ······················  9 \\n제28조(야간 및 휴일근로의  제한) ····················  10 \\n제29조(근로시간  및 휴게, 휴일의 적용제외 ) ···············  10 '"
      ]
     },
     "execution_count": 49,
     "metadata": {},
     "output_type": "execute_result"
    }
   ],
   "source": [
    "documents[1].text"
   ]
  },
  {
   "cell_type": "code",
   "execution_count": 50,
   "id": "9902f5dd-39a9-4c95-af0c-7de9b95499f4",
   "metadata": {},
   "outputs": [],
   "source": [
    "class TextCleaner(TransformComponent):\n",
    "    def __call__(self, nodes, **kwargs):\n",
    "        try:\n",
    "            assert nodes is not NULL\n",
    "        except:\n",
    "            return nodes\n",
    "            \n",
    "        for node in nodes:\n",
    "            try:\n",
    "                node.text = re.sub(r'[^0-9a-zA-Zㄱ-ㅣ가-힣 ]', '', node.text)\n",
    "            except:\n",
    "                print('err')\n",
    "                continue "
   ]
  },
  {
   "cell_type": "code",
   "execution_count": 51,
   "id": "ae70ecc7-d41e-4f90-8fbb-9c75434e6689",
   "metadata": {},
   "outputs": [],
   "source": [
    "node_parser = SentenceSplitter(chunk_size=512, chunk_overlap=30)\n",
    "extractor = TitleExtractor()"
   ]
  },
  {
   "cell_type": "code",
   "execution_count": 52,
   "id": "98939fa5-6328-4f10-8108-423a5fc07d15",
   "metadata": {},
   "outputs": [],
   "source": [
    "pipeline = IngestionPipeline(\n",
    "    transformations=[\n",
    "        node_parser,\n",
    "        TextCleaner(), \n",
    "        # embed_model,\n",
    "    ],\n",
    ")"
   ]
  },
  {
   "cell_type": "code",
   "execution_count": 53,
   "id": "f3c7f281-f9e7-4fa5-b69a-f762ac418066",
   "metadata": {},
   "outputs": [
    {
     "data": {
      "text/plain": [
       "TextNode(id_='d31da2e6-9855-4c3c-8223-6128f59ef128', embedding=None, metadata={'page_label': '1', 'file_name': '취업규칙.pdf', 'file_path': '/workspace/data/pdf/rules/취업규칙.pdf', 'file_type': 'application/pdf', 'file_size': 520849, 'creation_date': '2024-01-19', 'last_modified_date': '2024-01-19', 'last_accessed_date': '2024-01-19'}, excluded_embed_metadata_keys=['file_name', 'file_type', 'file_size', 'creation_date', 'last_modified_date', 'last_accessed_date'], excluded_llm_metadata_keys=['file_name', 'file_type', 'file_size', 'creation_date', 'last_modified_date', 'last_accessed_date'], relationships={<NodeRelationship.SOURCE: '1'>: RelatedNodeInfo(node_id='105acaff-d507-47fb-8329-8a8a1f9de4af', node_type=<ObjectType.DOCUMENT: '4'>, metadata={'page_label': '1', 'file_name': '취업규칙.pdf', 'file_path': '/workspace/data/pdf/rules/취업규칙.pdf', 'file_type': 'application/pdf', 'file_size': 520849, 'creation_date': '2024-01-19', 'last_modified_date': '2024-01-19', 'last_accessed_date': '2024-01-19'}, hash='a545264a43b0295236059c8c90c89b7a5ea20052165f37f77d9ce1288d02b729'), <NodeRelationship.NEXT: '3'>: RelatedNodeInfo(node_id='1a414e88-99fe-43cf-a5d0-514c44c395e7', node_type=<ObjectType.TEXT: '1'>, metadata={}, hash='0f76c789761771cbdb2c6a4e5437636ba89ddd33f703368f62d07a2924fd5f18')}, hash='7b58d2b963daefae66cffc2fc725bce69a1d25e4cfe2236d1f1325ce54f3ee96', text='1 \\n 문서번호  FG–1601 \\n제정일자 - \\n개정일자  2022.09.01 \\n \\n \\n \\n \\n \\n \\n \\n \\n \\n \\n취 업 규 칙 \\n \\n \\n \\n \\n \\n \\n \\n \\n \\n \\n \\n \\n \\n \\n \\n \\n \\n \\n \\n \\n주식회사  핑거', start_char_idx=0, end_char_idx=122, text_template='{metadata_str}\\n\\n{content}', metadata_template='{key}: {value}', metadata_seperator='\\n')"
      ]
     },
     "execution_count": 53,
     "metadata": {},
     "output_type": "execute_result"
    }
   ],
   "source": [
    "nodes = pipeline.run(documents=documents[:4])\n",
    "nodes[0]"
   ]
  },
  {
   "cell_type": "code",
   "execution_count": 60,
   "id": "d84808b2-6f6d-4824-ac1e-2c11d406d079",
   "metadata": {},
   "outputs": [
    {
     "data": {
      "text/plain": [
       "'2 차 례 제1장 총 칙 제1조(목적) 5 제2조(적용범위 ) 5 제3조(사원의 정의) 5 제2장 채용 및 근로계약 제4조(채용기회 ) 5 제5조(전형 및 채용서류 ) 5 제6조(근로계약 ) 5 제7조(수습기간 ) 5 제3장 복 무 제8조(복무의무 ) 6 제9조(출근 결근) 6 제10조(지각조퇴 및 외출) 6 제11조(공민권행사 및 공의 직무 수행) 6 제12조(출장) 6 제4장 인사 제1절 인사위원회 제13조(인사위원회의 구성) 7 제14조(위원회의 기능) 7 제15조(위원회의 소집 및 운영) 7 제2절 배치전직 및 승진 제16조(배치 전직 승진) 7 제3절 휴직 및 복직 제17조(휴직) 7 제18조(육아휴직 ) 8 제19조(가족돌봄휴직 등) 8 제20조(가족돌봄 등을 위한 근로시간 단축) 8 제21조(복직) 8 제22조(근속기간의 계산) 9 제5장 근로조건 제1절 근로시간 제23조(근무형태 ) 9 제24조(근로시간 ) 9 제25조(휴게) 9 제26조(간주근로시간제 ) 9 제27조(연장야간 및 휴일근로 ) 9 제28조(야간 및 휴일근로의 제한) 10 제29조(근로시간 및 휴게 휴일의 적용제외 ) 10 '"
      ]
     },
     "execution_count": 60,
     "metadata": {},
     "output_type": "execute_result"
    }
   ],
   "source": [
    "txt = re.sub(r'[^0-9a-zA-Zㄱ-ㅣ가-힣 ()]', '', documents[1].text)\n",
    "txt = re.sub(r' +', ' ', txt)\n",
    "txt"
   ]
  },
  {
   "cell_type": "code",
   "execution_count": 44,
   "id": "dbf56f52-c612-4356-baaa-754c17c714ae",
   "metadata": {},
   "outputs": [
    {
     "data": {
      "text/plain": [
       "'14  30분씩 유급 수유시간을  준다.   제 6 장 임 금  제45조 (임금의 구성항목 )  사원에 대한 임금은 연간 일정시간  분의 시간외 근로수당  등을 포함하는  포괄임금제를 적용한다 .  제46조 (임금의 계산 및 지급방법 )  ① 임금 중 기본연봉은  금액을 12개월로 나눠 매월 지급하는  방식으로  하되, 결근일에  대하여는  해당일분 과 유급 주휴일분 을 감하여 지급한다 .  명절상여금은  설과 추석에 연 2회 나누어 지급한다 . ① 임금은 매월 초일부터  말일까지를  산정기간으로  하여 해당 월의 말일에 사원이 지정한 사원 명의의 예금계좌에  입금하여  지급한다 . 다만, 지급일이  토요일 또는 공휴일인  경우에는  그 전일에 지급한다 . ② 신규채용 , 승진, 전보, 퇴직 등의 사유로 임금을 정산하는  경우에는  발령일을  기준으로  그 월액을 일할 계산하여  지급한다 .  제47조 (비상시 지급)  사원이 다음 각 호의 사유로 청구하는  경우에는  지급기일  전이라도  이미 제공한 근로에 대한 임금을 지급한다 .  1. 사원 또는 그의 수입에 의하여 생활을 유지하는  자의 출산, 질병 또는 재해의 비용에 충당하는  경우 2. 사원 또는 그의 수입에 의하여 생활하는  자의 혼인 또는 사망 시 그 비용에 충당하는  경우 3. 사원이 부득이한  사정으로  1주일 이상 귀향하는  경우  제48조 (휴업수당 )  ① 회사의 귀책사유로  휴업하는  경우에는  휴업기간  동안 사원에게  평균임금의  100분 70의 수당을 지급한다 . 다만, 평균임금의  100분의 70에 해당하는  금액이 통상임금을  초과하는  경우에는  통상임금으로  지급한다 . ② 부득이한  사유로 사업을 계속하는  것이 불가능한  경우에는  노동위원회의  승인을 받아 제1항에 정한 금액에 못 미치는 휴업수당을  지급 할 수 있다.  제49조 (상여금지급 )  회사는 별도의 규정 및 기준에 의해 상여금을  지급할 수 있다.   제 7 장 퇴직․해고 등  제50조 (퇴직 및 퇴직일)  ① 회사는 사원이 다음 각 호에 해당할 때에는 사원을 퇴직시킬  수 있다. 1. 본인이 퇴직을 원하는 경우 - 이 경우에는  「사직원」을  제출하여  대표이사의  승인을 얻어야 하며, 퇴직 30일 이전에  제출하여  업무 인수인계에  지장이 없도록 하여야 함. 2. 사망하였을  경우 3. 정년에 도달하였을  경우 4. 근로계약기간이  만료된 경우  5. 해고가 결정된 경우 ② 제1항에 의한 퇴직의 퇴직일은  다음 각 호와 같다. '"
      ]
     },
     "execution_count": 44,
     "metadata": {},
     "output_type": "execute_result"
    }
   ],
   "source": [
    "re.sub('\\n', '', documents[13].text)\n",
    "# re.sub(r'[^0-9a-zA-Zㄱ-ㅣ가-힣 ]', '', node.text)"
   ]
  },
  {
   "cell_type": "code",
   "execution_count": 28,
   "id": "62846147-3676-44e9-ae32-1cfb72938f8e",
   "metadata": {},
   "outputs": [
    {
     "data": {
      "text/plain": [
       "'1 \\n 문서번호  FG–1601 \\n제정일자 - \\n개정일자  2022.09.01 \\n \\n \\n \\n \\n \\n \\n \\n \\n \\n \\n취 업 규 칙 \\n \\n \\n \\n \\n \\n \\n \\n \\n \\n \\n \\n \\n \\n \\n \\n \\n \\n \\n \\n \\n주식회사  핑거 \\n \\n \\n \\n \\n \\n \\n \\n \\n \\n '"
      ]
     },
     "execution_count": 28,
     "metadata": {},
     "output_type": "execute_result"
    }
   ],
   "source": [
    "documents[0].text"
   ]
  },
  {
   "cell_type": "code",
   "execution_count": null,
   "id": "615d97d5-dea8-49ba-998b-c3e572d8fe41",
   "metadata": {},
   "outputs": [],
   "source": []
  }
 ],
 "metadata": {
  "kernelspec": {
   "display_name": "Python 3 (ipykernel)",
   "language": "python",
   "name": "python3"
  },
  "language_info": {
   "codemirror_mode": {
    "name": "ipython",
    "version": 3
   },
   "file_extension": ".py",
   "mimetype": "text/x-python",
   "name": "python",
   "nbconvert_exporter": "python",
   "pygments_lexer": "ipython3",
   "version": "3.10.13"
  }
 },
 "nbformat": 4,
 "nbformat_minor": 5
}
