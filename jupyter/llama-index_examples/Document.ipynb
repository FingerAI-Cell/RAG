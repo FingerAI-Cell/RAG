{
 "cells": [
  {
   "cell_type": "raw",
   "id": "b2aa0021-89b2-4c3f-8460-809ff02e2309",
   "metadata": {},
   "source": [
    "csv, pdf 파일 로드해서 document로 만들기까지 "
   ]
  },
  {
   "cell_type": "code",
   "execution_count": 1,
   "id": "7d66ca58-21fe-4ba3-a6f1-126e4aaba1f8",
   "metadata": {},
   "outputs": [],
   "source": [
    "from llama_index import Document, VectorStoreIndex, SimpleDirectoryReader, ServiceContext\n",
    "from llama_index.storage.storage_context import StorageContext\n",
    "from llama_index.schema import MetadataMode\n",
    "import pandas as pd \n",
    "import os"
   ]
  },
  {
   "cell_type": "code",
   "execution_count": 2,
   "id": "bbfd2249-e228-4a85-845d-687fce1efc80",
   "metadata": {},
   "outputs": [],
   "source": [
    "data_path = os.path.join('/workspace/data/')"
   ]
  },
  {
   "cell_type": "markdown",
   "id": "7c624397-6c43-413e-bdce-03d10e74d9d8",
   "metadata": {},
   "source": [
    "### CSV File 칼럼 -> Document 생성 "
   ]
  },
  {
   "cell_type": "code",
   "execution_count": 3,
   "id": "ab30cc5b-7712-4847-8b8e-6c5b33e7b3b9",
   "metadata": {},
   "outputs": [
    {
     "data": {
      "text/html": [
       "<div>\n",
       "<style scoped>\n",
       "    .dataframe tbody tr th:only-of-type {\n",
       "        vertical-align: middle;\n",
       "    }\n",
       "\n",
       "    .dataframe tbody tr th {\n",
       "        vertical-align: top;\n",
       "    }\n",
       "\n",
       "    .dataframe thead th {\n",
       "        text-align: right;\n",
       "    }\n",
       "</style>\n",
       "<table border=\"1\" class=\"dataframe\">\n",
       "  <thead>\n",
       "    <tr style=\"text-align: right;\">\n",
       "      <th></th>\n",
       "      <th>보증_고유키</th>\n",
       "      <th>상품설명</th>\n",
       "    </tr>\n",
       "  </thead>\n",
       "  <tbody>\n",
       "    <tr>\n",
       "      <th>0</th>\n",
       "      <td>보증_0</td>\n",
       "      <td>기업 전용 정기적금 상품</td>\n",
       "    </tr>\n",
       "    <tr>\n",
       "      <th>1</th>\n",
       "      <td>보증_1</td>\n",
       "      <td>복잡한 우대금리 조건 없이 쉽고 간편한 적금 상품</td>\n",
       "    </tr>\n",
       "    <tr>\n",
       "      <th>2</th>\n",
       "      <td>보증_2</td>\n",
       "      <td>누구나 쉽게 이해하고 가입할 수 있는 정기예금 대표상품</td>\n",
       "    </tr>\n",
       "    <tr>\n",
       "      <th>3</th>\n",
       "      <td>보증_3</td>\n",
       "      <td>중견기업 등에 대해서 우대금리 및 우대서비스를 제공하는 상품으로, 결제성 자금의 일...</td>\n",
       "    </tr>\n",
       "    <tr>\n",
       "      <th>4</th>\n",
       "      <td>보증_4</td>\n",
       "      <td>영업점 방문없이 가입이 가능한 고금리 입출금이 자유로운 예금으로 인터넷뱅킹, 스마트...</td>\n",
       "    </tr>\n",
       "    <tr>\n",
       "      <th>...</th>\n",
       "      <td>...</td>\n",
       "      <td>...</td>\n",
       "    </tr>\n",
       "    <tr>\n",
       "      <th>1538</th>\n",
       "      <td>보증_1548</td>\n",
       "      <td>- 매월 약정일에 일정회차 이상을 납입하면 국민주택 청약이 가능한 성격을 기본으로 ...</td>\n",
       "    </tr>\n",
       "    <tr>\n",
       "      <th>1539</th>\n",
       "      <td>보증_1549</td>\n",
       "      <td>- 매월 약정일에 일정회차 이상을 납입하면 국민주택 청약이 가능한 성격을 기본으로 ...</td>\n",
       "    </tr>\n",
       "    <tr>\n",
       "      <th>1540</th>\n",
       "      <td>보증_1550</td>\n",
       "      <td>증금와이드예수금은 대한민국 투자자의 여유자금에 높고 안전한 예금이자로 고객의 소중한...</td>\n",
       "    </tr>\n",
       "    <tr>\n",
       "      <th>1541</th>\n",
       "      <td>보증_1551</td>\n",
       "      <td>당사 보유채권에 대하여 환매수 조건으로 매매하는 방식으로 안정성과 수익성을 동시에 ...</td>\n",
       "    </tr>\n",
       "    <tr>\n",
       "      <th>1542</th>\n",
       "      <td>보증_1552</td>\n",
       "      <td>당사 발행어음을 매입하는 방식으로 예치자금에 대하여 경과기간에 따라 차등적인 이자를...</td>\n",
       "    </tr>\n",
       "  </tbody>\n",
       "</table>\n",
       "<p>1543 rows × 2 columns</p>\n",
       "</div>"
      ],
      "text/plain": [
       "       보증_고유키                                               상품설명\n",
       "0        보증_0                                      기업 전용 정기적금 상품\n",
       "1        보증_1                        복잡한 우대금리 조건 없이 쉽고 간편한 적금 상품\n",
       "2        보증_2                     누구나 쉽게 이해하고 가입할 수 있는 정기예금 대표상품\n",
       "3        보증_3  중견기업 등에 대해서 우대금리 및 우대서비스를 제공하는 상품으로, 결제성 자금의 일...\n",
       "4        보증_4  영업점 방문없이 가입이 가능한 고금리 입출금이 자유로운 예금으로 인터넷뱅킹, 스마트...\n",
       "...       ...                                                ...\n",
       "1538  보증_1548  - 매월 약정일에 일정회차 이상을 납입하면 국민주택 청약이 가능한 성격을 기본으로 ...\n",
       "1539  보증_1549  - 매월 약정일에 일정회차 이상을 납입하면 국민주택 청약이 가능한 성격을 기본으로 ...\n",
       "1540  보증_1550  증금와이드예수금은 대한민국 투자자의 여유자금에 높고 안전한 예금이자로 고객의 소중한...\n",
       "1541  보증_1551  당사 보유채권에 대하여 환매수 조건으로 매매하는 방식으로 안정성과 수익성을 동시에 ...\n",
       "1542  보증_1552  당사 발행어음을 매입하는 방식으로 예치자금에 대하여 경과기간에 따라 차등적인 이자를...\n",
       "\n",
       "[1543 rows x 2 columns]"
      ]
     },
     "execution_count": 3,
     "metadata": {},
     "output_type": "execute_result"
    }
   ],
   "source": [
    "data = pd.read_csv(os.path.join(data_path, 'financial', 'SHINHAN BANK_Financial_Product_Scraping_Result_20240104_DEPOSIT_vec.csv'))\n",
    "data"
   ]
  },
  {
   "cell_type": "code",
   "execution_count": 4,
   "id": "580a993f-c0a3-4ba0-b6bd-068c6f232bcb",
   "metadata": {},
   "outputs": [],
   "source": [
    "category = 'deposit'\n",
    "\n",
    "id_list = data.보증_고유키.values.tolist()\n",
    "desc_list = data.상품설명.values.tolist()"
   ]
  },
  {
   "cell_type": "code",
   "execution_count": 5,
   "id": "ed66573c-8949-4d2d-804f-fa398b2b4ca9",
   "metadata": {},
   "outputs": [],
   "source": [
    "documents = []\n",
    "\n",
    "for idx in range(len(desc_list)):\n",
    "    doc = Document(text=desc_list[idx], doc_id=id_list[idx], metadata={\"category\": category}, excluded_llm_metadata_keys = ['category'])\n",
    "    documents.append(doc)"
   ]
  },
  {
   "cell_type": "code",
   "execution_count": 6,
   "id": "8ad226de-e29e-4d60-b6a7-fe873469b397",
   "metadata": {},
   "outputs": [
    {
     "data": {
      "text/plain": [
       "Document(id_='보증_0', embedding=None, metadata={'category': 'deposit'}, excluded_embed_metadata_keys=[], excluded_llm_metadata_keys=['category'], relationships={}, hash='2ecd58205351e819e0afa38f030f468fd516c3820082cf5f9fd15f569846d656', text='기업 전용 정기적금 상품', start_char_idx=None, end_char_idx=None, text_template='{metadata_str}\\n\\n{content}', metadata_template='{key}: {value}', metadata_seperator='\\n')"
      ]
     },
     "execution_count": 6,
     "metadata": {},
     "output_type": "execute_result"
    }
   ],
   "source": [
    "documents[0]"
   ]
  },
  {
   "cell_type": "code",
   "execution_count": 7,
   "id": "c2739d7d-2e17-419c-bf0e-5152a14ef9d3",
   "metadata": {},
   "outputs": [
    {
     "data": {
      "text/plain": [
       "'중견기업 등에 대해서 우대금리 및 우대서비스를 제공하는 상품으로, 결제성 자금의 일시예치 및 여유자금의 단기적 운용 목적으로 적합'"
      ]
     },
     "execution_count": 7,
     "metadata": {},
     "output_type": "execute_result"
    }
   ],
   "source": [
    "documents[3].get_content() # documents[3].text"
   ]
  },
  {
   "cell_type": "code",
   "execution_count": 8,
   "id": "27245534-a9fa-416c-adab-e20427be01e6",
   "metadata": {},
   "outputs": [
    {
     "name": "stdout",
     "output_type": "stream",
     "text": [
      "embedding model see this: category: deposit\n",
      "\n",
      "누구나 쉽게 이해하고 가입할 수 있는 정기예금 대표상품\n",
      "\n",
      "LLM see this: 누구나 쉽게 이해하고 가입할 수 있는 정기예금 대표상품\n"
     ]
    }
   ],
   "source": [
    "print(f'embedding model see this: {documents[2].get_content(metadata_mode=MetadataMode.EMBED)}', end='\\n\\n')\n",
    "print(f'LLM see this: {documents[2].get_content(metadata_mode=MetadataMode.LLM)}')"
   ]
  },
  {
   "cell_type": "markdown",
   "id": "582ff0a9-acac-4c12-832b-c7ea01b678bd",
   "metadata": {},
   "source": [
    "#### llama hub  -> 실패"
   ]
  },
  {
   "cell_type": "code",
   "execution_count": 9,
   "id": "93fb2bfb-4be9-43c1-b29b-9a0414c41a20",
   "metadata": {},
   "outputs": [],
   "source": [
    "from llama_index import download_loader\n",
    "from pathlib import Path"
   ]
  },
  {
   "cell_type": "code",
   "execution_count": 10,
   "id": "0c45d232-6f27-4066-a6d7-cf9d0fab4c39",
   "metadata": {},
   "outputs": [],
   "source": [
    "SimpleCSVReader = download_loader(\"SimpleCSVReader\")\n",
    "loader = SimpleCSVReader(encoding=\"utf-8\")\n",
    "documents = loader.load_data(file=Path(os.path.join(data_path, 'financial', 'SHINHAN BANK_Financial_Product_Scraping_Result_20240104_DEPOSIT_vec.csv')))"
   ]
  },
  {
   "cell_type": "code",
   "execution_count": 11,
   "id": "3c5374e4-927e-4175-94e3-d20064645ded",
   "metadata": {},
   "outputs": [
    {
     "name": "stdout",
     "output_type": "stream",
     "text": [
      "len document: 1\n"
     ]
    },
    {
     "data": {
      "text/plain": [
       "'보증_고유키, 상품설명\\n보증_0, 기업 전용 정기적금 상품\\n보증_1, 복'"
      ]
     },
     "execution_count": 11,
     "metadata": {},
     "output_type": "execute_result"
    }
   ],
   "source": [
    "print(f'len document: {len(documents)}')\n",
    "documents[0].text[:40]"
   ]
  },
  {
   "cell_type": "code",
   "execution_count": 12,
   "id": "0dd6ccab-d6c2-4f32-be08-a391ed76486e",
   "metadata": {},
   "outputs": [],
   "source": [
    "PandasCSVReader = download_loader(\"PandasCSVReader\")\n",
    "loader = PandasCSVReader()\n",
    "documents = loader.load_data(file=Path(os.path.join(data_path, 'financial', 'SHINHAN BANK_Financial_Product_Scraping_Result_20240104_DEPOSIT_vec.csv')))"
   ]
  },
  {
   "cell_type": "code",
   "execution_count": 13,
   "id": "59d35f89-1c31-47b5-aa23-9f083ba12ba9",
   "metadata": {},
   "outputs": [
    {
     "name": "stdout",
     "output_type": "stream",
     "text": [
      "len document: 1\n"
     ]
    },
    {
     "data": {
      "text/plain": [
       "'보증_0, 기업 전용 정기적금 상품\\n보증_1, 복잡한 우대금리 조건 없이'"
      ]
     },
     "execution_count": 13,
     "metadata": {},
     "output_type": "execute_result"
    }
   ],
   "source": [
    "print(f'len document: {len(documents)}')\n",
    "documents[0].text[:40]"
   ]
  },
  {
   "cell_type": "markdown",
   "id": "eeb5c378-77f3-4420-9744-2bdd780666cb",
   "metadata": {},
   "source": [
    "#### SimpleDirectoryReader  -> 실패 "
   ]
  },
  {
   "cell_type": "code",
   "execution_count": 14,
   "id": "0d536db4-e402-40a3-a1e7-b709de0790a1",
   "metadata": {},
   "outputs": [],
   "source": [
    "from llama_index import SimpleDirectoryReader \n",
    "\n",
    "reader = SimpleDirectoryReader(input_files=[os.path.join(data_path, 'financial', \\\n",
    "                                                         'SHINHAN BANK_Financial_Product_Scraping_Result_20240104_DEPOSIT_vec.csv')])\n",
    "documents = reader.load_data(num_workers=4)"
   ]
  },
  {
   "cell_type": "code",
   "execution_count": 15,
   "id": "a08eacf8-45e4-4818-a572-6799112e1c52",
   "metadata": {},
   "outputs": [
    {
     "name": "stdout",
     "output_type": "stream",
     "text": [
      "len document: 1\n"
     ]
    },
    {
     "data": {
      "text/plain": [
       "'보증_0, 기업 전용 정기적금 상품\\n보증_1, 복잡한 우대금리 조건 없이'"
      ]
     },
     "execution_count": 15,
     "metadata": {},
     "output_type": "execute_result"
    }
   ],
   "source": [
    "print(f'len document: {len(documents)}')\n",
    "documents[0].text[:40]"
   ]
  },
  {
   "cell_type": "markdown",
   "id": "09218320-32f8-4268-a9c2-43a3561cebf0",
   "metadata": {},
   "source": [
    "### PDF File  -> Document 생성 "
   ]
  },
  {
   "cell_type": "code",
   "execution_count": 16,
   "id": "72a9363a-996e-4dc2-be91-e80ea1ff98bf",
   "metadata": {},
   "outputs": [],
   "source": [
    "from llama_index import(VectorStoreIndex,\n",
    "                        SimpleDirectoryReader,\n",
    "                        load_index_from_storage,\n",
    "                        StorageContext,\n",
    "                        ServiceContext,\n",
    "                        Document)"
   ]
  },
  {
   "cell_type": "raw",
   "id": "a1a4ba42-c374-4227-9ff9-95f622f73b02",
   "metadata": {},
   "source": [
    "SimpleDirectoryReader(input_dir='',\n",
    "                      recursive=True,   # 하위 디렉토리 파일까지 모두 로드 \n",
    "                      required_exts=['pdf'],    # exts에 지정된 파일 형식만 로드 \n",
    "                      input_files=[''],   # 로드할 파일명 직접 지정 \n",
    "                      num_files_limit=n,   # 읽어들일 최대 파일 수 지정\n",
    "                      file_metadata= '',   # \n",
    "                      exclude=[''],   # 로드하지 않을 디렉토리 지정 \n",
    ")"
   ]
  },
  {
   "cell_type": "code",
   "execution_count": 19,
   "id": "429232ca-6759-4359-867d-044339051521",
   "metadata": {},
   "outputs": [
    {
     "name": "stdout",
     "output_type": "stream",
     "text": [
      "27\n",
      "Doc ID: 8a22c111-2b02-4b35-8bfe-ec3c5040e29f\n",
      "Text: 4   제64조(재심절차 ) ···························  16      제10장 교육 및\n",
      "성희롱의  예방  제65조(직무교육 )  ···························  16  제66조(성희롱의  예방)\n",
      "························  17    제11장 직장 내 괴롭힘의  예방  제67조(직장 내 괴롭힘 행위의\n",
      "금지)  ··················  17  제68조(금지되는  직장 내 괴롭힘 행위)\n",
      "·················  17  제69조(직장 내 괴롭힘 예방교육 )  ···················  17\n",
      "제70조(직장 내 괴롭힘 행위 발...\n"
     ]
    }
   ],
   "source": [
    "documents = SimpleDirectoryReader(os.path.join(data_path, 'pdf', 'rules')).load_data()\n",
    "print(len(documents))\n",
    "print(documents[3])"
   ]
  },
  {
   "cell_type": "code",
   "execution_count": 20,
   "id": "7982f4fc-a047-43a6-b7cd-5acffeab36e5",
   "metadata": {},
   "outputs": [],
   "source": [
    "reader = SimpleDirectoryReader(os.path.join(data_path, 'pdf', 'rules'))\n",
    "\n",
    "all_docs = []\n",
    "for docs in reader.iter_data():\n",
    "    for doc in docs:\n",
    "        doc.text = doc.text.upper()\n",
    "        all_docs.append(doc)"
   ]
  },
  {
   "cell_type": "code",
   "execution_count": 21,
   "id": "fcd188ed-4795-4bf6-a6e1-e2be79249f5a",
   "metadata": {},
   "outputs": [
    {
     "data": {
      "text/plain": [
       "Document(id_='992bdcb2-c32c-4be5-9246-a04198fa4e3f', embedding=None, metadata={'page_label': '1', 'file_name': '취업규칙.pdf', 'file_path': '/workspace/data/pdf/rules/취업규칙.pdf', 'file_type': 'application/pdf', 'file_size': 520849, 'creation_date': '2024-01-19', 'last_modified_date': '2024-01-19', 'last_accessed_date': '2024-01-19'}, excluded_embed_metadata_keys=['file_name', 'file_type', 'file_size', 'creation_date', 'last_modified_date', 'last_accessed_date'], excluded_llm_metadata_keys=['file_name', 'file_type', 'file_size', 'creation_date', 'last_modified_date', 'last_accessed_date'], relationships={}, hash='a545264a43b0295236059c8c90c89b7a5ea20052165f37f77d9ce1288d02b729', text='1 \\n 문서번호  FG–1601 \\n제정일자 - \\n개정일자  2022.09.01 \\n \\n \\n \\n \\n \\n \\n \\n \\n \\n \\n취 업 규 칙 \\n \\n \\n \\n \\n \\n \\n \\n \\n \\n \\n \\n \\n \\n \\n \\n \\n \\n \\n \\n \\n주식회사  핑거 \\n \\n \\n \\n \\n \\n \\n \\n \\n \\n ', start_char_idx=None, end_char_idx=None, text_template='{metadata_str}\\n\\n{content}', metadata_template='{key}: {value}', metadata_seperator='\\n')"
      ]
     },
     "execution_count": 21,
     "metadata": {},
     "output_type": "execute_result"
    }
   ],
   "source": [
    "all_docs[0]"
   ]
  },
  {
   "cell_type": "code",
   "execution_count": null,
   "id": "8c9295f3-3848-423c-b57e-2f73a26b49c3",
   "metadata": {},
   "outputs": [],
   "source": []
  }
 ],
 "metadata": {
  "kernelspec": {
   "display_name": "Python 3 (ipykernel)",
   "language": "python",
   "name": "python3"
  },
  "language_info": {
   "codemirror_mode": {
    "name": "ipython",
    "version": 3
   },
   "file_extension": ".py",
   "mimetype": "text/x-python",
   "name": "python",
   "nbconvert_exporter": "python",
   "pygments_lexer": "ipython3",
   "version": "3.10.13"
  }
 },
 "nbformat": 4,
 "nbformat_minor": 5
}
