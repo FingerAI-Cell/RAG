{
 "cells": [
  {
   "cell_type": "markdown",
   "id": "ffded25f-9434-4e07-84f3-389c6f564946",
   "metadata": {},
   "source": [
    "### Default Setting "
   ]
  },
  {
   "cell_type": "code",
   "execution_count": 39,
   "id": "262bafbd-633e-4c2f-941a-c1d85ab53f99",
   "metadata": {},
   "outputs": [],
   "source": [
    "from llama_index import VectorStoreIndex, SimpleDirectoryReader, ServiceContext\n",
    "from llama_index.vector_stores import ChromaVectorStore\n",
    "from llama_index.readers.chroma import ChromaReader\n",
    "from llama_index import StorageContext, load_index_from_storage, load_indices_from_storage\n",
    "from transformers import AutoModelForCausalLM, AutoTokenizer, BitsAndBytesConfig\n",
    "from llama_index.embeddings import HuggingFaceEmbedding\n",
    "from llama_index.llms import HuggingFaceLLM\n",
    "from llama_index.node_parser import SentenceSplitter \n",
    "from llama_index.schema import MetadataMode\n",
    "    from IPython.display import Markdown, display\n",
    "from llama_index import QueryBundle \n",
    "from peft import PeftModel, PeftConfig\n",
    "from transformers import TextStreamer, GenerationConfig\n",
    "from transformers import LlamaForCausalLM, LlamaTokenizer, LlamaTokenizerFast, BitsAndBytesConfig\n",
    "from llama_index.response_synthesizers import (\n",
    "    ResponseMode,\n",
    "    get_response_synthesizer,\n",
    ")\n",
    "import chromadb\n",
    "import transformers\n",
    "import pandas as pd\n",
    "import json \n",
    "import openai\n",
    "import os\n",
    "import getpass\n",
    "import torch"
   ]
  },
  {
   "cell_type": "code",
   "execution_count": 2,
   "id": "8ee6d336-2a4d-48b4-a386-a3119de2893f",
   "metadata": {},
   "outputs": [],
   "source": [
    "default_path = os.getcwd()\n",
    "data_path = os.path.join(default_path, '../../data')\n",
    "model_path = os.path.join(default_path, '../../models')\n",
    "config_path = os.path.join(default_path, '../../config')"
   ]
  },
  {
   "cell_type": "code",
   "execution_count": 3,
   "id": "010013d2-77fc-4541-9b85-aee6d68f409d",
   "metadata": {},
   "outputs": [],
   "source": [
    "model_dir = os.path.join(model_path, \"mistral_origin\")"
   ]
  },
  {
   "cell_type": "raw",
   "id": "33e365ac-91f4-4b02-bd0a-fcff91a24b14",
   "metadata": {},
   "source": [
    "os.environ[\"OPENAI_API_KEY\"] = getpass.getpass(\"OpenAI API Key:\")\n",
    "openai.api_key = os.environ[\"OPENAI_API_KEY\"]"
   ]
  },
  {
   "cell_type": "raw",
   "id": "9ecd96bf-37d8-404b-9a7f-323b32046871",
   "metadata": {},
   "source": [
    "model_name='davidkim205/komt-mistral-7b-v1'\n",
    "model = AutoModelForCausalLM.from_pretrained(model_name, torch_dtype=torch.float16, low_cpu_mem_usage=True) # , device_map=\"auto\")\n",
    "tokenizer = AutoTokenizer.from_pretrained(model_name)\n",
    "streamer = TextStreamer(tokenizer)"
   ]
  },
  {
   "cell_type": "code",
   "execution_count": 4,
   "id": "41c0ae2e-395c-442c-8437-76f26b1b5aa7",
   "metadata": {},
   "outputs": [
    {
     "data": {
      "application/vnd.jupyter.widget-view+json": {
       "model_id": "48f40764cd4a4ed392f3b61d2ee102be",
       "version_major": 2,
       "version_minor": 0
      },
      "text/plain": [
       "Loading checkpoint shards:   0%|          | 0/3 [00:00<?, ?it/s]"
      ]
     },
     "metadata": {},
     "output_type": "display_data"
    }
   ],
   "source": [
    "tokenizer = LlamaTokenizerFast.from_pretrained(os.path.join(model_dir, 'tokenizer'))   # LlamaTokenizer (x)  -> LlamaTokenizerFast (o)\n",
    "model = AutoModelForCausalLM.from_pretrained(model_dir, torch_dtype=torch.float16, low_cpu_mem_usage=True) # , device_map=\"auto\")"
   ]
  },
  {
   "cell_type": "code",
   "execution_count": 37,
   "id": "d64676f5-fa30-4a3c-8af6-8218b6dbcb88",
   "metadata": {
    "scrolled": true
   },
   "outputs": [
    {
     "data": {
      "text/plain": [
       "MistralForCausalLM(\n",
       "  (model): MistralModel(\n",
       "    (embed_tokens): Embedding(32000, 4096)\n",
       "    (layers): ModuleList(\n",
       "      (0-31): 32 x MistralDecoderLayer(\n",
       "        (self_attn): MistralAttention(\n",
       "          (q_proj): Linear(in_features=4096, out_features=4096, bias=False)\n",
       "          (k_proj): Linear(in_features=4096, out_features=1024, bias=False)\n",
       "          (v_proj): Linear(in_features=4096, out_features=1024, bias=False)\n",
       "          (o_proj): Linear(in_features=4096, out_features=4096, bias=False)\n",
       "          (rotary_emb): MistralRotaryEmbedding()\n",
       "        )\n",
       "        (mlp): MistralMLP(\n",
       "          (gate_proj): Linear(in_features=4096, out_features=14336, bias=False)\n",
       "          (up_proj): Linear(in_features=4096, out_features=14336, bias=False)\n",
       "          (down_proj): Linear(in_features=14336, out_features=4096, bias=False)\n",
       "          (act_fn): SiLU()\n",
       "        )\n",
       "        (input_layernorm): MistralRMSNorm()\n",
       "        (post_attention_layernorm): MistralRMSNorm()\n",
       "      )\n",
       "    )\n",
       "    (norm): MistralRMSNorm()\n",
       "  )\n",
       "  (lm_head): Linear(in_features=4096, out_features=32000, bias=False)\n",
       ")"
      ]
     },
     "execution_count": 37,
     "metadata": {},
     "output_type": "execute_result"
    }
   ],
   "source": [
    "g_device = torch.device(\"cuda\") if torch.cuda.is_available() else \"cpu\"\n",
    "model.to(g_device)"
   ]
  },
  {
   "cell_type": "code",
   "execution_count": 6,
   "id": "afde3928-023e-42ab-a079-9cb32b5b5d77",
   "metadata": {},
   "outputs": [],
   "source": [
    "generation_config = GenerationConfig(\n",
    "    temperature=0.8,\n",
    "    do_sample=True,\n",
    "    top_p=0.95,\n",
    "    max_new_tokens=512,\n",
    ")"
   ]
  },
  {
   "cell_type": "markdown",
   "id": "4cfb82ce-72b4-4bcd-b6ba-c504170999e8",
   "metadata": {},
   "source": [
    "### Retrieve "
   ]
  },
  {
   "cell_type": "code",
   "execution_count": 7,
   "id": "6fadcd48-c8cd-4222-9fa4-5cba58dc2d84",
   "metadata": {},
   "outputs": [],
   "source": [
    "from llama_index.retrievers import VectorIndexRetriever \n",
    "from llama_index.vector_stores import SimpleVectorStore\n",
    "from llama_index.query_engine import RetrieverQueryEngine \n",
    "from llama_index.postprocessor import SimilarityPostprocessor \n",
    "from llama_index.postprocessor import SentenceTransformerRerank \n",
    "from llama_index.postprocessor import KeywordNodePostprocessor \n",
    "from llama_index.postprocessor import SimilarityPostprocessor, CohereRerank\n",
    "from llama_index.schema import Node, NodeWithScore "
   ]
  },
  {
   "cell_type": "code",
   "execution_count": 8,
   "id": "22c43daa-0558-4398-81b1-9ec6d8677662",
   "metadata": {},
   "outputs": [],
   "source": [
    "db = chromadb.PersistentClient(path=\"/rag/db/chroma-llama\")\n",
    "desc_collection = db.get_or_create_collection(\"desc\")\n",
    "feature_collection = db.get_or_create_collection(\"feature\")\n",
    "qualification_collection = db.get_or_create_collection(\"qualification\")"
   ]
  },
  {
   "cell_type": "code",
   "execution_count": 9,
   "id": "d215b1ec-b8df-4eb7-8b3c-40256bb3264e",
   "metadata": {},
   "outputs": [],
   "source": [
    "desc_store = ChromaVectorStore(chroma_collection=desc_collection)\n",
    "feature_store = ChromaVectorStore(chroma_collection=feature_collection)\n",
    "qualification_store = ChromaVectorStore(chroma_collection=qualification_collection)"
   ]
  },
  {
   "cell_type": "raw",
   "id": "83226cb0-9c23-4eda-9d24-27300fe0b27d",
   "metadata": {},
   "source": [
    "desc_storage = StorageContext.from_defaults(vector_store=desc_store)\n",
    "feature_storage = StorageContext.from_defaults(vector_store=feature_store)\n",
    "qualification_storage = StorageContext.from_defaults(vector_store=qualification_store)"
   ]
  },
  {
   "cell_type": "raw",
   "id": "e557c750-9e2b-4313-aef1-24723187500c",
   "metadata": {
    "scrolled": true
   },
   "source": [
    "desc_dict = desc_store.to_dict()\n",
    "features_dict = feature_store.to_dict()\n",
    "qualification_dict = qualification_store.to_dict()"
   ]
  },
  {
   "cell_type": "raw",
   "id": "b8d3738b-3274-4aa6-a5fa-b6776ae13b42",
   "metadata": {},
   "source": [
    "desc_dict"
   ]
  },
  {
   "cell_type": "code",
   "execution_count": 10,
   "id": "c70f88c9-39c7-47c8-9bf2-6d5cc86517db",
   "metadata": {},
   "outputs": [
    {
     "data": {
      "text/plain": [
       "3390"
      ]
     },
     "execution_count": 10,
     "metadata": {},
     "output_type": "execute_result"
    }
   ],
   "source": [
    "desc_collection.count()   # 2887"
   ]
  },
  {
   "cell_type": "markdown",
   "id": "a4e7749e-e6db-4431-a3ae-0af2c6ab04b3",
   "metadata": {},
   "source": [
    "#### - Embedding Model  - kakaobank "
   ]
  },
  {
   "cell_type": "code",
   "execution_count": 11,
   "id": "4ad3cd99-127b-44a5-b1c5-e9464acfe19d",
   "metadata": {},
   "outputs": [],
   "source": [
    "model_name = 'kakaobank/kf-deberta-base'\n",
    "embed_model = HuggingFaceEmbedding(model_name=model_name)"
   ]
  },
  {
   "cell_type": "code",
   "execution_count": 12,
   "id": "6688dd9a-610c-4732-a191-8c6affddf32c",
   "metadata": {},
   "outputs": [
    {
     "name": "stdout",
     "output_type": "stream",
     "text": [
      "LLM is explicitly disabled. Using MockLLM.\n"
     ]
    }
   ],
   "source": [
    "service_context = ServiceContext.from_defaults(embed_model=embed_model, llm=None)"
   ]
  },
  {
   "cell_type": "code",
   "execution_count": 13,
   "id": "9e30eb0d-5dc0-48f8-a679-6d6a162653c8",
   "metadata": {},
   "outputs": [],
   "source": [
    "parser = SentenceSplitter(chunk_size=512, chunk_overlap=30)   # SentenceSplitter(chunk_size=1024, chunk_overlap=20)"
   ]
  },
  {
   "cell_type": "code",
   "execution_count": 14,
   "id": "2e71c2a1-755f-4f54-a7de-87b9c6fdae88",
   "metadata": {},
   "outputs": [
    {
     "name": "stdout",
     "output_type": "stream",
     "text": [
      "LLM is explicitly disabled. Using MockLLM.\n"
     ]
    }
   ],
   "source": [
    "embedding_service = ServiceContext.from_defaults(node_parser=parser, embed_model=embed_model, llm=None)"
   ]
  },
  {
   "cell_type": "code",
   "execution_count": 15,
   "id": "9e900954-4aae-41c2-81a8-4df0307de301",
   "metadata": {},
   "outputs": [],
   "source": [
    "# service_context 전달 안해주면 query 시 dimension 오류 발생 \n",
    "features_idx = VectorStoreIndex.from_vector_store(feature_store, service_context=embedding_service)\n",
    "desc_idx = VectorStoreIndex.from_vector_store(desc_store, service_context=embedding_service)\n",
    "qualification_idx = VectorStoreIndex.from_vector_store(qualification_store, service_context=embedding_service)"
   ]
  },
  {
   "cell_type": "markdown",
   "id": "3cdd2814-0bc2-4fb1-9abf-aa75c7b99a8f",
   "metadata": {},
   "source": [
    "#### - Retriever "
   ]
  },
  {
   "cell_type": "code",
   "execution_count": 16,
   "id": "def9d677-fa89-4431-bd23-927785be9cb5",
   "metadata": {},
   "outputs": [],
   "source": [
    "retriever = VectorIndexRetriever(\n",
    "    index = desc_idx,\n",
    "    service_context=embedding_service,\n",
    "    similarity_top_k = 10, \n",
    "    verbose=True\n",
    ")"
   ]
  },
  {
   "cell_type": "code",
   "execution_count": 17,
   "id": "34e2ffe9-f62f-41a1-b125-c4dd5ba8761b",
   "metadata": {},
   "outputs": [],
   "source": [
    "def get_retrieved_nodes(\n",
    "    retriever, query_str, vector_top_k=10, similarity_cutoff=0.6, reranker_top_n=3, service_context=None, with_reranker=False\n",
    "):\n",
    "    # query bundle 생성 \n",
    "    query_bundle = QueryBundle(query_str)\n",
    "\n",
    "    # 유사도가 제일 높은 node 추출 \n",
    "    retrieved_nodes = retriever.retrieve(query_bundle)\n",
    "\n",
    "    # 전처리  - 유사 점수 기준 Cutoff \n",
    "    node_postprocessors = SimilarityPostprocessor(similarity_cutoff=similarity_cutoff)\n",
    "    processed_nodes = node_postprocessors.postprocess_nodes(retrieved_nodes)\n",
    "    \n",
    "    if with_reranker:   # 재순위화 \n",
    "        reranker = SentenceTransformerRerank(\n",
    "            model='bongsoo/albert-small-kor-cross-encoder-v1',\n",
    "            top_n=reranker_top_n,\n",
    "        )\n",
    "        reranked_nodes = reranker.postprocess_nodes(\n",
    "            processed_nodes, query_bundle\n",
    "        )\n",
    "    return reranked_nodes"
   ]
  },
  {
   "cell_type": "code",
   "execution_count": 18,
   "id": "80cd1d70-e5da-44bb-87d4-11ba9db5a14a",
   "metadata": {},
   "outputs": [],
   "source": [
    "with_reranker = True\n",
    "cutoff = 0.2\n",
    "\n",
    "queries = ['렌탈 요금 청구 할인', '주유소 할인', 'KT 통신 요금 할인', '아파트 관리비', '청년들을 위한 적금 상품 '] \n",
    "query = '렌탈 요금 청구 할인' # queries[0]"
   ]
  },
  {
   "cell_type": "raw",
   "id": "917dc232-2b76-439e-af65-2f0b5c2cfb30",
   "metadata": {},
   "source": [
    "embedding_service"
   ]
  },
  {
   "cell_type": "code",
   "execution_count": 19,
   "id": "7b11ab82-8b4f-4f23-a254-6ab257e06719",
   "metadata": {},
   "outputs": [
    {
     "name": "stdout",
     "output_type": "stream",
     "text": [
      "1.677539348602295\n"
     ]
    }
   ],
   "source": [
    "import time\n",
    "\n",
    "start = time.time()\n",
    "retrieved_nodes = retriever.retrieve(query)\n",
    "nodes = get_retrieved_nodes(retriever, query, similarity_cutoff=cutoff, service_context=embedding_service, with_reranker=with_reranker)\n",
    "end = time.time() - start \n",
    "print(end)"
   ]
  },
  {
   "cell_type": "raw",
   "id": "ed06f03a-d948-411d-8bef-ae63828b818c",
   "metadata": {},
   "source": [
    "nodes[0].score"
   ]
  },
  {
   "cell_type": "code",
   "execution_count": 20,
   "id": "1b0aceb4-2fb9-4feb-baa3-73495aa84313",
   "metadata": {},
   "outputs": [
    {
     "data": {
      "text/plain": [
       "{'category': 'card', 'name': 'NEW 렌탈 플러스 하나카드'}"
      ]
     },
     "execution_count": 20,
     "metadata": {},
     "output_type": "execute_result"
    }
   ],
   "source": [
    "nodes[0].node.relationships['1'].metadata"
   ]
  },
  {
   "cell_type": "code",
   "execution_count": 21,
   "id": "1291a9c3-a96f-497e-abb3-20b2dc224181",
   "metadata": {},
   "outputs": [
    {
     "name": "stdout",
     "output_type": "stream",
     "text": [
      "key: 1, value: node_id='카드_1064' node_type=<ObjectType.DOCUMENT: '4'> metadata={'category': 'card', 'name': 'NEW 렌탈 플러스 하나카드'} hash='90392ac21267d9c5d97da6f6c6c1d471c44ff79c0739632924fc94e81f1e6dd5'\n",
      "\n",
      "key: 2, value: node_id='6d9d34b1-7dee-4404-bf77-7cb6318c9b50' node_type=<ObjectType.TEXT: '1'> metadata={'category': 'card', 'name': 'LG전자 플러스 하나카드'} hash='d51f79921ab96c6dfb2987685bd78bd4904a27558d504495f6ceb9ab01dfc8c7'\n",
      "\n",
      "key: 3, value: node_id='28b2a799-c2f7-4a95-9a14-ac72587df239' node_type=<ObjectType.TEXT: '1'> metadata={} hash='2255a2418f9a9575fff5e8c4ec130a434b07d8d1be99a42019b79a788460cb2a'\n",
      "\n"
     ]
    }
   ],
   "source": [
    "for key, value in nodes[0].node.relationships.items():\n",
    "    print(f\"key: {key}, value: {value}\", end='\\n\\n')"
   ]
  },
  {
   "cell_type": "code",
   "execution_count": 22,
   "id": "c14ed0fe-865b-4080-877c-1c4859f4997a",
   "metadata": {},
   "outputs": [],
   "source": [
    "def get_info(retrieved_node):\n",
    "    '''\n",
    "    id, text, score 반환 \n",
    "    '''\n",
    "    id = retrieved_node.node.relationships['1'].node_id\n",
    "    name = retrieved_node.node.relationships['1'].metadata['name']\n",
    "    txt = retrieved_node.node.text \n",
    "    score = retrieved_node.score \n",
    "    return [id, name, txt, score] "
   ]
  },
  {
   "cell_type": "code",
   "execution_count": 23,
   "id": "78150821-d680-411d-b85c-471da040b4d6",
   "metadata": {
    "scrolled": true
   },
   "outputs": [
    {
     "data": {
      "text/plain": [
       "[NodeWithScore(node=TextNode(id_='1e4c08b7-b061-4247-a5ff-72288783ab07', embedding=None, metadata={'category': 'card', 'name': 'NEW 렌탈 플러스 하나카드'}, excluded_embed_metadata_keys=[], excluded_llm_metadata_keys=['category', 'name'], relationships={<NodeRelationship.SOURCE: '1'>: RelatedNodeInfo(node_id='카드_1064', node_type=<ObjectType.DOCUMENT: '4'>, metadata={'category': 'card', 'name': 'NEW 렌탈 플러스 하나카드'}, hash='90392ac21267d9c5d97da6f6c6c1d471c44ff79c0739632924fc94e81f1e6dd5'), <NodeRelationship.PREVIOUS: '2'>: RelatedNodeInfo(node_id='6d9d34b1-7dee-4404-bf77-7cb6318c9b50', node_type=<ObjectType.TEXT: '1'>, metadata={'category': 'card', 'name': 'LG전자 플러스 하나카드'}, hash='d51f79921ab96c6dfb2987685bd78bd4904a27558d504495f6ceb9ab01dfc8c7'), <NodeRelationship.NEXT: '3'>: RelatedNodeInfo(node_id='28b2a799-c2f7-4a95-9a14-ac72587df239', node_type=<ObjectType.TEXT: '1'>, metadata={}, hash='2255a2418f9a9575fff5e8c4ec130a434b07d8d1be99a42019b79a788460cb2a')}, hash='1221d93222d3aabae38c84ccbe1a536bf4130cb3e10b97e87a692dbd0158598a', text='렌탈요금 자동이체 시 13,000원 청구할인', start_char_idx=0, end_char_idx=24, text_template='{metadata_str}\\n\\n{content}', metadata_template='{key}: {value}', metadata_seperator='\\n'), score=0.65832305),\n",
       " NodeWithScore(node=TextNode(id_='ab999214-731b-4013-8449-b2d22c36c183', embedding=None, metadata={'category': 'card', 'name': 'NEW 렌탈 플러스 하나카드'}, excluded_embed_metadata_keys=[], excluded_llm_metadata_keys=['category', 'name'], relationships={<NodeRelationship.SOURCE: '1'>: RelatedNodeInfo(node_id='카드_1064', node_type=<ObjectType.DOCUMENT: '4'>, metadata={'category': 'card', 'name': 'NEW 렌탈 플러스 하나카드'}, hash='90392ac21267d9c5d97da6f6c6c1d471c44ff79c0739632924fc94e81f1e6dd5')}, hash='1221d93222d3aabae38c84ccbe1a536bf4130cb3e10b97e87a692dbd0158598a', text='렌탈요금 자동이체 시 13,000원 청구할인', start_char_idx=0, end_char_idx=24, text_template='{metadata_str}\\n\\n{content}', metadata_template='{key}: {value}', metadata_seperator='\\n'), score=0.65832305),\n",
       " NodeWithScore(node=TextNode(id_='fef3a5b8-c20b-4c60-b0ea-391d8ed1643e', embedding=None, metadata={'category': 'card', 'name': '청호나이스우리카드'}, excluded_embed_metadata_keys=[], excluded_llm_metadata_keys=['category', 'name'], relationships={<NodeRelationship.SOURCE: '1'>: RelatedNodeInfo(node_id='카드_45', node_type=<ObjectType.DOCUMENT: '4'>, metadata={'category': 'card', 'name': '청호나이스우리카드'}, hash='a4f3dfbf0ce4e78dfeacafeb7b685115b33afa3554f399d786edc333591fdeff'), <NodeRelationship.PREVIOUS: '2'>: RelatedNodeInfo(node_id='76cb3074-3cec-4211-ac8a-de1e003c1ff2', node_type=<ObjectType.TEXT: '1'>, metadata={'category': 'card', 'name': 'NEW 코웨이 우리카드'}, hash='8cc49c72f39f6f4a25c894820e49437b44832ab8100dfa3696508cca7b8953fd'), <NodeRelationship.NEXT: '3'>: RelatedNodeInfo(node_id='2aedc48d-ffc7-4aaa-948a-81896b8910f5', node_type=<ObjectType.TEXT: '1'>, metadata={}, hash='67c166494ad1ee019a52f52163844ace5155a39e4eb4e94f44252dfe3b3785e7')}, hash='6b6c510da99865aa6dfd0f1437b27858e2f6bc579a7b7d8a38112c6dc6576ea8', text='청호나이스 렌탈요금 자동이체하고 최대 2만원 할인받자!', start_char_idx=0, end_char_idx=30, text_template='{metadata_str}\\n\\n{content}', metadata_template='{key}: {value}', metadata_seperator='\\n'), score=0.45793614)]"
      ]
     },
     "execution_count": 23,
     "metadata": {},
     "output_type": "execute_result"
    }
   ],
   "source": [
    "nodes"
   ]
  },
  {
   "cell_type": "code",
   "execution_count": 24,
   "id": "55be9531-185d-4d01-a68f-3771b1502977",
   "metadata": {},
   "outputs": [
    {
     "name": "stdout",
     "output_type": "stream",
     "text": [
      "['렌탈요금 자동이체 시 13,000원 청구할인', '렌탈요금 자동이체 시 13,000원 청구할인', '렌탈 자동이체 시 월 8,000원 또는 월 13,000원 할인', '렌탈 자동이체 시 월 8,000원 또는 월 13,000원 할인', '청호나이스 렌탈요금 자동이체하고 최대 2만원 할인받자!', '청호나이스 렌탈요금 자동이체하고 최대 2만원 할인받자!', '＇SK매직 삼성카드＇는 SK매직 상품 구매시 24·36개월 무이자 할부 혜택이 아닌 렌탈료 할인 혜택이 제공되는 카드입니다', '＇SK매직 삼성카드＇는 SK매직 상품 구매시 24·36개월 무이자 할부 혜택이 아닌 렌탈료 할인 혜택이 제공되는 카드입니다', '렌탈료 및 장기할부 이용 시 최대 20,000원 할인!', '렌탈료 및 장기할부 이용 시 최대 20,000원 할인!']\n"
     ]
    }
   ],
   "source": [
    "print([node.text for node in retrieved_nodes])"
   ]
  },
  {
   "cell_type": "code",
   "execution_count": 25,
   "id": "875b4b94-2965-4267-b978-65d2c4522a6e",
   "metadata": {},
   "outputs": [
    {
     "data": {
      "text/plain": [
       "(['렌탈요금 자동이체 시 13,000원 청구할인',\n",
       "  '렌탈요금 자동이체 시 13,000원 청구할인',\n",
       "  '청호나이스 렌탈요금 자동이체하고 최대 2만원 할인받자!'],\n",
       " [0.65832305, 0.65832305, 0.45793614])"
      ]
     },
     "execution_count": 25,
     "metadata": {},
     "output_type": "execute_result"
    }
   ],
   "source": [
    "contexts = [node.text for node in nodes]\n",
    "scores = [node.score for node in nodes]\n",
    "contexts, scores "
   ]
  },
  {
   "cell_type": "code",
   "execution_count": 26,
   "id": "7d091bf1-a89c-468c-a83f-a9a4dd1db691",
   "metadata": {},
   "outputs": [
    {
     "data": {
      "text/plain": [
       "['카드_1064', 'NEW 렌탈 플러스 하나카드', '렌탈요금 자동이체 시 13,000원 청구할인', 0.65832305]"
      ]
     },
     "execution_count": 26,
     "metadata": {},
     "output_type": "execute_result"
    }
   ],
   "source": [
    "get_info(nodes[0])"
   ]
  },
  {
   "cell_type": "code",
   "execution_count": 27,
   "id": "8720162c-e747-4889-928c-eca3491a7dee",
   "metadata": {},
   "outputs": [
    {
     "data": {
      "text/plain": [
       "['카드_1064', 'NEW 렌탈 플러스 하나카드', '렌탈요금 자동이체 시 13,000원 청구할인', 0.65832305]"
      ]
     },
     "execution_count": 27,
     "metadata": {},
     "output_type": "execute_result"
    }
   ],
   "source": [
    "info = get_info(nodes[0])\n",
    "info"
   ]
  },
  {
   "cell_type": "code",
   "execution_count": 28,
   "id": "772848be-92b5-4d6f-a0ac-d796b1e27e62",
   "metadata": {},
   "outputs": [
    {
     "data": {
      "text/plain": [
       "('NEW 렌탈 플러스 하나카드', \"'NEW 렌탈 플러스 하나카드'은 렌탈요금 자동이체 시 13,000원 청구할인 관련 상품입니다.\")"
      ]
     },
     "execution_count": 28,
     "metadata": {},
     "output_type": "execute_result"
    }
   ],
   "source": [
    "product = info[1]\n",
    "context = f\"'{info[1]}'은 {info[2]} 관련 상품입니다.\"\n",
    "product, context"
   ]
  },
  {
   "cell_type": "markdown",
   "id": "0f4984bc-3673-43ce-b38a-27cd2c9f43ca",
   "metadata": {},
   "source": [
    "### Augment "
   ]
  },
  {
   "cell_type": "code",
   "execution_count": 29,
   "id": "9cb4d4fd-fb8e-4cde-922a-6e48e3533626",
   "metadata": {},
   "outputs": [
    {
     "name": "stdout",
     "output_type": "stream",
     "text": [
      "<s>[INST] 질문: 렌탈 요금 청구 할인 \n",
      "\n",
      "    관련 정보: 'NEW 렌탈 플러스 하나카드'은 렌탈요금 자동이체 시 13,000원 청구할인 관련 상품입니다. \n",
      " \n",
      "    관련 정보를 바탕으로 질문에 답해줘 [/INST] \n",
      "\n"
     ]
    }
   ],
   "source": [
    "prompt_template = (\n",
    "    f\"\"\"<s>[INST] 질문: {query} \\n\n",
    "    관련 정보: {context} \\n \n",
    "    관련 정보를 바탕으로 질문에 답해줘 [/INST] \\n\"\"\"\n",
    ")\n",
    "\n",
    "print(prompt_template)"
   ]
  },
  {
   "cell_type": "markdown",
   "id": "141ff1cc-ec6a-41d1-b65d-b7f03b20b497",
   "metadata": {},
   "source": [
    "### Generation "
   ]
  },
  {
   "cell_type": "code",
   "execution_count": 30,
   "id": "14dcd096-cbeb-4231-93bc-12c11d657140",
   "metadata": {},
   "outputs": [],
   "source": [
    "import torch\n",
    "from transformers import AutoTokenizer, AutoModelForCausalLM, BitsAndBytesConfig\n",
    "from peft import PeftModel, PeftConfig\n",
    "from transformers import TextStreamer, GenerationConfig\n",
    "from llama_index.response_synthesizers import (\n",
    "    ResponseMode,\n",
    "    get_response_synthesizer,\n",
    ")"
   ]
  },
  {
   "cell_type": "code",
   "execution_count": 31,
   "id": "66486101-39ef-4745-bdf6-a3b580a2494a",
   "metadata": {},
   "outputs": [],
   "source": [
    "def print_trainable_parameters(model):\n",
    "    \"\"\"\n",
    "    Prints the number of trainable parameters in the model.\n",
    "    \"\"\"\n",
    "    trainable_params = 0\n",
    "    all_param = 0\n",
    "    for _, param in model.named_parameters():\n",
    "        all_param += param.numel()\n",
    "        if param.requires_grad:\n",
    "            trainable_params += param.numel()\n",
    "    print(\n",
    "        f\"trainable params: {trainable_params} || all params: {all_param} || trainable%: {100 * trainable_params / all_param}\"\n",
    "    )"
   ]
  },
  {
   "cell_type": "code",
   "execution_count": 32,
   "id": "757bd42c-666f-4198-9423-5274eccd3269",
   "metadata": {
    "scrolled": true
   },
   "outputs": [],
   "source": [
    "gened = model.generate(\n",
    "    **tokenizer(\n",
    "        prompt_template,\n",
    "        return_tensors='pt',\n",
    "        return_token_type_ids=False\n",
    "    ).to('cuda'),\n",
    "    generation_config=generation_config,\n",
    "    pad_token_id=tokenizer.eos_token_id,\n",
    "    eos_token_id=tokenizer.eos_token_id,\n",
    "    # streamer=streamer,\n",
    ")"
   ]
  },
  {
   "cell_type": "code",
   "execution_count": 33,
   "id": "e40a64e8-e313-49ad-a1eb-a837601e5410",
   "metadata": {},
   "outputs": [],
   "source": [
    "result_str = tokenizer.decode(gened[0])\n",
    "\n",
    "start_tag = f\"[/INST]\"\n",
    "start_index = result_str.find(start_tag)\n",
    "\n",
    "if start_index != -1:\n",
    "    result_str = result_str[start_index + len(start_tag):].strip()"
   ]
  },
  {
   "cell_type": "code",
   "execution_count": 34,
   "id": "4377e4a7-b56b-455c-96e4-5c0fb013f0f4",
   "metadata": {
    "scrolled": true
   },
   "outputs": [
    {
     "name": "stdout",
     "output_type": "stream",
     "text": [
      "NEW 렌탈 플러스 하나카드의 경우, 렌탈요금 자동이체 시 13,000원 청구할인 상품입니다. 이는 렌탈 요금의 지불 편의를 위해 자동 이체 방식을 선택하면 추가 할인 혜택을 제공하는 상품입니다. 따라서 렌탈 요금 자동이체 시 13,000원 청구할인이 적용됩니다. 그러나 렌탈 요금의 유형에 따라 다른 할인 혜택이 적용될 수 있으므로, 상품 설명서나 고객센터에 문의하여 세부적인 정보를 확인해야 합니다.</s>\n"
     ]
    }
   ],
   "source": [
    "print(result_str)"
   ]
  },
  {
   "cell_type": "markdown",
   "id": "48a410a2-ecc0-45e9-9f70-089cf0f9a280",
   "metadata": {},
   "source": [
    "### LangChain"
   ]
  },
  {
   "cell_type": "code",
   "execution_count": 35,
   "id": "f716895d-a10d-40b6-8552-c85f545576de",
   "metadata": {},
   "outputs": [],
   "source": [
    "from langchain.chains.conversation.memory import ConversationBufferMemory\n",
    "from transformers import LlamaForCausalLM, LlamaTokenizer, LlamaTokenizerFast, BitsAndBytesConfig\n",
    "from langchain import OpenAI\n",
    "from langchain.chains import ConversationChain\n",
    "from langchain_community.llms import LlamaCpp"
   ]
  },
  {
   "cell_type": "code",
   "execution_count": 36,
   "id": "fe62c687-740a-443d-a8cf-45742fabcef9",
   "metadata": {},
   "outputs": [],
   "source": [
    "n_gpu_layers = 1  # Metal set to 1 is enough.\n",
    "n_batch = 512"
   ]
  },
  {
   "cell_type": "code",
   "execution_count": 72,
   "id": "d3364d1d-c19c-45ba-b65c-f7de6c406d90",
   "metadata": {
    "scrolled": true
   },
   "outputs": [
    {
     "data": {
      "text/plain": [
       "MistralForCausalLM(\n",
       "  (model): MistralModel(\n",
       "    (embed_tokens): Embedding(32000, 4096)\n",
       "    (layers): ModuleList(\n",
       "      (0-31): 32 x MistralDecoderLayer(\n",
       "        (self_attn): MistralAttention(\n",
       "          (q_proj): Linear(in_features=4096, out_features=4096, bias=False)\n",
       "          (k_proj): Linear(in_features=4096, out_features=1024, bias=False)\n",
       "          (v_proj): Linear(in_features=4096, out_features=1024, bias=False)\n",
       "          (o_proj): Linear(in_features=4096, out_features=4096, bias=False)\n",
       "          (rotary_emb): MistralRotaryEmbedding()\n",
       "        )\n",
       "        (mlp): MistralMLP(\n",
       "          (gate_proj): Linear(in_features=4096, out_features=14336, bias=False)\n",
       "          (up_proj): Linear(in_features=4096, out_features=14336, bias=False)\n",
       "          (down_proj): Linear(in_features=14336, out_features=4096, bias=False)\n",
       "          (act_fn): SiLU()\n",
       "        )\n",
       "        (input_layernorm): MistralRMSNorm()\n",
       "        (post_attention_layernorm): MistralRMSNorm()\n",
       "      )\n",
       "    )\n",
       "    (norm): MistralRMSNorm()\n",
       "  )\n",
       "  (lm_head): Linear(in_features=4096, out_features=32000, bias=False)\n",
       ")"
      ]
     },
     "execution_count": 72,
     "metadata": {},
     "output_type": "execute_result"
    }
   ],
   "source": [
    "model"
   ]
  },
  {
   "cell_type": "code",
   "execution_count": 58,
   "id": "0c06b1fa-947e-4573-82cb-439434c36405",
   "metadata": {},
   "outputs": [],
   "source": [
    "from langchain.prompts import PromptTemplate\n",
    "from langchain.embeddings.huggingface import HuggingFaceEmbeddings\n",
    "from langchain.llms import HuggingFacePipeline\n",
    "from langchain.chains import LLMChain\n",
    "from langchain.schema.runnable import RunnablePassthrough\n",
    "\n",
    "text_generation_pipeline = transformers.pipeline(\n",
    "    model=model,\n",
    "    tokenizer=tokenizer,\n",
    "    task=\"text-generation\",\n",
    "    temperature=1,\n",
    "    repetition_penalty=1.1,\n",
    "    return_full_text=True,\n",
    "    max_new_tokens=512,\n",
    "    device=0\n",
    ")"
   ]
  },
  {
   "cell_type": "code",
   "execution_count": 63,
   "id": "e16615ea-fe30-454e-aa79-17b6c9e0967b",
   "metadata": {},
   "outputs": [
    {
     "data": {
      "text/plain": [
       "\"<s>[INST] 질문: 렌탈 요금 청구 할인 \\n\\n    관련 정보: 'NEW 렌탈 플러스 하나카드'은 렌탈요금 자동이체 시 13,000원 청구할인 관련 상품입니다. \\n \\n    관련 정보를 바탕으로 질문에 답해줘 [/INST] \\n\""
      ]
     },
     "execution_count": 63,
     "metadata": {},
     "output_type": "execute_result"
    }
   ],
   "source": [
    "prompt_template"
   ]
  },
  {
   "cell_type": "code",
   "execution_count": 59,
   "id": "04b1692b-ef44-4277-b0a7-093480088c58",
   "metadata": {},
   "outputs": [],
   "source": [
    "mistral_llm = HuggingFacePipeline(pipeline=text_generation_pipeline)"
   ]
  },
  {
   "cell_type": "raw",
   "id": "a49305e8-14d5-4098-8df3-f34eff027ebb",
   "metadata": {},
   "source": [
    "torch.cuda.set_device(torch.device(\"cuda:0\"))"
   ]
  },
  {
   "cell_type": "code",
   "execution_count": 87,
   "id": "6b9ee338-2d09-4bc8-a9ff-6d023ee32e8b",
   "metadata": {},
   "outputs": [
    {
     "name": "stdout",
     "output_type": "stream",
     "text": [
      "\n",
      "    ### <s> [INST]\n",
      "    참고: 다음 질문에 대해 너의 금융 정보에 기반해서 답을 해줘. 참고할만한 정보는 다음과 같아. \n",
      "    \n",
      "    'NEW 렌탈 플러스 하나카드'은 렌탈요금 자동이체 시 13,000원 청구할인 관련 상품입니다.\n",
      "\n",
      "    ### Question:\n",
      "    렌탈 요금 청구 할인\n",
      "    [/INST] \n"
     ]
    }
   ],
   "source": [
    "prompt_template = (\n",
    "    f\"\"\"\n",
    "    ### <s> [INST]\n",
    "    참고: 다음 질문에 대해 너의 금융 정보에 기반해서 답을 해줘. 참고할만한 정보는 다음과 같아. \n",
    "    \n",
    "    {context}\n",
    "\n",
    "    ### Question:\n",
    "    {query}\n",
    "    [/INST] \"\"\"\n",
    ")\n",
    "\n",
    "print(prompt_template)"
   ]
  },
  {
   "cell_type": "code",
   "execution_count": 88,
   "id": "06f25e16-2456-4e32-b507-8f8f2a209477",
   "metadata": {},
   "outputs": [],
   "source": [
    "# Create prompt from prompt template \n",
    "prompt = PromptTemplate(\n",
    "    input_variables=[\"context\", \"query\"],\n",
    "    template=prompt_template,\n",
    ")\n",
    "# Create llm chain \n",
    "llm_chain = LLMChain(llm=mistral_llm, prompt=prompt)"
   ]
  },
  {
   "cell_type": "code",
   "execution_count": 89,
   "id": "b8674581-5848-4fd6-9810-5efb67c013f2",
   "metadata": {},
   "outputs": [
    {
     "data": {
      "text/plain": [
       "LLMChain(prompt=PromptTemplate(input_variables=[], template=\"\\n    ### <s> [INST]\\n    참고: 다음 질문에 대해 너의 금융 정보에 기반해서 답을 해줘. 참고할만한 정보는 다음과 같아. \\n    \\n    'NEW 렌탈 플러스 하나카드'은 렌탈요금 자동이체 시 13,000원 청구할인 관련 상품입니다.\\n\\n    ### Question:\\n    렌탈 요금 청구 할인\\n    [/INST] \"), llm=HuggingFacePipeline(pipeline=<transformers.pipelines.text_generation.TextGenerationPipeline object at 0x7fbafab73be0>))"
      ]
     },
     "execution_count": 89,
     "metadata": {},
     "output_type": "execute_result"
    }
   ],
   "source": [
    "llm_chain"
   ]
  },
  {
   "cell_type": "code",
   "execution_count": 90,
   "id": "27fd1aff-0af6-4ef7-b64c-5c05a4d8d506",
   "metadata": {
    "scrolled": true
   },
   "outputs": [
    {
     "name": "stderr",
     "output_type": "stream",
     "text": [
      "/opt/conda/lib/python3.10/site-packages/transformers/pipelines/base.py:1101: UserWarning: You seem to be using the pipelines sequentially on GPU. In order to maximize efficiency please use a dataset\n",
      "  warnings.warn(\n",
      "Setting `pad_token_id` to `eos_token_id`:2 for open-end generation.\n"
     ]
    },
    {
     "name": "stdout",
     "output_type": "stream",
     "text": [
      "{'context': '', 'query': '렌탈 요금 청구 할인', 'text': '렌탈 요금 청구 할인은 렌탈 회사가 고객에게 제공하는 서비스로, 일정한 금액을 매월 자동으로 청구하지만 그 금액을 일부 할인해주는 것입니다. 이를 통해 고객은 더 저렴한 금액으로 장비를 사용할 수 있습니다. \\n\\nNEW 렌탈 플러스 하나카드는 렌탈 요금 자동이체 시 13,000원 청구할인 관련 상품입니다. 따라서 이 상품을 선택하면 렌탈 요금을 13,000원 할인받을 수 있습니다. \\n\\n하지만 렌탈 요금 청구 할인은 일부 제한이 있을 수 있으므로 상품 설명서를 꼭 확인하고 조건에 맞게 활용해야 합니다.'}\n"
     ]
    }
   ],
   "source": [
    "print(llm_chain.invoke({\"context\": \"\", \"query\": query}))"
   ]
  },
  {
   "cell_type": "code",
   "execution_count": null,
   "id": "5e2a47a3-39b1-4727-857e-f7720dac9702",
   "metadata": {},
   "outputs": [],
   "source": [
    "### LlamaIndexRetriever <-> Langchain "
   ]
  },
  {
   "cell_type": "code",
   "execution_count": 102,
   "id": "c5dc8bae-8b6f-4044-907f-6675db0fd32b",
   "metadata": {},
   "outputs": [],
   "source": [
    "desc_engine = desc_idx.as_retriever(retriever_mode=\"llm\")"
   ]
  },
  {
   "cell_type": "raw",
   "id": "66e2be79-ca69-44cb-b6ea-8942f0ef1950",
   "metadata": {},
   "source": [
    "from langchain.retrievers.llama_index import LlamaIndexRetriever"
   ]
  },
  {
   "cell_type": "raw",
   "id": "5d9012e1-f049-4738-97cd-4ae9ec80e8d6",
   "metadata": {
    "scrolled": true
   },
   "source": [
    "langchain_retriever = LlamaIndexRetriever(index=desc_engine)\n",
    "langchain_retriever"
   ]
  },
  {
   "cell_type": "raw",
   "id": "6dd56715-24f1-4dd7-b7a4-0cd2290ec927",
   "metadata": {},
   "source": [
    "rag_chain = ( \n",
    " {\"context\": langchain_retriever, \"question\": RunnablePassthrough()}\n",
    "    | llm_chain\n",
    ")"
   ]
  },
  {
   "cell_type": "raw",
   "id": "04325aae-55ad-4b5d-88cf-d0569491fd4f",
   "metadata": {},
   "source": [
    "rag_chain.invoke('렌탈 요금 청구 할인')"
   ]
  },
  {
   "cell_type": "code",
   "execution_count": null,
   "id": "38a45c1f-2478-4a87-9b04-8b0aa1f60654",
   "metadata": {},
   "outputs": [],
   "source": []
  }
 ],
 "metadata": {
  "kernelspec": {
   "display_name": "Python 3 (ipykernel)",
   "language": "python",
   "name": "python3"
  },
  "language_info": {
   "codemirror_mode": {
    "name": "ipython",
    "version": 3
   },
   "file_extension": ".py",
   "mimetype": "text/x-python",
   "name": "python",
   "nbconvert_exporter": "python",
   "pygments_lexer": "ipython3",
   "version": "3.10.13"
  }
 },
 "nbformat": 4,
 "nbformat_minor": 5
}
