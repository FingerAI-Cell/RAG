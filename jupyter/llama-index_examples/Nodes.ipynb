{
 "cells": [
  {
   "cell_type": "raw",
   "id": "9b414ab7-5db9-476c-acf5-02451190297a",
   "metadata": {},
   "source": [
    "Document -> Node 변환 "
   ]
  },
  {
   "cell_type": "code",
   "execution_count": 1,
   "id": "ee2c655b-f0e1-4aa3-99c1-e712328d9160",
   "metadata": {},
   "outputs": [],
   "source": [
    "from llama_index import Document, VectorStoreIndex, SimpleDirectoryReader, ServiceContext\n",
    "from llama_index.vector_stores import ChromaVectorStore\n",
    "from llama_index.readers.chroma import ChromaReader\n",
    "from llama_index.storage.storage_context import StorageContext\n",
    "# from transformers import AutoTokenizer, AutoModel\n",
    "from llama_index.embeddings import HuggingFaceEmbedding\n",
    "from llama_index.schema import MetadataMode\n",
    "from IPython.display import Markdown, display\n",
    "import chromadb\n",
    "import pandas as pd \n",
    "import openai\n",
    "import os\n",
    "import getpass"
   ]
  },
  {
   "cell_type": "code",
   "execution_count": 2,
   "id": "e6da96ee-ea8d-4edb-b906-e83cbe270692",
   "metadata": {},
   "outputs": [],
   "source": [
    "data_path = os.path.join('/workspace/data/')"
   ]
  },
  {
   "cell_type": "code",
   "execution_count": 3,
   "id": "40917aa5-dba7-453a-a846-d056f53f0872",
   "metadata": {},
   "outputs": [
    {
     "data": {
      "text/html": [
       "<div>\n",
       "<style scoped>\n",
       "    .dataframe tbody tr th:only-of-type {\n",
       "        vertical-align: middle;\n",
       "    }\n",
       "\n",
       "    .dataframe tbody tr th {\n",
       "        vertical-align: top;\n",
       "    }\n",
       "\n",
       "    .dataframe thead th {\n",
       "        text-align: right;\n",
       "    }\n",
       "</style>\n",
       "<table border=\"1\" class=\"dataframe\">\n",
       "  <thead>\n",
       "    <tr style=\"text-align: right;\">\n",
       "      <th></th>\n",
       "      <th>보증_고유키</th>\n",
       "      <th>상품설명</th>\n",
       "    </tr>\n",
       "  </thead>\n",
       "  <tbody>\n",
       "    <tr>\n",
       "      <th>0</th>\n",
       "      <td>보증_0</td>\n",
       "      <td>기업 전용 정기적금 상품</td>\n",
       "    </tr>\n",
       "  </tbody>\n",
       "</table>\n",
       "</div>"
      ],
      "text/plain": [
       "  보증_고유키           상품설명\n",
       "0   보증_0  기업 전용 정기적금 상품"
      ]
     },
     "execution_count": 3,
     "metadata": {},
     "output_type": "execute_result"
    }
   ],
   "source": [
    "data = pd.read_csv(os.path.join(data_path, 'financial', 'SHINHAN BANK_Financial_Product_Scraping_Result_20240104_DEPOSIT_vec.csv'))\n",
    "data.head(1)"
   ]
  },
  {
   "cell_type": "code",
   "execution_count": 4,
   "id": "0cb26cf5-21cf-485a-a717-c363ec03d845",
   "metadata": {},
   "outputs": [],
   "source": [
    "category = 'deposit'\n",
    "\n",
    "id_list = data.보증_고유키.values.tolist()\n",
    "desc_list = data.상품설명.values.tolist()"
   ]
  },
  {
   "cell_type": "code",
   "execution_count": 5,
   "id": "14a10b50-db84-4f03-9154-f5e890215137",
   "metadata": {},
   "outputs": [],
   "source": [
    "documents = []\n",
    "\n",
    "for idx in range(len(desc_list)):\n",
    "    doc = Document(text=desc_list[idx], doc_id=id_list[idx], metadata={\"category\": category}, excluded_llm_metadata_keys = ['category'])\n",
    "    documents.append(doc)"
   ]
  },
  {
   "cell_type": "code",
   "execution_count": 6,
   "id": "0d2c4dda-1718-4282-ad4d-6189dbd9f774",
   "metadata": {},
   "outputs": [
    {
     "name": "stdout",
     "output_type": "stream",
     "text": [
      "embedding model see this: category: deposit\n",
      "\n",
      "누구나 쉽게 이해하고 가입할 수 있는 정기예금 대표상품\n",
      "\n",
      "LLM see this: 누구나 쉽게 이해하고 가입할 수 있는 정기예금 대표상품\n"
     ]
    }
   ],
   "source": [
    "print(f'embedding model see this: {documents[2].get_content(metadata_mode=MetadataMode.EMBED)}', end='\\n\\n')\n",
    "print(f'LLM see this: {documents[2].get_content(metadata_mode=MetadataMode.LLM)}')"
   ]
  },
  {
   "cell_type": "markdown",
   "id": "2fb37346-b672-48ca-9101-fc679a2a42fe",
   "metadata": {},
   "source": [
    "#### 직접 노드 정의하기 "
   ]
  },
  {
   "cell_type": "code",
   "execution_count": 7,
   "id": "81f4ff2a-1a00-4e38-8c43-ccf08bc3d4bd",
   "metadata": {},
   "outputs": [],
   "source": [
    "from llama_index.schema import TextNode, NodeRelationship, RelatedNodeInfo"
   ]
  },
  {
   "cell_type": "code",
   "execution_count": 8,
   "id": "e287350c-5bf8-4e2c-9452-b699ee2652ef",
   "metadata": {},
   "outputs": [
    {
     "data": {
      "text/plain": [
       "['기업 전용 정기적금 상품', '복잡한 우대금리 조건 없이 쉽고 간편한 적금 상품']"
      ]
     },
     "execution_count": 8,
     "metadata": {},
     "output_type": "execute_result"
    }
   ],
   "source": [
    "desc_list[:2]"
   ]
  },
  {
   "cell_type": "code",
   "execution_count": 9,
   "id": "855db827-9d13-4528-a734-eab731d4989a",
   "metadata": {},
   "outputs": [],
   "source": [
    "node1 = TextNode(text='<text_chunk>', id_='<node_id>')\n",
    "node2 = TextNode(text='<text_chunk>', id_='<node_id>')"
   ]
  },
  {
   "cell_type": "code",
   "execution_count": 10,
   "id": "7e4d035c-9f7b-4d5d-9158-d8484752ed9f",
   "metadata": {},
   "outputs": [],
   "source": [
    "node1.relationships[NodeRelationship.NEXT] = RelatedNodeInfo(\n",
    "    node_id=node2.node_id\n",
    ")\n",
    "node2.relationships[NodeRelationship.PREVIOUS] = RelatedNodeInfo(\n",
    "    node_id=node1.node_id\n",
    ")\n",
    "\n",
    "nodes = [node1, node2]"
   ]
  },
  {
   "cell_type": "code",
   "execution_count": 11,
   "id": "9cc01cdc-7dc2-49da-b78e-a9a9bc102fe1",
   "metadata": {},
   "outputs": [],
   "source": [
    "node2.relationships[NodeRelationship.PARENT] = RelatedNodeInfo(\n",
    "    node_id=node1.node_id, metadata={'key': 'val'}\n",
    ")"
   ]
  },
  {
   "cell_type": "markdown",
   "id": "816dc8fe-a145-4a2f-a5db-781c2940ee8c",
   "metadata": {},
   "source": [
    "#### Node Parser 사용 "
   ]
  },
  {
   "cell_type": "code",
   "execution_count": 12,
   "id": "56f594f2-bbac-44f2-b85b-09213aa06758",
   "metadata": {},
   "outputs": [],
   "source": [
    "from llama_index.text_splitter import SentenceSplitter \n",
    "\n",
    "splitter = SentenceSplitter(\n",
    "    chunk_size=512, \n",
    "    chunk_overlap=20,   # number of characters to overlap between two chunks for preserving the semantic context in subsequent chunks \n",
    ")"
   ]
  },
  {
   "cell_type": "code",
   "execution_count": 13,
   "id": "e7934a6c-9c69-4cda-85c7-130a28c067ef",
   "metadata": {},
   "outputs": [],
   "source": [
    "nodes = splitter.get_nodes_from_documents(documents)"
   ]
  },
  {
   "cell_type": "code",
   "execution_count": 14,
   "id": "8a2be817-9344-42a0-ae3a-5ee29aac6a24",
   "metadata": {},
   "outputs": [
    {
     "data": {
      "text/plain": [
       "TextNode(id_='90dd965e-940a-459c-8446-745e919ce026', embedding=None, metadata={'category': 'deposit'}, excluded_embed_metadata_keys=[], excluded_llm_metadata_keys=['category'], relationships={<NodeRelationship.SOURCE: '1'>: RelatedNodeInfo(node_id='보증_0', node_type=<ObjectType.DOCUMENT: '4'>, metadata={'category': 'deposit'}, hash='2ecd58205351e819e0afa38f030f468fd516c3820082cf5f9fd15f569846d656'), <NodeRelationship.NEXT: '3'>: RelatedNodeInfo(node_id='1d475255-979e-4540-b2cf-c6e28f956084', node_type=<ObjectType.TEXT: '1'>, metadata={}, hash='35f2f0b6242fe666c5002acd9cc3722b0676152cd9973e45a062ac16ba45a687')}, hash='d86f9b0332ed973917c372f0aaa256a0937ddde44827e5fc20f7160a10a593e7', text='기업 전용 정기적금 상품', start_char_idx=0, end_char_idx=13, text_template='{metadata_str}\\n\\n{content}', metadata_template='{key}: {value}', metadata_seperator='\\n')"
      ]
     },
     "execution_count": 14,
     "metadata": {},
     "output_type": "execute_result"
    }
   ],
   "source": [
    "nodes[0]"
   ]
  },
  {
   "cell_type": "code",
   "execution_count": 15,
   "id": "2c053f7a-53af-48dd-9877-3ff49b3cc883",
   "metadata": {},
   "outputs": [
    {
     "data": {
      "text/plain": [
       "TextNode(id_='1d475255-979e-4540-b2cf-c6e28f956084', embedding=None, metadata={'category': 'deposit'}, excluded_embed_metadata_keys=[], excluded_llm_metadata_keys=['category'], relationships={<NodeRelationship.SOURCE: '1'>: RelatedNodeInfo(node_id='보증_1', node_type=<ObjectType.DOCUMENT: '4'>, metadata={'category': 'deposit'}, hash='bd3da67018372aeeba75cb39050e5c942755b5618b9dc56ee5d29c93d020f27a'), <NodeRelationship.PREVIOUS: '2'>: RelatedNodeInfo(node_id='90dd965e-940a-459c-8446-745e919ce026', node_type=<ObjectType.TEXT: '1'>, metadata={'category': 'deposit'}, hash='d86f9b0332ed973917c372f0aaa256a0937ddde44827e5fc20f7160a10a593e7'), <NodeRelationship.NEXT: '3'>: RelatedNodeInfo(node_id='ad7e49b2-179e-4b98-b045-547f68f1a9d3', node_type=<ObjectType.TEXT: '1'>, metadata={}, hash='b109485229c08a64655ca9fa6794291daab34ea8c57eed6290c166f9c12b2ae2')}, hash='35f2f0b6242fe666c5002acd9cc3722b0676152cd9973e45a062ac16ba45a687', text='복잡한 우대금리 조건 없이 쉽고 간편한 적금 상품', start_char_idx=0, end_char_idx=27, text_template='{metadata_str}\\n\\n{content}', metadata_template='{key}: {value}', metadata_seperator='\\n')"
      ]
     },
     "execution_count": 15,
     "metadata": {},
     "output_type": "execute_result"
    }
   ],
   "source": [
    "nodes[1]"
   ]
  },
  {
   "cell_type": "code",
   "execution_count": 16,
   "id": "9d93a250-313e-4802-9fd1-c901a46b5585",
   "metadata": {},
   "outputs": [
    {
     "data": {
      "text/plain": [
       "'90dd965e-940a-459c-8446-745e919ce026'"
      ]
     },
     "execution_count": 16,
     "metadata": {},
     "output_type": "execute_result"
    }
   ],
   "source": [
    "nodes[0].node_id"
   ]
  },
  {
   "cell_type": "code",
   "execution_count": 17,
   "id": "6b2141d1-817a-4f08-a95e-96da5f4885e3",
   "metadata": {},
   "outputs": [],
   "source": [
    "from llama_index.node_parser import SentenceWindowNodeParser "
   ]
  },
  {
   "cell_type": "code",
   "execution_count": 18,
   "id": "5b3d3ae6-def0-4e46-86c2-526c26bf734e",
   "metadata": {},
   "outputs": [],
   "source": [
    "node_parser = SentenceWindowNodeParser.from_defaults(\n",
    "    # how many sentences on either side to capture\n",
    "    window_size=3, \n",
    "    # the metadata key that holds the window of surrounding sentnces\n",
    "    window_metadata_key='window',\n",
    "    # the metadatakey that holds the original sentnce\n",
    "    original_text_metadata_key='original_sentence',\n",
    ")"
   ]
  },
  {
   "cell_type": "code",
   "execution_count": 19,
   "id": "21aeaca8-85fd-4514-b370-f17aa85d07dc",
   "metadata": {},
   "outputs": [],
   "source": [
    "window_nodes = node_parser.get_nodes_from_documents(documents)"
   ]
  },
  {
   "cell_type": "code",
   "execution_count": 20,
   "id": "83a0421e-af75-4c4f-ab5f-7f88e2bdfec1",
   "metadata": {},
   "outputs": [
    {
     "data": {
      "text/plain": [
       "TextNode(id_='72577f72-6d09-4cf7-bbff-1447caea0313', embedding=None, metadata={'window': '기업 전용 정기적금 상품', 'original_sentence': '기업 전용 정기적금 상품', 'category': 'deposit'}, excluded_embed_metadata_keys=['window', 'original_sentence'], excluded_llm_metadata_keys=['category', 'window', 'original_sentence'], relationships={<NodeRelationship.SOURCE: '1'>: RelatedNodeInfo(node_id='보증_0', node_type=<ObjectType.DOCUMENT: '4'>, metadata={'category': 'deposit'}, hash='2ecd58205351e819e0afa38f030f468fd516c3820082cf5f9fd15f569846d656'), <NodeRelationship.NEXT: '3'>: RelatedNodeInfo(node_id='d1235d94-0878-42ea-9ee4-0b165e582a67', node_type=<ObjectType.TEXT: '1'>, metadata={'window': '복잡한 우대금리 조건 없이 쉽고 간편한 적금 상품', 'original_sentence': '복잡한 우대금리 조건 없이 쉽고 간편한 적금 상품'}, hash='35f2f0b6242fe666c5002acd9cc3722b0676152cd9973e45a062ac16ba45a687')}, hash='d86f9b0332ed973917c372f0aaa256a0937ddde44827e5fc20f7160a10a593e7', text='기업 전용 정기적금 상품', start_char_idx=0, end_char_idx=13, text_template='{metadata_str}\\n\\n{content}', metadata_template='{key}: {value}', metadata_seperator='\\n')"
      ]
     },
     "execution_count": 20,
     "metadata": {},
     "output_type": "execute_result"
    }
   ],
   "source": [
    "window_nodes[0]"
   ]
  },
  {
   "cell_type": "code",
   "execution_count": 21,
   "id": "96b14941-6022-4313-be16-f22155a920fa",
   "metadata": {},
   "outputs": [
    {
     "data": {
      "text/plain": [
       "TextNode(id_='d1235d94-0878-42ea-9ee4-0b165e582a67', embedding=None, metadata={'window': '복잡한 우대금리 조건 없이 쉽고 간편한 적금 상품', 'original_sentence': '복잡한 우대금리 조건 없이 쉽고 간편한 적금 상품', 'category': 'deposit'}, excluded_embed_metadata_keys=['window', 'original_sentence'], excluded_llm_metadata_keys=['category', 'window', 'original_sentence'], relationships={<NodeRelationship.SOURCE: '1'>: RelatedNodeInfo(node_id='보증_1', node_type=<ObjectType.DOCUMENT: '4'>, metadata={'category': 'deposit'}, hash='bd3da67018372aeeba75cb39050e5c942755b5618b9dc56ee5d29c93d020f27a'), <NodeRelationship.PREVIOUS: '2'>: RelatedNodeInfo(node_id='72577f72-6d09-4cf7-bbff-1447caea0313', node_type=<ObjectType.TEXT: '1'>, metadata={'window': '기업 전용 정기적금 상품', 'original_sentence': '기업 전용 정기적금 상품', 'category': 'deposit'}, hash='d86f9b0332ed973917c372f0aaa256a0937ddde44827e5fc20f7160a10a593e7'), <NodeRelationship.NEXT: '3'>: RelatedNodeInfo(node_id='b0570588-2a21-47b5-bc67-b6b66d832cf8', node_type=<ObjectType.TEXT: '1'>, metadata={'window': '누구나 쉽게 이해하고 가입할 수 있는 정기예금 대표상품', 'original_sentence': '누구나 쉽게 이해하고 가입할 수 있는 정기예금 대표상품'}, hash='b109485229c08a64655ca9fa6794291daab34ea8c57eed6290c166f9c12b2ae2')}, hash='35f2f0b6242fe666c5002acd9cc3722b0676152cd9973e45a062ac16ba45a687', text='복잡한 우대금리 조건 없이 쉽고 간편한 적금 상품', start_char_idx=0, end_char_idx=27, text_template='{metadata_str}\\n\\n{content}', metadata_template='{key}: {value}', metadata_seperator='\\n')"
      ]
     },
     "execution_count": 21,
     "metadata": {},
     "output_type": "execute_result"
    }
   ],
   "source": [
    "window_nodes[1]"
   ]
  },
  {
   "cell_type": "code",
   "execution_count": 22,
   "id": "d3ff2c59-0762-4ff4-9802-f1eea94ef493",
   "metadata": {},
   "outputs": [
    {
     "data": {
      "text/plain": [
       "TextNode(id_='b0570588-2a21-47b5-bc67-b6b66d832cf8', embedding=None, metadata={'window': '누구나 쉽게 이해하고 가입할 수 있는 정기예금 대표상품', 'original_sentence': '누구나 쉽게 이해하고 가입할 수 있는 정기예금 대표상품', 'category': 'deposit'}, excluded_embed_metadata_keys=['window', 'original_sentence'], excluded_llm_metadata_keys=['category', 'window', 'original_sentence'], relationships={<NodeRelationship.SOURCE: '1'>: RelatedNodeInfo(node_id='보증_2', node_type=<ObjectType.DOCUMENT: '4'>, metadata={'category': 'deposit'}, hash='2fd7834cc67c7eb2ea30cd4417fe229865502e0d0ad63320d28909fe95700f5c'), <NodeRelationship.PREVIOUS: '2'>: RelatedNodeInfo(node_id='d1235d94-0878-42ea-9ee4-0b165e582a67', node_type=<ObjectType.TEXT: '1'>, metadata={'window': '복잡한 우대금리 조건 없이 쉽고 간편한 적금 상품', 'original_sentence': '복잡한 우대금리 조건 없이 쉽고 간편한 적금 상품', 'category': 'deposit'}, hash='35f2f0b6242fe666c5002acd9cc3722b0676152cd9973e45a062ac16ba45a687'), <NodeRelationship.NEXT: '3'>: RelatedNodeInfo(node_id='78a736f2-5d2f-4e69-9d0c-dfbbd52fd4bc', node_type=<ObjectType.TEXT: '1'>, metadata={'window': '중견기업 등에 대해서 우대금리 및 우대서비스를 제공하는 상품으로, 결제성 자금의 일시예치 및 여유자금의 단기적 운용 목적으로 적합', 'original_sentence': '중견기업 등에 대해서 우대금리 및 우대서비스를 제공하는 상품으로, 결제성 자금의 일시예치 및 여유자금의 단기적 운용 목적으로 적합'}, hash='a983a2f41a482371c3aeeb9dc72c0044421c6a8cd0114e766c8219a6832ec5eb')}, hash='b109485229c08a64655ca9fa6794291daab34ea8c57eed6290c166f9c12b2ae2', text='누구나 쉽게 이해하고 가입할 수 있는 정기예금 대표상품', start_char_idx=0, end_char_idx=30, text_template='{metadata_str}\\n\\n{content}', metadata_template='{key}: {value}', metadata_seperator='\\n')"
      ]
     },
     "execution_count": 22,
     "metadata": {},
     "output_type": "execute_result"
    }
   ],
   "source": [
    "window_nodes[2]"
   ]
  },
  {
   "cell_type": "raw",
   "id": "d92f401a-e3da-47be-b3b8-0270bbc1ea2e",
   "metadata": {},
   "source": [
    "* WindowNodeParser는 주로 Metadata ReplacementPostProcessor와 같이 사용\n",
    "** 이런 NodeParser 이외에도, 두 문장간 유사도가 달라질 때 사용하는 SemanticSplitterNodeParser, TokenTextSplitter, HierarchicalNodeParser, \n",
    "JSONNodeParser, CodeSplitter 등 여러 Node Parser 존재함 "
   ]
  },
  {
   "cell_type": "markdown",
   "id": "0eb9bd4b-b98e-4b32-b211-2fd06d03e30c",
   "metadata": {},
   "source": [
    "#### IngestionPipeline 활용 "
   ]
  },
  {
   "cell_type": "code",
   "execution_count": 23,
   "id": "5409c790-7563-4a4e-967d-d179e494164c",
   "metadata": {
    "scrolled": true
   },
   "outputs": [],
   "source": [
    "from llama_index.text_splitter import SentenceSplitter\n",
    "from llama_index.extractors import TitleExtractor \n",
    "from llama_index.embeddings import OpenAIEmbedding\n",
    "from llama_index.schema import TransformComponent\n",
    "from llama_index.ingestion import IngestionPipeline"
   ]
  },
  {
   "cell_type": "code",
   "execution_count": 25,
   "id": "23f04701-ec72-4ca0-90d1-53f2cbbc297c",
   "metadata": {},
   "outputs": [
    {
     "name": "stdin",
     "output_type": "stream",
     "text": [
      "OpenAI API Key: ········\n"
     ]
    }
   ],
   "source": [
    "os.environ[\"OPENAI_API_KEY\"] = getpass.getpass(\"OpenAI API Key:\")\n",
    "openai.api_key = os.environ[\"OPENAI_API_KEY\"]"
   ]
  },
  {
   "cell_type": "code",
   "execution_count": 26,
   "id": "d31f3f61-7593-450c-932b-f1f8f164c76b",
   "metadata": {},
   "outputs": [],
   "source": [
    "import re \n",
    "\n",
    "class TextCleaner(TransformComponent):\n",
    "    def __call__(self, nodes, **kwargs):\n",
    "        try:\n",
    "            assert nodes is not NULL\n",
    "        except:\n",
    "            return nodes\n",
    "            \n",
    "        for node in nodes:\n",
    "            try:\n",
    "                node.text = re.sub(r'[^0-9a-zA-Zㄱ-ㅣ가-힣 ]', '', node.text)\n",
    "            except:\n",
    "                continue "
   ]
  },
  {
   "cell_type": "code",
   "execution_count": 27,
   "id": "b3baec96-6a73-40e5-8280-c9659c1b1fab",
   "metadata": {},
   "outputs": [],
   "source": [
    "node_parser = SentenceSplitter(chunk_size=512, chunk_overlap=30)\n",
    "extractor = TitleExtractor()"
   ]
  },
  {
   "cell_type": "raw",
   "id": "0d24f632-f654-4255-9b1a-d0de57317fdc",
   "metadata": {},
   "source": [
    "from llama_index.embeddings import HuggingFaceEmbedding\n",
    "\n",
    "model_name = 'kakaobank/kf-deberta-base'\n",
    "embed_model = HuggingFaceEmbedding(model_name=model_name)"
   ]
  },
  {
   "cell_type": "code",
   "execution_count": 28,
   "id": "f73d4705-bbf8-4752-bb78-b9e6c5e9216b",
   "metadata": {},
   "outputs": [],
   "source": [
    "pipeline = IngestionPipeline(\n",
    "    transformations=[\n",
    "        node_parser,\n",
    "        TextCleaner(), \n",
    "        # OpenAIEmbedding(),   # Node 임베딩 값 계산\n",
    "    ],\n",
    ")"
   ]
  },
  {
   "cell_type": "code",
   "execution_count": 29,
   "id": "efe00340-975a-4bed-8a8e-1cc96c7e2564",
   "metadata": {},
   "outputs": [
    {
     "data": {
      "text/plain": [
       "{'filename': 'README.md', 'category': 'codebase'}"
      ]
     },
     "execution_count": 29,
     "metadata": {},
     "output_type": "execute_result"
    }
   ],
   "source": [
    "Document.example().metadata"
   ]
  },
  {
   "cell_type": "code",
   "execution_count": 30,
   "id": "d8e3893e-440a-439b-b053-dc847b4a5ae5",
   "metadata": {
    "scrolled": true
   },
   "outputs": [
    {
     "data": {
      "text/plain": [
       "TextNode(id_='391a3217-cd94-497f-bd85-c18d97bf43ce', embedding=None, metadata={'category': 'deposit'}, excluded_embed_metadata_keys=[], excluded_llm_metadata_keys=['category'], relationships={<NodeRelationship.SOURCE: '1'>: RelatedNodeInfo(node_id='보증_1', node_type=<ObjectType.DOCUMENT: '4'>, metadata={'category': 'deposit'}, hash='bd3da67018372aeeba75cb39050e5c942755b5618b9dc56ee5d29c93d020f27a'), <NodeRelationship.PREVIOUS: '2'>: RelatedNodeInfo(node_id='09987cbc-4252-4144-a9dd-d8d69e61daa5', node_type=<ObjectType.TEXT: '1'>, metadata={'category': 'deposit'}, hash='d86f9b0332ed973917c372f0aaa256a0937ddde44827e5fc20f7160a10a593e7'), <NodeRelationship.NEXT: '3'>: RelatedNodeInfo(node_id='12437f58-00f5-4c21-b021-28a7e3616c00', node_type=<ObjectType.TEXT: '1'>, metadata={}, hash='b109485229c08a64655ca9fa6794291daab34ea8c57eed6290c166f9c12b2ae2')}, hash='35f2f0b6242fe666c5002acd9cc3722b0676152cd9973e45a062ac16ba45a687', text='복잡한 우대금리 조건 없이 쉽고 간편한 적금 상품', start_char_idx=0, end_char_idx=27, text_template='{metadata_str}\\n\\n{content}', metadata_template='{key}: {value}', metadata_seperator='\\n')"
      ]
     },
     "execution_count": 30,
     "metadata": {},
     "output_type": "execute_result"
    }
   ],
   "source": [
    "nodes = pipeline.run(documents=documents[:4])\n",
    "nodes[1]"
   ]
  },
  {
   "cell_type": "code",
   "execution_count": 31,
   "id": "b72112c1-7cef-425e-9e77-2b866db4058e",
   "metadata": {},
   "outputs": [],
   "source": [
    "pipeline = IngestionPipeline(\n",
    "    transformations=[\n",
    "        node_parser,\n",
    "        TextCleaner(), \n",
    "        # embed_model,\n",
    "    ],\n",
    ")"
   ]
  },
  {
   "cell_type": "code",
   "execution_count": 32,
   "id": "26589f68-ecbd-47ec-afeb-71c25ff8a795",
   "metadata": {},
   "outputs": [
    {
     "data": {
      "text/plain": [
       "TextNode(id_='91986bcd-10d9-464c-9d4c-f7b9a4f6136f', embedding=None, metadata={'category': 'deposit'}, excluded_embed_metadata_keys=[], excluded_llm_metadata_keys=['category'], relationships={<NodeRelationship.SOURCE: '1'>: RelatedNodeInfo(node_id='보증_1', node_type=<ObjectType.DOCUMENT: '4'>, metadata={'category': 'deposit'}, hash='bd3da67018372aeeba75cb39050e5c942755b5618b9dc56ee5d29c93d020f27a'), <NodeRelationship.PREVIOUS: '2'>: RelatedNodeInfo(node_id='082b613f-a498-4804-8035-0254e09fee0b', node_type=<ObjectType.TEXT: '1'>, metadata={'category': 'deposit'}, hash='d86f9b0332ed973917c372f0aaa256a0937ddde44827e5fc20f7160a10a593e7'), <NodeRelationship.NEXT: '3'>: RelatedNodeInfo(node_id='daebaccb-1e2a-4b04-9736-ae260fa4924e', node_type=<ObjectType.TEXT: '1'>, metadata={}, hash='b109485229c08a64655ca9fa6794291daab34ea8c57eed6290c166f9c12b2ae2')}, hash='35f2f0b6242fe666c5002acd9cc3722b0676152cd9973e45a062ac16ba45a687', text='복잡한 우대금리 조건 없이 쉽고 간편한 적금 상품', start_char_idx=0, end_char_idx=27, text_template='{metadata_str}\\n\\n{content}', metadata_template='{key}: {value}', metadata_seperator='\\n')"
      ]
     },
     "execution_count": 32,
     "metadata": {},
     "output_type": "execute_result"
    }
   ],
   "source": [
    "nodes = pipeline.run(documents=documents[:4])\n",
    "nodes[1]"
   ]
  },
  {
   "cell_type": "code",
   "execution_count": null,
   "id": "cf61e40e-2de6-4c76-9154-ee54eb2caa5a",
   "metadata": {},
   "outputs": [],
   "source": []
  },
  {
   "cell_type": "code",
   "execution_count": null,
   "id": "20e83aae-9396-4f5c-b731-1cd8918ac317",
   "metadata": {},
   "outputs": [],
   "source": []
  }
 ],
 "metadata": {
  "kernelspec": {
   "display_name": "Python 3 (ipykernel)",
   "language": "python",
   "name": "python3"
  },
  "language_info": {
   "codemirror_mode": {
    "name": "ipython",
    "version": 3
   },
   "file_extension": ".py",
   "mimetype": "text/x-python",
   "name": "python",
   "nbconvert_exporter": "python",
   "pygments_lexer": "ipython3",
   "version": "3.10.13"
  }
 },
 "nbformat": 4,
 "nbformat_minor": 5
}
