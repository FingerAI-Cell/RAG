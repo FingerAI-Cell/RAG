{
 "cells": [
  {
   "cell_type": "code",
   "execution_count": 11,
   "id": "56da32a9-9e82-439c-a15f-8ee11a3e1d55",
   "metadata": {},
   "outputs": [],
   "source": [
    "import chromadb\n",
    "import pandas as pd \n",
    "import openai\n",
    "import os\n",
    "import getpass\n",
    "from llama_index import VectorStoreIndex, SimpleDirectoryReader, ServiceContext\n",
    "from llama_index.vector_stores import ChromaVectorStore\n",
    "from llama_index.readers.chroma import ChromaReader\n",
    "from llama_index import StorageContext, load_index_from_storage, load_indices_from_storage\n",
    "# from transformers import AutoTokenizer, AutoModel\n",
    "from llama_index.embeddings import HuggingFaceEmbedding\n",
    "from llama_index.llms import HuggingFaceLLM\n",
    "from llama_index.node_parser import SentenceSplitter \n",
    "from llama_index.schema import MetadataMode\n",
    "from IPython.display import Markdown, display\n",
    "from llama_index import VectorStoreIndex, SimpleDirectoryReader, ServiceContext\n",
    "from llama_index.llms import OpenAI\n",
    "from llama_index.prompts import PromptTemplate"
   ]
  },
  {
   "cell_type": "code",
   "execution_count": 4,
   "id": "6cbda33e-c2aa-4286-b08e-896bfdd04313",
   "metadata": {},
   "outputs": [],
   "source": [
    "data_path = os.path.join('/workspace/data/')\n",
    "index_path = os.path.join('/workspace/db/local')"
   ]
  },
  {
   "cell_type": "code",
   "execution_count": 5,
   "id": "f8ebb9ee-aa79-4336-b24a-7dfc6d64769c",
   "metadata": {},
   "outputs": [
    {
     "name": "stdin",
     "output_type": "stream",
     "text": [
      "OpenAI API Key: ········\n"
     ]
    }
   ],
   "source": [
    "os.environ[\"OPENAI_API_KEY\"] = getpass.getpass(\"OpenAI API Key:\")\n",
    "openai.api_key = os.environ[\"OPENAI_API_KEY\"]"
   ]
  },
  {
   "cell_type": "code",
   "execution_count": 6,
   "id": "febb4be3-3047-447a-b13d-b5e62e6883da",
   "metadata": {},
   "outputs": [],
   "source": [
    "model_name = 'kakaobank/kf-deberta-base'\n",
    "embed_model = HuggingFaceEmbedding(model_name=model_name)"
   ]
  },
  {
   "cell_type": "code",
   "execution_count": 7,
   "id": "7842de7e-bc6e-47f2-b347-07f10027ab15",
   "metadata": {},
   "outputs": [],
   "source": [
    "desc_storage_context = StorageContext.from_defaults(persist_dir=os.path.join(index_path, 'desc'))\n",
    "features_storage_context = StorageContext.from_defaults(persist_dir=os.path.join(index_path, 'features'))\n",
    "qualification_storage_context = StorageContext.from_defaults(persist_dir=os.path.join(index_path, 'qualification'))"
   ]
  },
  {
   "cell_type": "code",
   "execution_count": 8,
   "id": "98a4e846-e8e5-40f9-be84-aa7e95f00fef",
   "metadata": {},
   "outputs": [],
   "source": [
    "parser = SentenceSplitter(chunk_size=512, chunk_overlap=30)   # SentenceSplitter(chunk_size=1024, chunk_overlap=20)"
   ]
  },
  {
   "cell_type": "code",
   "execution_count": 9,
   "id": "720312b7-db6d-442a-b3d1-763142338bc6",
   "metadata": {},
   "outputs": [
    {
     "name": "stdout",
     "output_type": "stream",
     "text": [
      "LLM is explicitly disabled. Using MockLLM.\n"
     ]
    }
   ],
   "source": [
    "service_context = ServiceContext.from_defaults(node_parser=parser, embed_model=embed_model, llm=None)"
   ]
  },
  {
   "cell_type": "code",
   "execution_count": 10,
   "id": "743de293-595c-42ec-a2f8-acd297e63a7c",
   "metadata": {},
   "outputs": [],
   "source": [
    "# service_context 전달 안해주면 query 시 dimension 오류 발생 \n",
    "features_idx = load_index_from_storage(features_storage_context, index_id='loan_tmp', service_context=service_context)\n",
    "desc_idx = load_indices_from_storage(desc_storage_context, index_ids=['card_tmp', 'loan_tmp', 'deposit_tmp'], service_context=service_context)\n",
    "qualification_idx = load_index_from_storage(qualification_storage_context, index_id='loan_tmp', service_context=service_context)"
   ]
  },
  {
   "cell_type": "raw",
   "id": "70d525ac-0f1f-43fb-a434-3c5fc8508fa7",
   "metadata": {},
   "source": [
    "query_engine = desc_idx[0].as_query_engine()\n",
    "print(query_engine.query('서울 시민이 신청 가능한 카드는 뭐야').response)"
   ]
  },
  {
   "cell_type": "code",
   "execution_count": 14,
   "id": "89df7a45-d10f-4e2d-8213-8ac22d309527",
   "metadata": {},
   "outputs": [],
   "source": [
    "template = (\n",
    "    \"사용자 쿼리와 유사한 문맥 정보는 다음과 같아. \\n\"\n",
    "    \"---------------------\\n\"\n",
    "    \"{context_str}\"\n",
    "    \"\\n---------------------\\n\"\n",
    "    \"주어진 문맥 정보를 바탕으로, 사용자 질문에 대답해줘: {query_str}\\n\"\n",
    "    \"대답은 한국어로 하고, 주어진 문맥이 별로 도움되지 않는다면, 너가 대답을 만들어줘\"\n",
    ")\n",
    "qa_template = PromptTemplate(template)"
   ]
  },
  {
   "cell_type": "code",
   "execution_count": 31,
   "id": "c50771e6-669c-4e63-a1b1-914c7d74aa33",
   "metadata": {},
   "outputs": [],
   "source": [
    "query = \"서울 시민이 신청 가능한 카드는 뭐야\"\n",
    "context = \"서울시민카드\""
   ]
  },
  {
   "cell_type": "code",
   "execution_count": 32,
   "id": "f6397219-1be4-4a43-a3bb-1375bb2f5444",
   "metadata": {},
   "outputs": [],
   "source": [
    "messages = qa_template.format_messages(context_str=context, query_str=query)"
   ]
  },
  {
   "cell_type": "code",
   "execution_count": 33,
   "id": "0cecc97c-5713-42f6-bd7d-b22278d391ad",
   "metadata": {},
   "outputs": [
    {
     "name": "stdout",
     "output_type": "stream",
     "text": [
      "[ChatMessage(role=<MessageRole.USER: 'user'>, content='사용자 쿼리와 유사한 문맥 정보는 다음과 같아. \\n---------------------\\n서울시민카드\\n---------------------\\n주어진 문맥 정보를 바탕으로, 사용자 질문에 대답해줘: 서울 시민이 신청 가능한 카드는 뭐야\\n대답은 한국어로 하고, 주어진 문맥이 별로 도움되지 않는다면, 너가 대답을 만들어줘', additional_kwargs={})]\n"
     ]
    }
   ],
   "source": [
    "print(messages)"
   ]
  },
  {
   "cell_type": "code",
   "execution_count": 34,
   "id": "48ffccf1-001d-4489-9709-113578c844ee",
   "metadata": {},
   "outputs": [],
   "source": [
    "llm_service = ServiceContext.from_defaults()"
   ]
  },
  {
   "cell_type": "code",
   "execution_count": 35,
   "id": "c64d6cb6-953d-4dbf-a613-918657084b97",
   "metadata": {},
   "outputs": [
    {
     "name": "stdout",
     "output_type": "stream",
     "text": [
      "서울 시민이 신청 가능한 카드는 마이너스통장과 체크카드가 결합된 신용대출 상품입니다.\n"
     ]
    }
   ],
   "source": [
    "query_engine = features_idx.as_query_engine(service_context=llm_service)\n",
    "print(query_engine.query(query).response)"
   ]
  },
  {
   "cell_type": "code",
   "execution_count": 19,
   "id": "6481f26e-9e4e-46ae-8b7a-16fb0a8a795d",
   "metadata": {},
   "outputs": [
    {
     "name": "stdout",
     "output_type": "stream",
     "text": [
      "dict_keys(['response_synthesizer:text_qa_template', 'response_synthesizer:refine_template'])\n"
     ]
    }
   ],
   "source": [
    "# query engine의 pr\n",
    "prompts_dict = query_engine.get_prompts()\n",
    "print(prompts_dict.keys())"
   ]
  },
  {
   "cell_type": "code",
   "execution_count": 20,
   "id": "694e1d41-034d-413f-83dc-d1511b7e78c2",
   "metadata": {},
   "outputs": [],
   "source": [
    "query_engine.update_prompts(\n",
    "    {\"response_synthesizer:text_qa_template\": qa_template}\n",
    ")"
   ]
  },
  {
   "cell_type": "code",
   "execution_count": 21,
   "id": "d87a0a6d-cb02-4d09-b3ea-f2588de2f167",
   "metadata": {},
   "outputs": [
    {
     "name": "stdout",
     "output_type": "stream",
     "text": [
      "{'response_synthesizer:text_qa_template': PromptTemplate(metadata={'prompt_type': <PromptType.CUSTOM: 'custom'>}, template_vars=['context_str', 'query_str'], kwargs={}, output_parser=None, template_var_mappings=None, function_mappings=None, template='사용자 쿼리와 유사한 문맥 정보는 다음과 같아. \\n---------------------\\n{context_str}\\n---------------------\\n주어진 문맥 정보를 바탕으로, 사용자 질문에 대답해줘: {query_str}\\n대답은 한국어로 하고, 주어진 문맥이 별로 도움되지 않는다면, 너가 대답을 만들어줘'), 'response_synthesizer:refine_template': SelectorPromptTemplate(metadata={'prompt_type': <PromptType.REFINE: 'refine'>}, template_vars=['query_str', 'existing_answer', 'context_msg'], kwargs={}, output_parser=None, template_var_mappings={}, function_mappings={}, default_template=PromptTemplate(metadata={'prompt_type': <PromptType.REFINE: 'refine'>}, template_vars=['query_str', 'existing_answer', 'context_msg'], kwargs={}, output_parser=None, template_var_mappings=None, function_mappings=None, template=\"The original query is as follows: {query_str}\\nWe have provided an existing answer: {existing_answer}\\nWe have the opportunity to refine the existing answer (only if needed) with some more context below.\\n------------\\n{context_msg}\\n------------\\nGiven the new context, refine the original answer to better answer the query. If the context isn't useful, return the original answer.\\nRefined Answer: \"), conditionals=[(<function is_chat_model at 0x7f2a5bfa5480>, ChatPromptTemplate(metadata={'prompt_type': <PromptType.CUSTOM: 'custom'>}, template_vars=['context_msg', 'query_str', 'existing_answer'], kwargs={}, output_parser=None, template_var_mappings=None, function_mappings=None, message_templates=[ChatMessage(role=<MessageRole.USER: 'user'>, content=\"You are an expert Q&A system that strictly operates in two modes when refining existing answers:\\n1. **Rewrite** an original answer using the new context.\\n2. **Repeat** the original answer if the new context isn't useful.\\nNever reference the original answer or context directly in your answer.\\nWhen in doubt, just repeat the original answer.New Context: {context_msg}\\nQuery: {query_str}\\nOriginal Answer: {existing_answer}\\nNew Answer: \", additional_kwargs={})]))])}\n"
     ]
    }
   ],
   "source": [
    "# query engine의 pr\n",
    "prompts_dict = query_engine.get_prompts()\n",
    "print(prompts_dict)"
   ]
  },
  {
   "cell_type": "code",
   "execution_count": 22,
   "id": "10c2e9be-a271-4a8f-a516-ab6f6ade595a",
   "metadata": {},
   "outputs": [
    {
     "name": "stdout",
     "output_type": "stream",
     "text": [
      "서울 시민이 신청 가능한 카드는 다양합니다. 하지만 주어진 문맥 정보에서는 카드에 대한 구체적인 언급이 없으므로, 다음은 일반적으로 서울 시민이 신청 가능한 카드의 종류입니다:\n",
      "\n",
      "1. 신용카드: 대부분의 은행과 카드사에서 서울 시민을 대상으로 신용카드를 제공하고 있습니다. 신용카드는 소득과 신용 등의 조건을 충족하면 신청할 수 있습니다.\n",
      "\n",
      "2. 체크카드: 서울 시민은 은행에서 제공하는 체크카드를 신청할 수 있습니다. 체크카드는 신용카드와 달리 결제 시 사용자의 계좌에서 직접 금액이 차감되는 형태의 카드입니다.\n",
      "\n",
      "3. 마이너스통장과 체크카드 결합 상품: 잔고가 없어도 최대 2천만원까지 결재가 가능한 마이너스통장과 체크카드가 결합된 신용대출 상품이 있습니다. 이 상품은 서울 시민도 신청 가능합니다.\n",
      "\n",
      "서울 시민이 카드를 신청할 때는 해당 은행이나 카드사의 신청 조건과 절차를 확인하시는 것이 좋습니다.\n"
     ]
    }
   ],
   "source": [
    "print(query_engine.query(query))"
   ]
  },
  {
   "cell_type": "code",
   "execution_count": 23,
   "id": "5ac3f128-6684-4fc8-8911-8fbe0e9769fe",
   "metadata": {},
   "outputs": [],
   "source": [
    "from llama_index.llms import ChatMessage, MessageRole\n",
    "from llama_index.prompts import ChatPromptTemplate\n",
    "\n",
    "# Text QA Prompt\n",
    "chat_text_qa_msgs = [\n",
    "    ChatMessage(\n",
    "        role=MessageRole.SYSTEM,\n",
    "        content=(\n",
    "            \"주어진 문맥 정보가 유용하지 않더라도 항상 사용자 발화에 대답해줘\"\n",
    "        ),\n",
    "    ),\n",
    "    ChatMessage(\n",
    "        role=MessageRole.USER,\n",
    "        content=(\n",
    "            \"사용자 쿼리와 유사한 문맥 정보는 다음과 같아. \\n\"\n",
    "            \"---------------------\\n\"\n",
    "            \"{context_str}\"\n",
    "            \"\\n---------------------\\n\"\n",
    "            \"주어진 문맥 정보를 바탕으로, 사용자 질문에 대답해줘: {query_str}\\n\"\n",
    "            \"대답은 한국어로 하고, 주어진 문맥이 별로 도움되지 않는다면, 너가 대답을 만들어줘\"\n",
    "        ),\n",
    "    ),\n",
    "]\n",
    "text_qa_template = ChatPromptTemplate(chat_text_qa_msgs)"
   ]
  },
  {
   "cell_type": "code",
   "execution_count": 24,
   "id": "7da19deb-f0be-4e2a-90f9-c1679b0df150",
   "metadata": {},
   "outputs": [],
   "source": [
    "chat_refine_msgs = [\n",
    "    ChatMessage(\n",
    "        role=MessageRole.SYSTEM,\n",
    "        content=(\n",
    "            \"주어진 문맥 정보가 유용하지 않더라도 항상 사용자 발화에 대답해줘\"\n",
    "        ),\n",
    "    ),\n",
    "    ChatMessage(\n",
    "        role=MessageRole.USER,\n",
    "        content=(\n",
    "            \"우리는 기존 대답을 정제할 기회가 있어\"\n",
    "            \"(꼭 필요한 경우에만) 다음 추가 문맥 정보를 사용해서.\\n\"\n",
    "            \"------------\\n\"\n",
    "            \"{context_msg}\\n\"\n",
    "            \"------------\\n\"\n",
    "            \"새로운 문맥 정보가 주어졌을 때, 기존 대답을 보다 낫게 정제해봐\"\n",
    "            \"대답해야 할 사용자 발화는 이거야: {query_str}. \"\n",
    "            \"추가로 주어진 문맥 정보가 유용하지 않다면, 기존 대답을 출력해줘.\\n\"\n",
    "            \"기존 대답: {existing_answer}\"\n",
    "        ),\n",
    "    ),\n",
    "]\n",
    "refine_template = ChatPromptTemplate(chat_refine_msgs)"
   ]
  },
  {
   "cell_type": "code",
   "execution_count": 25,
   "id": "243e1f1c-ea88-4af8-a670-a7779bbe5d32",
   "metadata": {},
   "outputs": [
    {
     "name": "stdout",
     "output_type": "stream",
     "text": [
      "서울 시민이 신청 가능한 카드는 여러 종류가 있습니다. 예를 들어, 서울 시민이라면 서울시에서 제공하는 서울시민카드를 신청할 수 있습니다. 또한, 서울에 위치한 은행들의 신용카드나 체크카드도 신청할 수 있습니다. 하지만, 정확한 카드 종류를 알려드리기 위해서는 더 구체적인 정보가 필요합니다. 어떤 종류의 카드를 찾고 계신가요?\n"
     ]
    }
   ],
   "source": [
    "print(\n",
    "    features_idx.as_query_engine(\n",
    "        service_context=llm_service, text_qa_template=text_qa_template, refine_template=refine_template\n",
    "    ).query(query)\n",
    ")"
   ]
  },
  {
   "cell_type": "code",
   "execution_count": 26,
   "id": "201aa83d-4e4a-489a-a442-0bdca25f90cf",
   "metadata": {},
   "outputs": [],
   "source": [
    "tone_qa_template = text_qa_template.partial_format(tone_name='할머니')"
   ]
  },
  {
   "cell_type": "code",
   "execution_count": 30,
   "id": "cd5b3b79-7848-42ce-9555-ab40566195f8",
   "metadata": {},
   "outputs": [
    {
     "name": "stdout",
     "output_type": "stream",
     "text": [
      "서울 시민이 신청 가능한 카드는 여러 종류가 있습니다. 예를 들어, 서울 시민이라면 서울시에서 발급하는 서울시민카드를 신청할 수 있습니다. 또한, 서울에 위치한 은행들이 제공하는 다양한 신용카드 상품도 신청할 수 있습니다. 이 외에도 서울 시민을 대상으로 한 특별한 카드 상품이 있을 수 있으니, 원하시는 카드의 세부 사항을 알려주시면 더 자세한 도움을 드릴 수 있습니다.\n"
     ]
    }
   ],
   "source": [
    "print(\n",
    "    features_idx.as_query_engine(\n",
    "        service_context=llm_service, text_qa_template=tone_qa_template, refine_template=refine_template\n",
    "    ).query(query)\n",
    ")"
   ]
  },
  {
   "cell_type": "code",
   "execution_count": 28,
   "id": "cbb45f83-d98c-4b31-91d8-883b156438d4",
   "metadata": {},
   "outputs": [],
   "source": [
    "query_engine.update_prompts(\n",
    "    {\"response_synthesizer:text_qa_template\": tone_qa_template}\n",
    ")"
   ]
  },
  {
   "cell_type": "code",
   "execution_count": 29,
   "id": "ac887109-e52d-469c-967d-e38ada2ba34b",
   "metadata": {},
   "outputs": [
    {
     "name": "stdout",
     "output_type": "stream",
     "text": [
      "서울 시민이 신청 가능한 카드는 다양합니다. 예를 들어, 서울 시민이라면 서울시에서 제공하는 서울시민카드를 신청할 수 있습니다. 또한, 서울에 위치한 은행들의 신용카드나 체크카드도 신청할 수 있습니다. 하지만, 주어진 문맥 정보에서는 어떤 카드가 가장 적합한지 알 수 없습니다. 따라서, 신용카드나 체크카드를 신청하기 전에 서울시에서 제공하는 혜택이나 서비스를 확인해보시는 것이 좋을 것 같습니다.\n"
     ]
    }
   ],
   "source": [
    "print(query_engine.query(query))"
   ]
  },
  {
   "cell_type": "code",
   "execution_count": null,
   "id": "00279adf-3f80-467e-827b-e87145099633",
   "metadata": {},
   "outputs": [],
   "source": [
    "from transformers import AutoTokenizer\n",
    "tokenizer = AutoTokenizer.from_pretrained(\"mistralai/Mistral-7B-Instruct-v0.1\")\n",
    "messages = [\n",
    "{\"role\": \"user\", \"content\": \"bbbbbb\"},\n",
    "{\"role\": \"assistant\", \"content\" : \"aaaaa\"},\n",
    "{\"role\": \"user\", \"content\" : \"bbbb\"},\n",
    "{\"role\": \"assistant\", \"content\" : \"aaaaa\"},\n",
    "{\"role\": \"user\", \"content\" : \"bbbbb\"},\n",
    "{\"role\": \"assistant\", \"content\" : \"aaaaa\"}\n",
    "]\n",
    "prompt = tokenizer.apply_chat_template(messages, tokenize=False)\n",
    "print(prompt)"
   ]
  }
 ],
 "metadata": {
  "kernelspec": {
   "display_name": "Python 3 (ipykernel)",
   "language": "python",
   "name": "python3"
  },
  "language_info": {
   "codemirror_mode": {
    "name": "ipython",
    "version": 3
   },
   "file_extension": ".py",
   "mimetype": "text/x-python",
   "name": "python",
   "nbconvert_exporter": "python",
   "pygments_lexer": "ipython3",
   "version": "3.10.13"
  }
 },
 "nbformat": 4,
 "nbformat_minor": 5
}
